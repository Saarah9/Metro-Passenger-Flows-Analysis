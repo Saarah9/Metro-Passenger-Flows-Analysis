{
 "cells": [
  {
   "cell_type": "markdown",
   "id": "bcea4d51",
   "metadata": {},
   "source": [
    "In any large, dynamically developing city, the problem of organizing a public transport system is acute. One of the most successful solutions, especially for large cities with a high density of ground transportation, is the subway. At the same time, the success of the built metro system can be measured by the flow of passengers. Therefore, try to identify factors that could explain the differences in metro passenger flows in different cities around the world, and provide one (or more) visuals to describe this phenomenon (using Plotly charts). It is suggested to use the World Metro Database (https://www.kaggle.com/datasets/timmofeyy/-world-metro) data table (attached) as a basis for working on this problem. In this table, passenger flows and fares per metro trip in different cities are available, as well as some other characteristics of the metro itself (number of stations, voltage and type of power supply, etc.). However, this table does not contain all the characteristics that could explain the generation of passenger flow values. Therefore, you will need to justify how these and additional factors could affect the variable you are studying, and you may need to find data sources on the Internet from which to obtain the necessary information (for example, you may need to research fares). "
   ]
  },
  {
   "cell_type": "code",
   "execution_count": 73,
   "id": "928d9f5c-db9e-4f13-b6f5-18ce1908e469",
   "metadata": {},
   "outputs": [
    {
     "data": {
      "text/html": [
       "<div>\n",
       "<style scoped>\n",
       "    .dataframe tbody tr th:only-of-type {\n",
       "        vertical-align: middle;\n",
       "    }\n",
       "\n",
       "    .dataframe tbody tr th {\n",
       "        vertical-align: top;\n",
       "    }\n",
       "\n",
       "    .dataframe thead th {\n",
       "        text-align: right;\n",
       "    }\n",
       "</style>\n",
       "<table border=\"1\" class=\"dataframe\">\n",
       "  <thead>\n",
       "    <tr style=\"text-align: right;\">\n",
       "      <th></th>\n",
       "      <th>city</th>\n",
       "      <th>country</th>\n",
       "      <th>name</th>\n",
       "      <th>year</th>\n",
       "      <th>year_last_expansion</th>\n",
       "      <th>stations</th>\n",
       "      <th>length_km</th>\n",
       "      <th>annual_ridership_mill</th>\n",
       "      <th>region</th>\n",
       "    </tr>\n",
       "  </thead>\n",
       "  <tbody>\n",
       "    <tr>\n",
       "      <th>0</th>\n",
       "      <td>Algiers</td>\n",
       "      <td>Algeria</td>\n",
       "      <td>Algiers Metro</td>\n",
       "      <td>2011</td>\n",
       "      <td>2018</td>\n",
       "      <td>19</td>\n",
       "      <td>185</td>\n",
       "      <td>45.30</td>\n",
       "      <td>africa</td>\n",
       "    </tr>\n",
       "    <tr>\n",
       "      <th>1</th>\n",
       "      <td>Buenos Aires</td>\n",
       "      <td>Argentina</td>\n",
       "      <td>Buenos Aires Underground</td>\n",
       "      <td>1913</td>\n",
       "      <td>2019</td>\n",
       "      <td>90</td>\n",
       "      <td>567</td>\n",
       "      <td>74.00</td>\n",
       "      <td>latin_america</td>\n",
       "    </tr>\n",
       "    <tr>\n",
       "      <th>2</th>\n",
       "      <td>Yerevan</td>\n",
       "      <td>Armenia</td>\n",
       "      <td>Yerevan Metro</td>\n",
       "      <td>1981</td>\n",
       "      <td>1996</td>\n",
       "      <td>10</td>\n",
       "      <td>134</td>\n",
       "      <td>10.75</td>\n",
       "      <td>asia</td>\n",
       "    </tr>\n",
       "    <tr>\n",
       "      <th>3</th>\n",
       "      <td>Sydney</td>\n",
       "      <td>Australia</td>\n",
       "      <td>Sydney Metro</td>\n",
       "      <td>2019</td>\n",
       "      <td>2019</td>\n",
       "      <td>13</td>\n",
       "      <td>36</td>\n",
       "      <td>12.90</td>\n",
       "      <td>australia</td>\n",
       "    </tr>\n",
       "    <tr>\n",
       "      <th>4</th>\n",
       "      <td>Vienna</td>\n",
       "      <td>Austria</td>\n",
       "      <td>Vienna U-Bahn</td>\n",
       "      <td>1976</td>\n",
       "      <td>2017</td>\n",
       "      <td>98</td>\n",
       "      <td>833</td>\n",
       "      <td>459.80</td>\n",
       "      <td>europe</td>\n",
       "    </tr>\n",
       "    <tr>\n",
       "      <th>...</th>\n",
       "      <td>...</td>\n",
       "      <td>...</td>\n",
       "      <td>...</td>\n",
       "      <td>...</td>\n",
       "      <td>...</td>\n",
       "      <td>...</td>\n",
       "      <td>...</td>\n",
       "      <td>...</td>\n",
       "      <td>...</td>\n",
       "    </tr>\n",
       "    <tr>\n",
       "      <th>193</th>\n",
       "      <td>San Juan</td>\n",
       "      <td>United States</td>\n",
       "      <td>Tren Urbano</td>\n",
       "      <td>2004</td>\n",
       "      <td>2005</td>\n",
       "      <td>16</td>\n",
       "      <td>172</td>\n",
       "      <td>1.10</td>\n",
       "      <td>north_america</td>\n",
       "    </tr>\n",
       "    <tr>\n",
       "      <th>194</th>\n",
       "      <td>Washington, D.C.</td>\n",
       "      <td>United States</td>\n",
       "      <td>Washington Metro</td>\n",
       "      <td>1976</td>\n",
       "      <td>2014</td>\n",
       "      <td>91</td>\n",
       "      <td>188</td>\n",
       "      <td>68.10</td>\n",
       "      <td>north_america</td>\n",
       "    </tr>\n",
       "    <tr>\n",
       "      <th>195</th>\n",
       "      <td>Tashkent</td>\n",
       "      <td>Uzbekistan</td>\n",
       "      <td>Tashkent Metro</td>\n",
       "      <td>1977</td>\n",
       "      <td>2020</td>\n",
       "      <td>39</td>\n",
       "      <td>571</td>\n",
       "      <td>38.80</td>\n",
       "      <td>asia</td>\n",
       "    </tr>\n",
       "    <tr>\n",
       "      <th>196</th>\n",
       "      <td>Caracas</td>\n",
       "      <td>Venezuela</td>\n",
       "      <td>Caracas Metro</td>\n",
       "      <td>1983</td>\n",
       "      <td>2015</td>\n",
       "      <td>52</td>\n",
       "      <td>672</td>\n",
       "      <td>358.00</td>\n",
       "      <td>latin_america</td>\n",
       "    </tr>\n",
       "    <tr>\n",
       "      <th>197</th>\n",
       "      <td>Hanoi</td>\n",
       "      <td>Vietnam</td>\n",
       "      <td>Hanoi Metro</td>\n",
       "      <td>2021</td>\n",
       "      <td>2021</td>\n",
       "      <td>12</td>\n",
       "      <td>131</td>\n",
       "      <td>0.00</td>\n",
       "      <td>asia</td>\n",
       "    </tr>\n",
       "  </tbody>\n",
       "</table>\n",
       "<p>198 rows × 9 columns</p>\n",
       "</div>"
      ],
      "text/plain": [
       "                 city        country                      name  year  \\\n",
       "0             Algiers        Algeria             Algiers Metro  2011   \n",
       "1        Buenos Aires      Argentina  Buenos Aires Underground  1913   \n",
       "2             Yerevan        Armenia             Yerevan Metro  1981   \n",
       "3              Sydney      Australia              Sydney Metro  2019   \n",
       "4              Vienna        Austria             Vienna U-Bahn  1976   \n",
       "..                ...            ...                       ...   ...   \n",
       "193          San Juan  United States               Tren Urbano  2004   \n",
       "194  Washington, D.C.  United States          Washington Metro  1976   \n",
       "195          Tashkent     Uzbekistan            Tashkent Metro  1977   \n",
       "196           Caracas      Venezuela             Caracas Metro  1983   \n",
       "197             Hanoi        Vietnam               Hanoi Metro  2021   \n",
       "\n",
       "     year_last_expansion  stations  length_km  annual_ridership_mill  \\\n",
       "0                   2018        19        185                  45.30   \n",
       "1                   2019        90        567                  74.00   \n",
       "2                   1996        10        134                  10.75   \n",
       "3                   2019        13         36                  12.90   \n",
       "4                   2017        98        833                 459.80   \n",
       "..                   ...       ...        ...                    ...   \n",
       "193                 2005        16        172                   1.10   \n",
       "194                 2014        91        188                  68.10   \n",
       "195                 2020        39        571                  38.80   \n",
       "196                 2015        52        672                 358.00   \n",
       "197                 2021        12        131                   0.00   \n",
       "\n",
       "            region  \n",
       "0           africa  \n",
       "1    latin_america  \n",
       "2             asia  \n",
       "3        australia  \n",
       "4           europe  \n",
       "..             ...  \n",
       "193  north_america  \n",
       "194  north_america  \n",
       "195           asia  \n",
       "196  latin_america  \n",
       "197           asia  \n",
       "\n",
       "[198 rows x 9 columns]"
      ]
     },
     "execution_count": 73,
     "metadata": {},
     "output_type": "execute_result"
    }
   ],
   "source": [
    "import pandas as pd \n",
    "Metro_cities = pd.read_csv('metro_countries_cities.csv') \n",
    "#Metro_progress = pd.read_csv('metro_countries_in_progress.csv')\n",
    "#Metro_total = pd.read_csv('metro_countries_total.csv')\n",
    "\n",
    "Metro_cities\n",
    "#Metro_progress\n",
    "#Metro_total"
   ]
  },
  {
   "attachments": {},
   "cell_type": "markdown",
   "id": "b3644808-74c0-4024-83ed-55ee5428a5ef",
   "metadata": {},
   "source": [
    "# Key Factors Affecting Passenger Flow #\n",
    "#### 1. Annual Ridership (millions): \n",
    "\n",
    "This is the primary dependent variable we are studying. It represents the total number of passengers using the metro system in a year, which is crucial for assessing the success and efficiency of public transport in a city\n",
    "#### 2. - Number of Station :\r\n",
    "The number of stations in a metro system can significantly influence ridership. More stations typically mean greater accessibility for passengers, encouraging higher usage. This variable allows us to analyze whether larger networks correlate with increased passenger flows.\n",
    "#### 3. Year of Inauguration (System Age): \n",
    "The age of the metro system can impact its ridership patterns. Older systems may have established ridership trends and may have undergone expansions or improvements over time, which could enhance their attractiveness to users.\n",
    "#### 4. System Length (Km):\n",
    "The total length of the metro system can also affect ridership. A longer system may connect more areas of a city, facilitating travel across greater distances and potentially increasing annual ridership.\n",
    "#### 5. Region: \n",
    "The geographical region where a city is located can play a significant role in passenger flows due to varying urbanization levels, population densities, cultural attitudes toward public transport, and economic conditions.cg)o usage.\r\n"
   ]
  },
  {
   "cell_type": "markdown",
   "id": "00450168-12cc-46e0-982b-b3d1414f4f3b",
   "metadata": {},
   "source": [
    "# 1. Metro System Size vs. Annual Ridership #"
   ]
  },
  {
   "cell_type": "code",
   "execution_count": 71,
   "id": "45749c07-cf98-44a1-af6e-1d4b6865ca88",
   "metadata": {},
   "outputs": [
    {
     "data": {
      "application/vnd.plotly.v1+json": {
       "config": {
        "plotlyServerURL": "https://plot.ly"
       },
       "data": [
        {
         "hovertemplate": "<b>%{hovertext}</b><br><br>region=africa<br>Number of Stations=%{x}<br>Annual Ridership (millions)=%{y}<br>System Length (km)=%{marker.size}<extra></extra>",
         "hovertext": [
          "Algiers",
          "Cairo"
         ],
         "legendgroup": "africa",
         "marker": {
          "color": "#636efa",
          "size": [
           185,
           894
          ],
          "sizemode": "area",
          "sizeref": 122.5975,
          "symbol": "circle"
         },
         "mode": "markers",
         "name": "africa",
         "orientation": "v",
         "showlegend": true,
         "type": "scatter",
         "x": [
          19,
          71
         ],
         "xaxis": "x",
         "y": [
          45.3,
          1314
         ],
         "yaxis": "y"
        },
        {
         "hovertemplate": "<b>%{hovertext}</b><br><br>region=latin_america<br>Number of Stations=%{x}<br>Annual Ridership (millions)=%{y}<br>System Length (km)=%{marker.size}<extra></extra>",
         "hovertext": [
          "Buenos Aires",
          "Belo Horizonte",
          "Brasília",
          "Porto Alegre",
          "Recife",
          "Rio de Janeiro",
          "Salvador",
          "São Paulo",
          "Santiago",
          "Medellín",
          "Santo Domingo",
          "Guadalajara",
          "Mexico City",
          "Monterrey",
          "Panama City",
          "Lima",
          "Caracas"
         ],
         "legendgroup": "latin_america",
         "marker": {
          "color": "#EF553B",
          "size": [
           567,
           281,
           424,
           438,
           395,
           58,
           325,
           1044,
           140,
           313,
           310,
           215,
           2009,
           405,
           368,
           346,
           672
          ],
          "sizemode": "area",
          "sizeref": 122.5975,
          "symbol": "circle"
         },
         "mode": "markers",
         "name": "latin_america",
         "orientation": "v",
         "showlegend": true,
         "type": "scatter",
         "x": [
          90,
          19,
          27,
          22,
          28,
          41,
          19,
          91,
          136,
          27,
          34,
          18,
          163,
          38,
          29,
          26,
          52
         ],
         "xaxis": "x",
         "y": [
          74,
          54.4,
          42.8,
          48.1,
          93.5,
          118.7,
          62,
          763.6,
          263.4,
          115.4,
          49.6,
          0,
          935.2,
          109.9,
          49.9,
          110.4,
          358
         ],
         "yaxis": "y"
        },
        {
         "hovertemplate": "<b>%{hovertext}</b><br><br>region=asia<br>Number of Stations=%{x}<br>Annual Ridership (millions)=%{y}<br>System Length (km)=%{marker.size}<extra></extra>",
         "hovertext": [
          "Yerevan",
          "Baku",
          "Beijing",
          "Changchun",
          "Changsha",
          "Changzhou",
          "Chengdu",
          "Chongqing",
          "Dalian",
          "Dongguan",
          "Foshan",
          "Fuzhou",
          "Guangzhou",
          "Guiyang",
          "Hangzhou",
          "Harbin",
          "Hefei",
          "Hohhot",
          "Hong Kong",
          "Jinan",
          "Kunming",
          "Lanzhou",
          "Luoyang",
          "Nanchang",
          "Nanjing",
          "Nanning",
          "Ningbo",
          "Qingdao",
          "Shanghai",
          "Shaoxing",
          "Shenyang",
          "Shenzhen",
          "Shijiazhuang",
          "Suzhou",
          "Taiyuan",
          "Tianjin",
          "Ürümqi",
          "Wenzhou",
          "Wuhan",
          "Wuhu",
          "Wuxi",
          "Xiamen",
          "Xi'an",
          "Xuzhou",
          "Zhengzhou",
          "Tbilisi",
          "Ahmedabad",
          "Bengaluru",
          "Chennai",
          "Delhi",
          "Gurgaon",
          "Hyderabad",
          "Jaipur",
          "Kanpur",
          "Kochi",
          "Kolkata",
          "Lucknow",
          "Mumbai",
          "Nagpur",
          "Noida",
          "Pune",
          "Jakarta",
          "Isfahan",
          "Mashhad",
          "Shiraz",
          "Tabriz",
          "Tehran",
          "Fukuoka",
          "Hiroshima",
          "Kobe",
          "Kyoto",
          "Nagoya",
          "Osaka",
          "Sapporo",
          "Sendai",
          "Tokyo",
          "Tokyo",
          "Tokyo",
          "Yokohama",
          "Yokohama",
          "Almaty",
          "Pyongyang",
          "Busan",
          "Daegu",
          "Daejeon",
          "Gwangju",
          "Incheon",
          "Seoul",
          "Seoul",
          "Seoul",
          "Kuala Lumpur",
          "Lahore",
          "Manila",
          "Manila",
          "Doha",
          "Kazan",
          "Moscow",
          "Nizhny Novgorod",
          "Novosibirsk",
          "Saint Petersburg",
          "Samara",
          "Yekaterinburg",
          "Singapore",
          "Kaohsiung",
          "Taipei",
          "Taichung",
          "Taoyuan",
          "Bangkok",
          "Bangkok",
          "Adana",
          "Ankara",
          "Bursa",
          "Istanbul",
          "İzmir",
          "Dubai",
          "Tashkent",
          "Hanoi"
         ],
         "legendgroup": "asia",
         "marker": {
          "color": "#00cc96",
          "size": [
           134,
           3803,
           762,
           726,
           1425,
           5421,
           5192,
           4025,
           20103,
           378,
           719,
           5972,
           5894,
           757,
           401,
           79,
           1562,
           49039,
           2044,
           843,
           1394,
           259,
           435,
           1286,
           427,
           1288,
           1825,
           2843,
           803,
           203,
           116,
           419,
           765,
           2108,
           2365,
           265,
           276,
           535,
           435,
           4625,
           1148,
           987,
           26638,
           6435,
           2063,
           271,
           65,
           56,
           54,
           34812,
           117,
           69,
           120,
           898,
           249,
           3826,
           2287,
           114,
           261,
           297,
           12,
           157,
           202,
           375,
           245,
           172,
           1556,
           298,
           184,
           381,
           312,
           933,
           1299,
           480,
           287,
           1090,
           1951,
           122,
           534,
           41,
           113,
           225,
           1399,
           812,
           227,
           201,
           594,
           3649,
           1517,
           313,
           1425,
           271,
           372,
           169,
           76,
           168,
           4357,
           216,
           159,
           1248,
           116,
           127,
           216,
           427,
           1462,
           167,
           531,
           682,
           71,
           139,
           6436,
           389,
           1357,
           20,
           895,
           571,
           131
          ],
          "sizemode": "area",
          "sizeref": 122.5975,
          "symbol": "circle"
         },
         "mode": "markers",
         "name": "asia",
         "orientation": "v",
         "showlegend": true,
         "type": "scatter",
         "x": [
          10,
          26,
          366,
          63,
          100,
          43,
          285,
          210,
          80,
          15,
          41,
          46,
          290,
          55,
          207,
          63,
          122,
          44,
          97,
          40,
          84,
          20,
          33,
          103,
          175,
          94,
          114,
          138,
          396,
          10,
          91,
          288,
          60,
          154,
          23,
          164,
          21,
          18,
          247,
          36,
          87,
          65,
          164,
          51,
          126,
          23,
          6,
          51,
          42,
          230,
          11,
          56,
          11,
          9,
          22,
          33,
          21,
          12,
          24,
          21,
          10,
          13,
          20,
          35,
          20,
          15,
          122,
          35,
          21,
          28,
          31,
          87,
          100,
          46,
          29,
          99,
          142,
          8,
          40,
          6,
          9,
          17,
          135,
          58,
          22,
          20,
          56,
          339,
          86,
          12,
          104,
          26,
          33,
          13,
          36,
          11,
          203,
          15,
          13,
          64,
          10,
          9,
          127,
          37,
          119,
          18,
          22,
          60,
          53,
          13,
          56,
          38,
          107,
          17,
          56,
          39,
          12
         ],
         "xaxis": "x",
         "y": [
          10.75,
          72.1,
          2292.65,
          154.37,
          385.76,
          22.82,
          1800,
          839.75,
          125.22,
          35.06,
          0,
          94.75,
          2415.6,
          36.98,
          582.41,
          51.33,
          195.07,
          21.3,
          1155.8,
          8.68,
          159.26,
          52.48,
          0,
          135.93,
          801.34,
          208.41,
          159.86,
          139.09,
          2834.69,
          0,
          316.28,
          1626.73,
          71.71,
          308.57,
          0.876,
          338.75,
          19.11,
          7.01,
          628.03,
          0,
          87.22,
          113.97,
          731.04,
          20.94,
          341.01,
          69.78,
          0.4,
          174.22,
          42,
          1790,
          18.3,
          173,
          7,
          0,
          17,
          256,
          22,
          126,
          4,
          5,
          0,
          9.9,
          0,
          50.7,
          18,
          0,
          820,
          173.3,
          24,
          114.2,
          146.4,
          487.4,
          870.4,
          226.9,
          91.7,
          1174.9,
          2757.4,
          95,
          243.2,
          80.6,
          7,
          36,
          361,
          168,
          40,
          19,
          116,
          2127.2,
          426.4,
          122.5,
          113.2,
          20,
          218.2,
          96.9,
          0,
          21.5,
          1618.2,
          20.4,
          58.1,
          495,
          8.8,
          27.3,
          738.4,
          65.4,
          695.7,
          0,
          28,
          236.9,
          95.3,
          14,
          66.4,
          91.3,
          262.3,
          100,
          113.6,
          38.8,
          0
         ],
         "yaxis": "y"
        },
        {
         "hovertemplate": "<b>%{hovertext}</b><br><br>region=australia<br>Number of Stations=%{x}<br>Annual Ridership (millions)=%{y}<br>System Length (km)=%{marker.size}<extra></extra>",
         "hovertext": [
          "Sydney"
         ],
         "legendgroup": "australia",
         "marker": {
          "color": "#ab63fa",
          "size": [
           36
          ],
          "sizemode": "area",
          "sizeref": 122.5975,
          "symbol": "circle"
         },
         "mode": "markers",
         "name": "australia",
         "orientation": "v",
         "showlegend": true,
         "type": "scatter",
         "x": [
          13
         ],
         "xaxis": "x",
         "y": [
          12.9
         ],
         "yaxis": "y"
        },
        {
         "hovertemplate": "<b>%{hovertext}</b><br><br>region=europe<br>Number of Stations=%{x}<br>Annual Ridership (millions)=%{y}<br>System Length (km)=%{marker.size}<extra></extra>",
         "hovertext": [
          "Vienna",
          "Minsk",
          "Brussels",
          "Sofia",
          "Prague",
          "Copenhagen",
          "Helsinki",
          "Lille",
          "Lyon",
          "Marseille",
          "Paris",
          "Rennes",
          "Toulouse",
          "Berlin",
          "Hamburg",
          "Munich",
          "Nuremberg",
          "Athens",
          "Budapest",
          "Brescia",
          "Catania",
          "Genoa",
          "Milan",
          "Naples",
          "Rome",
          "Turin",
          "Amsterdam",
          "Rotterdam",
          "Oslo",
          "Warsaw",
          "Lisbon",
          "Bucharest",
          "Barcelona",
          "Bilbao",
          "Madrid",
          "Stockholm",
          "Lausanne",
          "Dnipro",
          "Kharkiv",
          "Kyiv",
          "Glasgow",
          "London",
          "London"
         ],
         "legendgroup": "europe",
         "marker": {
          "color": "#FFA15A",
          "size": [
           833,
           408,
           399,
           52,
           652,
           382,
           35,
           45,
           320,
           223,
           2251,
           94,
           282,
           1478,
           1058,
           95,
           382,
           887,
           382,
           137,
           88,
           71,
           968,
           205,
           60,
           151,
           412,
           1006,
           85,
           355,
           442,
           785,
           1472,
           451,
           2885,
           108,
           59,
           71,
           381,
           676,
           104,
           4052,
           34
          ],
          "sizemode": "area",
          "sizeref": 122.5975,
          "symbol": "circle"
         },
         "mode": "markers",
         "name": "europe",
         "orientation": "v",
         "showlegend": true,
         "type": "scatter",
         "x": [
          98,
          33,
          59,
          47,
          58,
          39,
          25,
          60,
          40,
          29,
          306,
          15,
          37,
          175,
          93,
          96,
          49,
          64,
          48,
          17,
          10,
          8,
          106,
          23,
          73,
          23,
          39,
          70,
          101,
          33,
          56,
          63,
          166,
          42,
          242,
          100,
          14,
          6,
          30,
          52,
          15,
          272,
          45
         ],
         "xaxis": "x",
         "y": [
          459.8,
          219.3,
          87.6,
          92.4,
          251.4,
          63.7,
          60.4,
          127.6,
          219.5,
          76.6,
          753,
          37.2,
          118.2,
          596,
          249.5,
          429,
          114.6,
          259.2,
          232.8,
          18.7,
          5.8,
          15.3,
          386.8,
          41.1,
          320,
          42.5,
          111.3,
          99,
          74,
          195.4,
          184.6,
          179.2,
          217.93,
          91.6,
          349.8,
          355,
          32.8,
          3.55,
          128.1,
          279.5,
          12.7,
          296,
          39.9
         ],
         "yaxis": "y"
        },
        {
         "hovertemplate": "<b>%{hovertext}</b><br><br>region=north_america<br>Number of Stations=%{x}<br>Annual Ridership (millions)=%{y}<br>System Length (km)=%{marker.size}<extra></extra>",
         "hovertext": [
          "Montreal",
          "Toronto",
          "Vancouver",
          "Atlanta",
          "Baltimore",
          "Boston",
          "Chicago",
          "Cleveland",
          "Los Angeles",
          "Miami",
          "New York City",
          "New York City",
          "New York City",
          "Philadelphia",
          "Philadelphia",
          "San Francisco/Oakland",
          "San Juan",
          "Washington, D.C."
         ],
         "legendgroup": "north_america",
         "marker": {
          "color": "#19d3f3",
          "size": [
           71,
           765,
           796,
           766,
           249,
           61,
           1654,
           31,
           280,
           401,
           399,
           225,
           222,
           591,
           229,
           1868,
           172,
           188
          ],
          "sizemode": "area",
          "sizeref": 122.5975,
          "symbol": "circle"
         },
         "mode": "markers",
         "name": "north_america",
         "orientation": "v",
         "showlegend": true,
         "type": "scatter",
         "x": [
          68,
          75,
          53,
          38,
          14,
          51,
          145,
          18,
          16,
          23,
          424,
          21,
          13,
          75,
          13,
          47,
          16,
          91
         ],
         "xaxis": "x",
         "y": [
          164,
          166,
          74.5,
          24.1,
          2.9,
          57.5,
          76,
          2.6,
          22.8,
          9.6,
          639.5,
          2.7,
          29.7,
          37.7,
          3.9,
          34.1,
          1.1,
          68.1
         ],
         "yaxis": "y"
        }
       ],
       "layout": {
        "autosize": true,
        "legend": {
         "itemsizing": "constant",
         "title": {
          "text": "region"
         },
         "tracegroupgap": 0
        },
        "template": {
         "data": {
          "bar": [
           {
            "error_x": {
             "color": "#2a3f5f"
            },
            "error_y": {
             "color": "#2a3f5f"
            },
            "marker": {
             "line": {
              "color": "#E5ECF6",
              "width": 0.5
             },
             "pattern": {
              "fillmode": "overlay",
              "size": 10,
              "solidity": 0.2
             }
            },
            "type": "bar"
           }
          ],
          "barpolar": [
           {
            "marker": {
             "line": {
              "color": "#E5ECF6",
              "width": 0.5
             },
             "pattern": {
              "fillmode": "overlay",
              "size": 10,
              "solidity": 0.2
             }
            },
            "type": "barpolar"
           }
          ],
          "carpet": [
           {
            "aaxis": {
             "endlinecolor": "#2a3f5f",
             "gridcolor": "white",
             "linecolor": "white",
             "minorgridcolor": "white",
             "startlinecolor": "#2a3f5f"
            },
            "baxis": {
             "endlinecolor": "#2a3f5f",
             "gridcolor": "white",
             "linecolor": "white",
             "minorgridcolor": "white",
             "startlinecolor": "#2a3f5f"
            },
            "type": "carpet"
           }
          ],
          "choropleth": [
           {
            "colorbar": {
             "outlinewidth": 0,
             "ticks": ""
            },
            "type": "choropleth"
           }
          ],
          "contour": [
           {
            "colorbar": {
             "outlinewidth": 0,
             "ticks": ""
            },
            "colorscale": [
             [
              0,
              "#0d0887"
             ],
             [
              0.1111111111111111,
              "#46039f"
             ],
             [
              0.2222222222222222,
              "#7201a8"
             ],
             [
              0.3333333333333333,
              "#9c179e"
             ],
             [
              0.4444444444444444,
              "#bd3786"
             ],
             [
              0.5555555555555556,
              "#d8576b"
             ],
             [
              0.6666666666666666,
              "#ed7953"
             ],
             [
              0.7777777777777778,
              "#fb9f3a"
             ],
             [
              0.8888888888888888,
              "#fdca26"
             ],
             [
              1,
              "#f0f921"
             ]
            ],
            "type": "contour"
           }
          ],
          "contourcarpet": [
           {
            "colorbar": {
             "outlinewidth": 0,
             "ticks": ""
            },
            "type": "contourcarpet"
           }
          ],
          "heatmap": [
           {
            "colorbar": {
             "outlinewidth": 0,
             "ticks": ""
            },
            "colorscale": [
             [
              0,
              "#0d0887"
             ],
             [
              0.1111111111111111,
              "#46039f"
             ],
             [
              0.2222222222222222,
              "#7201a8"
             ],
             [
              0.3333333333333333,
              "#9c179e"
             ],
             [
              0.4444444444444444,
              "#bd3786"
             ],
             [
              0.5555555555555556,
              "#d8576b"
             ],
             [
              0.6666666666666666,
              "#ed7953"
             ],
             [
              0.7777777777777778,
              "#fb9f3a"
             ],
             [
              0.8888888888888888,
              "#fdca26"
             ],
             [
              1,
              "#f0f921"
             ]
            ],
            "type": "heatmap"
           }
          ],
          "heatmapgl": [
           {
            "colorbar": {
             "outlinewidth": 0,
             "ticks": ""
            },
            "colorscale": [
             [
              0,
              "#0d0887"
             ],
             [
              0.1111111111111111,
              "#46039f"
             ],
             [
              0.2222222222222222,
              "#7201a8"
             ],
             [
              0.3333333333333333,
              "#9c179e"
             ],
             [
              0.4444444444444444,
              "#bd3786"
             ],
             [
              0.5555555555555556,
              "#d8576b"
             ],
             [
              0.6666666666666666,
              "#ed7953"
             ],
             [
              0.7777777777777778,
              "#fb9f3a"
             ],
             [
              0.8888888888888888,
              "#fdca26"
             ],
             [
              1,
              "#f0f921"
             ]
            ],
            "type": "heatmapgl"
           }
          ],
          "histogram": [
           {
            "marker": {
             "pattern": {
              "fillmode": "overlay",
              "size": 10,
              "solidity": 0.2
             }
            },
            "type": "histogram"
           }
          ],
          "histogram2d": [
           {
            "colorbar": {
             "outlinewidth": 0,
             "ticks": ""
            },
            "colorscale": [
             [
              0,
              "#0d0887"
             ],
             [
              0.1111111111111111,
              "#46039f"
             ],
             [
              0.2222222222222222,
              "#7201a8"
             ],
             [
              0.3333333333333333,
              "#9c179e"
             ],
             [
              0.4444444444444444,
              "#bd3786"
             ],
             [
              0.5555555555555556,
              "#d8576b"
             ],
             [
              0.6666666666666666,
              "#ed7953"
             ],
             [
              0.7777777777777778,
              "#fb9f3a"
             ],
             [
              0.8888888888888888,
              "#fdca26"
             ],
             [
              1,
              "#f0f921"
             ]
            ],
            "type": "histogram2d"
           }
          ],
          "histogram2dcontour": [
           {
            "colorbar": {
             "outlinewidth": 0,
             "ticks": ""
            },
            "colorscale": [
             [
              0,
              "#0d0887"
             ],
             [
              0.1111111111111111,
              "#46039f"
             ],
             [
              0.2222222222222222,
              "#7201a8"
             ],
             [
              0.3333333333333333,
              "#9c179e"
             ],
             [
              0.4444444444444444,
              "#bd3786"
             ],
             [
              0.5555555555555556,
              "#d8576b"
             ],
             [
              0.6666666666666666,
              "#ed7953"
             ],
             [
              0.7777777777777778,
              "#fb9f3a"
             ],
             [
              0.8888888888888888,
              "#fdca26"
             ],
             [
              1,
              "#f0f921"
             ]
            ],
            "type": "histogram2dcontour"
           }
          ],
          "mesh3d": [
           {
            "colorbar": {
             "outlinewidth": 0,
             "ticks": ""
            },
            "type": "mesh3d"
           }
          ],
          "parcoords": [
           {
            "line": {
             "colorbar": {
              "outlinewidth": 0,
              "ticks": ""
             }
            },
            "type": "parcoords"
           }
          ],
          "pie": [
           {
            "automargin": true,
            "type": "pie"
           }
          ],
          "scatter": [
           {
            "fillpattern": {
             "fillmode": "overlay",
             "size": 10,
             "solidity": 0.2
            },
            "type": "scatter"
           }
          ],
          "scatter3d": [
           {
            "line": {
             "colorbar": {
              "outlinewidth": 0,
              "ticks": ""
             }
            },
            "marker": {
             "colorbar": {
              "outlinewidth": 0,
              "ticks": ""
             }
            },
            "type": "scatter3d"
           }
          ],
          "scattercarpet": [
           {
            "marker": {
             "colorbar": {
              "outlinewidth": 0,
              "ticks": ""
             }
            },
            "type": "scattercarpet"
           }
          ],
          "scattergeo": [
           {
            "marker": {
             "colorbar": {
              "outlinewidth": 0,
              "ticks": ""
             }
            },
            "type": "scattergeo"
           }
          ],
          "scattergl": [
           {
            "marker": {
             "colorbar": {
              "outlinewidth": 0,
              "ticks": ""
             }
            },
            "type": "scattergl"
           }
          ],
          "scattermapbox": [
           {
            "marker": {
             "colorbar": {
              "outlinewidth": 0,
              "ticks": ""
             }
            },
            "type": "scattermapbox"
           }
          ],
          "scatterpolar": [
           {
            "marker": {
             "colorbar": {
              "outlinewidth": 0,
              "ticks": ""
             }
            },
            "type": "scatterpolar"
           }
          ],
          "scatterpolargl": [
           {
            "marker": {
             "colorbar": {
              "outlinewidth": 0,
              "ticks": ""
             }
            },
            "type": "scatterpolargl"
           }
          ],
          "scatterternary": [
           {
            "marker": {
             "colorbar": {
              "outlinewidth": 0,
              "ticks": ""
             }
            },
            "type": "scatterternary"
           }
          ],
          "surface": [
           {
            "colorbar": {
             "outlinewidth": 0,
             "ticks": ""
            },
            "colorscale": [
             [
              0,
              "#0d0887"
             ],
             [
              0.1111111111111111,
              "#46039f"
             ],
             [
              0.2222222222222222,
              "#7201a8"
             ],
             [
              0.3333333333333333,
              "#9c179e"
             ],
             [
              0.4444444444444444,
              "#bd3786"
             ],
             [
              0.5555555555555556,
              "#d8576b"
             ],
             [
              0.6666666666666666,
              "#ed7953"
             ],
             [
              0.7777777777777778,
              "#fb9f3a"
             ],
             [
              0.8888888888888888,
              "#fdca26"
             ],
             [
              1,
              "#f0f921"
             ]
            ],
            "type": "surface"
           }
          ],
          "table": [
           {
            "cells": {
             "fill": {
              "color": "#EBF0F8"
             },
             "line": {
              "color": "white"
             }
            },
            "header": {
             "fill": {
              "color": "#C8D4E3"
             },
             "line": {
              "color": "white"
             }
            },
            "type": "table"
           }
          ]
         },
         "layout": {
          "annotationdefaults": {
           "arrowcolor": "#2a3f5f",
           "arrowhead": 0,
           "arrowwidth": 1
          },
          "autotypenumbers": "strict",
          "coloraxis": {
           "colorbar": {
            "outlinewidth": 0,
            "ticks": ""
           }
          },
          "colorscale": {
           "diverging": [
            [
             0,
             "#8e0152"
            ],
            [
             0.1,
             "#c51b7d"
            ],
            [
             0.2,
             "#de77ae"
            ],
            [
             0.3,
             "#f1b6da"
            ],
            [
             0.4,
             "#fde0ef"
            ],
            [
             0.5,
             "#f7f7f7"
            ],
            [
             0.6,
             "#e6f5d0"
            ],
            [
             0.7,
             "#b8e186"
            ],
            [
             0.8,
             "#7fbc41"
            ],
            [
             0.9,
             "#4d9221"
            ],
            [
             1,
             "#276419"
            ]
           ],
           "sequential": [
            [
             0,
             "#0d0887"
            ],
            [
             0.1111111111111111,
             "#46039f"
            ],
            [
             0.2222222222222222,
             "#7201a8"
            ],
            [
             0.3333333333333333,
             "#9c179e"
            ],
            [
             0.4444444444444444,
             "#bd3786"
            ],
            [
             0.5555555555555556,
             "#d8576b"
            ],
            [
             0.6666666666666666,
             "#ed7953"
            ],
            [
             0.7777777777777778,
             "#fb9f3a"
            ],
            [
             0.8888888888888888,
             "#fdca26"
            ],
            [
             1,
             "#f0f921"
            ]
           ],
           "sequentialminus": [
            [
             0,
             "#0d0887"
            ],
            [
             0.1111111111111111,
             "#46039f"
            ],
            [
             0.2222222222222222,
             "#7201a8"
            ],
            [
             0.3333333333333333,
             "#9c179e"
            ],
            [
             0.4444444444444444,
             "#bd3786"
            ],
            [
             0.5555555555555556,
             "#d8576b"
            ],
            [
             0.6666666666666666,
             "#ed7953"
            ],
            [
             0.7777777777777778,
             "#fb9f3a"
            ],
            [
             0.8888888888888888,
             "#fdca26"
            ],
            [
             1,
             "#f0f921"
            ]
           ]
          },
          "colorway": [
           "#636efa",
           "#EF553B",
           "#00cc96",
           "#ab63fa",
           "#FFA15A",
           "#19d3f3",
           "#FF6692",
           "#B6E880",
           "#FF97FF",
           "#FECB52"
          ],
          "font": {
           "color": "#2a3f5f"
          },
          "geo": {
           "bgcolor": "white",
           "lakecolor": "white",
           "landcolor": "#E5ECF6",
           "showlakes": true,
           "showland": true,
           "subunitcolor": "white"
          },
          "hoverlabel": {
           "align": "left"
          },
          "hovermode": "closest",
          "mapbox": {
           "style": "light"
          },
          "paper_bgcolor": "white",
          "plot_bgcolor": "#E5ECF6",
          "polar": {
           "angularaxis": {
            "gridcolor": "white",
            "linecolor": "white",
            "ticks": ""
           },
           "bgcolor": "#E5ECF6",
           "radialaxis": {
            "gridcolor": "white",
            "linecolor": "white",
            "ticks": ""
           }
          },
          "scene": {
           "xaxis": {
            "backgroundcolor": "#E5ECF6",
            "gridcolor": "white",
            "gridwidth": 2,
            "linecolor": "white",
            "showbackground": true,
            "ticks": "",
            "zerolinecolor": "white"
           },
           "yaxis": {
            "backgroundcolor": "#E5ECF6",
            "gridcolor": "white",
            "gridwidth": 2,
            "linecolor": "white",
            "showbackground": true,
            "ticks": "",
            "zerolinecolor": "white"
           },
           "zaxis": {
            "backgroundcolor": "#E5ECF6",
            "gridcolor": "white",
            "gridwidth": 2,
            "linecolor": "white",
            "showbackground": true,
            "ticks": "",
            "zerolinecolor": "white"
           }
          },
          "shapedefaults": {
           "line": {
            "color": "#2a3f5f"
           }
          },
          "ternary": {
           "aaxis": {
            "gridcolor": "white",
            "linecolor": "white",
            "ticks": ""
           },
           "baxis": {
            "gridcolor": "white",
            "linecolor": "white",
            "ticks": ""
           },
           "bgcolor": "#E5ECF6",
           "caxis": {
            "gridcolor": "white",
            "linecolor": "white",
            "ticks": ""
           }
          },
          "title": {
           "x": 0.05
          },
          "xaxis": {
           "automargin": true,
           "gridcolor": "white",
           "linecolor": "white",
           "ticks": "",
           "title": {
            "standoff": 15
           },
           "zerolinecolor": "white",
           "zerolinewidth": 2
          },
          "yaxis": {
           "automargin": true,
           "gridcolor": "white",
           "linecolor": "white",
           "ticks": "",
           "title": {
            "standoff": 15
           },
           "zerolinecolor": "white",
           "zerolinewidth": 2
          }
         }
        },
        "title": {
         "text": "Metro System Size vs. Annual Ridership"
        },
        "xaxis": {
         "anchor": "y",
         "autorange": true,
         "domain": [
          0,
          1
         ],
         "range": [
          -20.92297476759628,
          450.92297476759626
         ],
         "title": {
          "text": "Number of Stations"
         },
         "type": "linear"
        },
        "yaxis": {
         "anchor": "x",
         "autorange": true,
         "domain": [
          0,
          1
         ],
         "range": [
          -466.19765015087444,
          3070.4676892964912
         ],
         "title": {
          "text": "Annual Ridership (millions)"
         },
         "type": "linear"
        }
       }
      },
      "image/png": "[encoded data removed]",
      "text/html": [
       "<div>                            <div id=\"2e8d0994-836a-4338-9ec8-8d3a4e53a14e\" class=\"plotly-graph-div\" style=\"height:525px; width:100%;\"></div>            <script type=\"text/javascript\">                require([\"plotly\"], function(Plotly) {                    window.PLOTLYENV=window.PLOTLYENV || {};                                    if (document.getElementById(\"2e8d0994-836a-4338-9ec8-8d3a4e53a14e\")) {                    Plotly.newPlot(                        \"2e8d0994-836a-4338-9ec8-8d3a4e53a14e\",                        [{\"hovertemplate\":\"<b>%{hovertext}</b><br><br>region=africa<br>Number of Stations=%{x}<br>Annual Ridership (millions)=%{y}<br>System Length (km)=%{marker.size}<extra></extra>\",\"hovertext\":[\"Algiers\",\"Cairo\"],\"legendgroup\":\"africa\",\"marker\":{\"color\":\"#636efa\",\"size\":[185,894],\"sizemode\":\"area\",\"sizeref\":122.5975,\"symbol\":\"circle\"},\"mode\":\"markers\",\"name\":\"africa\",\"orientation\":\"v\",\"showlegend\":true,\"x\":[19,71],\"xaxis\":\"x\",\"y\":[45.3,1314.0],\"yaxis\":\"y\",\"type\":\"scatter\"},{\"hovertemplate\":\"<b>%{hovertext}</b><br><br>region=latin_america<br>Number of Stations=%{x}<br>Annual Ridership (millions)=%{y}<br>System Length (km)=%{marker.size}<extra></extra>\",\"hovertext\":[\"Buenos Aires\",\"Belo Horizonte\",\"Bras\\u00edlia\",\"Porto Alegre\",\"Recife\",\"Rio de Janeiro\",\"Salvador\",\"S\\u00e3o Paulo\",\"Santiago\",\"Medell\\u00edn\",\"Santo Domingo\",\"Guadalajara\",\"Mexico City\",\"Monterrey\",\"Panama City\",\"Lima\",\"Caracas\"],\"legendgroup\":\"latin_america\",\"marker\":{\"color\":\"#EF553B\",\"size\":[567,281,424,438,395,58,325,1044,140,313,310,215,2009,405,368,346,672],\"sizemode\":\"area\",\"sizeref\":122.5975,\"symbol\":\"circle\"},\"mode\":\"markers\",\"name\":\"latin_america\",\"orientation\":\"v\",\"showlegend\":true,\"x\":[90,19,27,22,28,41,19,91,136,27,34,18,163,38,29,26,52],\"xaxis\":\"x\",\"y\":[74.0,54.4,42.8,48.1,93.5,118.7,62.0,763.6,263.4,115.4,49.6,0.0,935.2,109.9,49.9,110.4,358.0],\"yaxis\":\"y\",\"type\":\"scatter\"},{\"hovertemplate\":\"<b>%{hovertext}</b><br><br>region=asia<br>Number of Stations=%{x}<br>Annual Ridership (millions)=%{y}<br>System Length (km)=%{marker.size}<extra></extra>\",\"hovertext\":[\"Yerevan\",\"Baku\",\"Beijing\",\"Changchun\",\"Changsha\",\"Changzhou\",\"Chengdu\",\"Chongqing\",\"Dalian\",\"Dongguan\",\"Foshan\",\"Fuzhou\",\"Guangzhou\",\"Guiyang\",\"Hangzhou\",\"Harbin\",\"Hefei\",\"Hohhot\",\"Hong Kong\",\"Jinan\",\"Kunming\",\"Lanzhou\",\"Luoyang\",\"Nanchang\",\"Nanjing\",\"Nanning\",\"Ningbo\",\"Qingdao\",\"Shanghai\",\"Shaoxing\",\"Shenyang\",\"Shenzhen\",\"Shijiazhuang\",\"Suzhou\",\"Taiyuan\",\"Tianjin\",\"\\u00dcr\\u00fcmqi\",\"Wenzhou\",\"Wuhan\",\"Wuhu\",\"Wuxi\",\"Xiamen\",\"Xi'an\",\"Xuzhou\",\"Zhengzhou\",\"Tbilisi\",\"Ahmedabad\",\"Bengaluru\",\"Chennai\",\"Delhi\",\"Gurgaon\",\"Hyderabad\",\"Jaipur\",\"Kanpur\",\"Kochi\",\"Kolkata\",\"Lucknow\",\"Mumbai\",\"Nagpur\",\"Noida\",\"Pune\",\"Jakarta\",\"Isfahan\",\"Mashhad\",\"Shiraz\",\"Tabriz\",\"Tehran\",\"Fukuoka\",\"Hiroshima\",\"Kobe\",\"Kyoto\",\"Nagoya\",\"Osaka\",\"Sapporo\",\"Sendai\",\"Tokyo\",\"Tokyo\",\"Tokyo\",\"Yokohama\",\"Yokohama\",\"Almaty\",\"Pyongyang\",\"Busan\",\"Daegu\",\"Daejeon\",\"Gwangju\",\"Incheon\",\"Seoul\",\"Seoul\",\"Seoul\",\"Kuala Lumpur\",\"Lahore\",\"Manila\",\"Manila\",\"Doha\",\"Kazan\",\"Moscow\",\"Nizhny Novgorod\",\"Novosibirsk\",\"Saint Petersburg\",\"Samara\",\"Yekaterinburg\",\"Singapore\",\"Kaohsiung\",\"Taipei\",\"Taichung\",\"Taoyuan\",\"Bangkok\",\"Bangkok\",\"Adana\",\"Ankara\",\"Bursa\",\"Istanbul\",\"\\u0130zmir\",\"Dubai\",\"Tashkent\",\"Hanoi\"],\"legendgroup\":\"asia\",\"marker\":{\"color\":\"#00cc96\",\"size\":[134,3803,762,726,1425,5421,5192,4025,20103,378,719,5972,5894,757,401,79,1562,49039,2044,843,1394,259,435,1286,427,1288,1825,2843,803,203,116,419,765,2108,2365,265,276,535,435,4625,1148,987,26638,6435,2063,271,65,56,54,34812,117,69,120,898,249,3826,2287,114,261,297,12,157,202,375,245,172,1556,298,184,381,312,933,1299,480,287,1090,1951,122,534,41,113,225,1399,812,227,201,594,3649,1517,313,1425,271,372,169,76,168,4357,216,159,1248,116,127,216,427,1462,167,531,682,71,139,6436,389,1357,20,895,571,131],\"sizemode\":\"area\",\"sizeref\":122.5975,\"symbol\":\"circle\"},\"mode\":\"markers\",\"name\":\"asia\",\"orientation\":\"v\",\"showlegend\":true,\"x\":[10,26,366,63,100,43,285,210,80,15,41,46,290,55,207,63,122,44,97,40,84,20,33,103,175,94,114,138,396,10,91,288,60,154,23,164,21,18,247,36,87,65,164,51,126,23,6,51,42,230,11,56,11,9,22,33,21,12,24,21,10,13,20,35,20,15,122,35,21,28,31,87,100,46,29,99,142,8,40,6,9,17,135,58,22,20,56,339,86,12,104,26,33,13,36,11,203,15,13,64,10,9,127,37,119,18,22,60,53,13,56,38,107,17,56,39,12],\"xaxis\":\"x\",\"y\":[10.75,72.1,2292.65,154.37,385.76,22.82,1800.0,839.75,125.22,35.06,0.0,94.75,2415.6,36.98,582.41,51.33,195.07,21.3,1155.8,8.68,159.26,52.48,0.0,135.93,801.34,208.41,159.86,139.09,2834.69,0.0,316.28,1626.73,71.71,308.57,0.876,338.75,19.11,7.01,628.03,0.0,87.22,113.97,731.04,20.94,341.01,69.78,0.4,174.22,42.0,1790.0,18.3,173.0,7.0,0.0,17.0,256.0,22.0,126.0,4.0,5.0,0.0,9.9,0.0,50.7,18.0,0.0,820.0,173.3,24.0,114.2,146.4,487.4,870.4,226.9,91.7,1174.9,2757.4,95.0,243.2,80.6,7.0,36.0,361.0,168.0,40.0,19.0,116.0,2127.2,426.4,122.5,113.2,20.0,218.2,96.9,0.0,21.5,1618.2,20.4,58.1,495.0,8.8,27.3,738.4,65.4,695.7,0.0,28.0,236.9,95.3,14.0,66.4,91.3,262.3,100.0,113.6,38.8,0.0],\"yaxis\":\"y\",\"type\":\"scatter\"},{\"hovertemplate\":\"<b>%{hovertext}</b><br><br>region=australia<br>Number of Stations=%{x}<br>Annual Ridership (millions)=%{y}<br>System Length (km)=%{marker.size}<extra></extra>\",\"hovertext\":[\"Sydney\"],\"legendgroup\":\"australia\",\"marker\":{\"color\":\"#ab63fa\",\"size\":[36],\"sizemode\":\"area\",\"sizeref\":122.5975,\"symbol\":\"circle\"},\"mode\":\"markers\",\"name\":\"australia\",\"orientation\":\"v\",\"showlegend\":true,\"x\":[13],\"xaxis\":\"x\",\"y\":[12.9],\"yaxis\":\"y\",\"type\":\"scatter\"},{\"hovertemplate\":\"<b>%{hovertext}</b><br><br>region=europe<br>Number of Stations=%{x}<br>Annual Ridership (millions)=%{y}<br>System Length (km)=%{marker.size}<extra></extra>\",\"hovertext\":[\"Vienna\",\"Minsk\",\"Brussels\",\"Sofia\",\"Prague\",\"Copenhagen\",\"Helsinki\",\"Lille\",\"Lyon\",\"Marseille\",\"Paris\",\"Rennes\",\"Toulouse\",\"Berlin\",\"Hamburg\",\"Munich\",\"Nuremberg\",\"Athens\",\"Budapest\",\"Brescia\",\"Catania\",\"Genoa\",\"Milan\",\"Naples\",\"Rome\",\"Turin\",\"Amsterdam\",\"Rotterdam\",\"Oslo\",\"Warsaw\",\"Lisbon\",\"Bucharest\",\"Barcelona\",\"Bilbao\",\"Madrid\",\"Stockholm\",\"Lausanne\",\"Dnipro\",\"Kharkiv\",\"Kyiv\",\"Glasgow\",\"London\",\"London\"],\"legendgroup\":\"europe\",\"marker\":{\"color\":\"#FFA15A\",\"size\":[833,408,399,52,652,382,35,45,320,223,2251,94,282,1478,1058,95,382,887,382,137,88,71,968,205,60,151,412,1006,85,355,442,785,1472,451,2885,108,59,71,381,676,104,4052,34],\"sizemode\":\"area\",\"sizeref\":122.5975,\"symbol\":\"circle\"},\"mode\":\"markers\",\"name\":\"europe\",\"orientation\":\"v\",\"showlegend\":true,\"x\":[98,33,59,47,58,39,25,60,40,29,306,15,37,175,93,96,49,64,48,17,10,8,106,23,73,23,39,70,101,33,56,63,166,42,242,100,14,6,30,52,15,272,45],\"xaxis\":\"x\",\"y\":[459.8,219.3,87.6,92.4,251.4,63.7,60.4,127.6,219.5,76.6,753.0,37.2,118.2,596.0,249.5,429.0,114.6,259.2,232.8,18.7,5.8,15.3,386.8,41.1,320.0,42.5,111.3,99.0,74.0,195.4,184.6,179.2,217.93,91.6,349.8,355.0,32.8,3.55,128.1,279.5,12.7,296.0,39.9],\"yaxis\":\"y\",\"type\":\"scatter\"},{\"hovertemplate\":\"<b>%{hovertext}</b><br><br>region=north_america<br>Number of Stations=%{x}<br>Annual Ridership (millions)=%{y}<br>System Length (km)=%{marker.size}<extra></extra>\",\"hovertext\":[\"Montreal\",\"Toronto\",\"Vancouver\",\"Atlanta\",\"Baltimore\",\"Boston\",\"Chicago\",\"Cleveland\",\"Los Angeles\",\"Miami\",\"New York City\",\"New York City\",\"New York City\",\"Philadelphia\",\"Philadelphia\",\"San Francisco/Oakland\",\"San Juan\",\"Washington, D.C.\"],\"legendgroup\":\"north_america\",\"marker\":{\"color\":\"#19d3f3\",\"size\":[71,765,796,766,249,61,1654,31,280,401,399,225,222,591,229,1868,172,188],\"sizemode\":\"area\",\"sizeref\":122.5975,\"symbol\":\"circle\"},\"mode\":\"markers\",\"name\":\"north_america\",\"orientation\":\"v\",\"showlegend\":true,\"x\":[68,75,53,38,14,51,145,18,16,23,424,21,13,75,13,47,16,91],\"xaxis\":\"x\",\"y\":[164.0,166.0,74.5,24.1,2.9,57.5,76.0,2.6,22.8,9.6,639.5,2.7,29.7,37.7,3.9,34.1,1.1,68.1],\"yaxis\":\"y\",\"type\":\"scatter\"}],                        {\"template\":{\"data\":{\"histogram2dcontour\":[{\"type\":\"histogram2dcontour\",\"colorbar\":{\"outlinewidth\":0,\"ticks\":\"\"},\"colorscale\":[[0.0,\"#0d0887\"],[0.1111111111111111,\"#46039f\"],[0.2222222222222222,\"#7201a8\"],[0.3333333333333333,\"#9c179e\"],[0.4444444444444444,\"#bd3786\"],[0.5555555555555556,\"#d8576b\"],[0.6666666666666666,\"#ed7953\"],[0.7777777777777778,\"#fb9f3a\"],[0.8888888888888888,\"#fdca26\"],[1.0,\"#f0f921\"]]}],\"choropleth\":[{\"type\":\"choropleth\",\"colorbar\":{\"outlinewidth\":0,\"ticks\":\"\"}}],\"histogram2d\":[{\"type\":\"histogram2d\",\"colorbar\":{\"outlinewidth\":0,\"ticks\":\"\"},\"colorscale\":[[0.0,\"#0d0887\"],[0.1111111111111111,\"#46039f\"],[0.2222222222222222,\"#7201a8\"],[0.3333333333333333,\"#9c179e\"],[0.4444444444444444,\"#bd3786\"],[0.5555555555555556,\"#d8576b\"],[0.6666666666666666,\"#ed7953\"],[0.7777777777777778,\"#fb9f3a\"],[0.8888888888888888,\"#fdca26\"],[1.0,\"#f0f921\"]]}],\"heatmap\":[{\"type\":\"heatmap\",\"colorbar\":{\"outlinewidth\":0,\"ticks\":\"\"},\"colorscale\":[[0.0,\"#0d0887\"],[0.1111111111111111,\"#46039f\"],[0.2222222222222222,\"#7201a8\"],[0.3333333333333333,\"#9c179e\"],[0.4444444444444444,\"#bd3786\"],[0.5555555555555556,\"#d8576b\"],[0.6666666666666666,\"#ed7953\"],[0.7777777777777778,\"#fb9f3a\"],[0.8888888888888888,\"#fdca26\"],[1.0,\"#f0f921\"]]}],\"heatmapgl\":[{\"type\":\"heatmapgl\",\"colorbar\":{\"outlinewidth\":0,\"ticks\":\"\"},\"colorscale\":[[0.0,\"#0d0887\"],[0.1111111111111111,\"#46039f\"],[0.2222222222222222,\"#7201a8\"],[0.3333333333333333,\"#9c179e\"],[0.4444444444444444,\"#bd3786\"],[0.5555555555555556,\"#d8576b\"],[0.6666666666666666,\"#ed7953\"],[0.7777777777777778,\"#fb9f3a\"],[0.8888888888888888,\"#fdca26\"],[1.0,\"#f0f921\"]]}],\"contourcarpet\":[{\"type\":\"contourcarpet\",\"colorbar\":{\"outlinewidth\":0,\"ticks\":\"\"}}],\"contour\":[{\"type\":\"contour\",\"colorbar\":{\"outlinewidth\":0,\"ticks\":\"\"},\"colorscale\":[[0.0,\"#0d0887\"],[0.1111111111111111,\"#46039f\"],[0.2222222222222222,\"#7201a8\"],[0.3333333333333333,\"#9c179e\"],[0.4444444444444444,\"#bd3786\"],[0.5555555555555556,\"#d8576b\"],[0.6666666666666666,\"#ed7953\"],[0.7777777777777778,\"#fb9f3a\"],[0.8888888888888888,\"#fdca26\"],[1.0,\"#f0f921\"]]}],\"surface\":[{\"type\":\"surface\",\"colorbar\":{\"outlinewidth\":0,\"ticks\":\"\"},\"colorscale\":[[0.0,\"#0d0887\"],[0.1111111111111111,\"#46039f\"],[0.2222222222222222,\"#7201a8\"],[0.3333333333333333,\"#9c179e\"],[0.4444444444444444,\"#bd3786\"],[0.5555555555555556,\"#d8576b\"],[0.6666666666666666,\"#ed7953\"],[0.7777777777777778,\"#fb9f3a\"],[0.8888888888888888,\"#fdca26\"],[1.0,\"#f0f921\"]]}],\"mesh3d\":[{\"type\":\"mesh3d\",\"colorbar\":{\"outlinewidth\":0,\"ticks\":\"\"}}],\"scatter\":[{\"fillpattern\":{\"fillmode\":\"overlay\",\"size\":10,\"solidity\":0.2},\"type\":\"scatter\"}],\"parcoords\":[{\"type\":\"parcoords\",\"line\":{\"colorbar\":{\"outlinewidth\":0,\"ticks\":\"\"}}}],\"scatterpolargl\":[{\"type\":\"scatterpolargl\",\"marker\":{\"colorbar\":{\"outlinewidth\":0,\"ticks\":\"\"}}}],\"bar\":[{\"error_x\":{\"color\":\"#2a3f5f\"},\"error_y\":{\"color\":\"#2a3f5f\"},\"marker\":{\"line\":{\"color\":\"#E5ECF6\",\"width\":0.5},\"pattern\":{\"fillmode\":\"overlay\",\"size\":10,\"solidity\":0.2}},\"type\":\"bar\"}],\"scattergeo\":[{\"type\":\"scattergeo\",\"marker\":{\"colorbar\":{\"outlinewidth\":0,\"ticks\":\"\"}}}],\"scatterpolar\":[{\"type\":\"scatterpolar\",\"marker\":{\"colorbar\":{\"outlinewidth\":0,\"ticks\":\"\"}}}],\"histogram\":[{\"marker\":{\"pattern\":{\"fillmode\":\"overlay\",\"size\":10,\"solidity\":0.2}},\"type\":\"histogram\"}],\"scattergl\":[{\"type\":\"scattergl\",\"marker\":{\"colorbar\":{\"outlinewidth\":0,\"ticks\":\"\"}}}],\"scatter3d\":[{\"type\":\"scatter3d\",\"line\":{\"colorbar\":{\"outlinewidth\":0,\"ticks\":\"\"}},\"marker\":{\"colorbar\":{\"outlinewidth\":0,\"ticks\":\"\"}}}],\"scattermapbox\":[{\"type\":\"scattermapbox\",\"marker\":{\"colorbar\":{\"outlinewidth\":0,\"ticks\":\"\"}}}],\"scatterternary\":[{\"type\":\"scatterternary\",\"marker\":{\"colorbar\":{\"outlinewidth\":0,\"ticks\":\"\"}}}],\"scattercarpet\":[{\"type\":\"scattercarpet\",\"marker\":{\"colorbar\":{\"outlinewidth\":0,\"ticks\":\"\"}}}],\"carpet\":[{\"aaxis\":{\"endlinecolor\":\"#2a3f5f\",\"gridcolor\":\"white\",\"linecolor\":\"white\",\"minorgridcolor\":\"white\",\"startlinecolor\":\"#2a3f5f\"},\"baxis\":{\"endlinecolor\":\"#2a3f5f\",\"gridcolor\":\"white\",\"linecolor\":\"white\",\"minorgridcolor\":\"white\",\"startlinecolor\":\"#2a3f5f\"},\"type\":\"carpet\"}],\"table\":[{\"cells\":{\"fill\":{\"color\":\"#EBF0F8\"},\"line\":{\"color\":\"white\"}},\"header\":{\"fill\":{\"color\":\"#C8D4E3\"},\"line\":{\"color\":\"white\"}},\"type\":\"table\"}],\"barpolar\":[{\"marker\":{\"line\":{\"color\":\"#E5ECF6\",\"width\":0.5},\"pattern\":{\"fillmode\":\"overlay\",\"size\":10,\"solidity\":0.2}},\"type\":\"barpolar\"}],\"pie\":[{\"automargin\":true,\"type\":\"pie\"}]},\"layout\":{\"autotypenumbers\":\"strict\",\"colorway\":[\"#636efa\",\"#EF553B\",\"#00cc96\",\"#ab63fa\",\"#FFA15A\",\"#19d3f3\",\"#FF6692\",\"#B6E880\",\"#FF97FF\",\"#FECB52\"],\"font\":{\"color\":\"#2a3f5f\"},\"hovermode\":\"closest\",\"hoverlabel\":{\"align\":\"left\"},\"paper_bgcolor\":\"white\",\"plot_bgcolor\":\"#E5ECF6\",\"polar\":{\"bgcolor\":\"#E5ECF6\",\"angularaxis\":{\"gridcolor\":\"white\",\"linecolor\":\"white\",\"ticks\":\"\"},\"radialaxis\":{\"gridcolor\":\"white\",\"linecolor\":\"white\",\"ticks\":\"\"}},\"ternary\":{\"bgcolor\":\"#E5ECF6\",\"aaxis\":{\"gridcolor\":\"white\",\"linecolor\":\"white\",\"ticks\":\"\"},\"baxis\":{\"gridcolor\":\"white\",\"linecolor\":\"white\",\"ticks\":\"\"},\"caxis\":{\"gridcolor\":\"white\",\"linecolor\":\"white\",\"ticks\":\"\"}},\"coloraxis\":{\"colorbar\":{\"outlinewidth\":0,\"ticks\":\"\"}},\"colorscale\":{\"sequential\":[[0.0,\"#0d0887\"],[0.1111111111111111,\"#46039f\"],[0.2222222222222222,\"#7201a8\"],[0.3333333333333333,\"#9c179e\"],[0.4444444444444444,\"#bd3786\"],[0.5555555555555556,\"#d8576b\"],[0.6666666666666666,\"#ed7953\"],[0.7777777777777778,\"#fb9f3a\"],[0.8888888888888888,\"#fdca26\"],[1.0,\"#f0f921\"]],\"sequentialminus\":[[0.0,\"#0d0887\"],[0.1111111111111111,\"#46039f\"],[0.2222222222222222,\"#7201a8\"],[0.3333333333333333,\"#9c179e\"],[0.4444444444444444,\"#bd3786\"],[0.5555555555555556,\"#d8576b\"],[0.6666666666666666,\"#ed7953\"],[0.7777777777777778,\"#fb9f3a\"],[0.8888888888888888,\"#fdca26\"],[1.0,\"#f0f921\"]],\"diverging\":[[0,\"#8e0152\"],[0.1,\"#c51b7d\"],[0.2,\"#de77ae\"],[0.3,\"#f1b6da\"],[0.4,\"#fde0ef\"],[0.5,\"#f7f7f7\"],[0.6,\"#e6f5d0\"],[0.7,\"#b8e186\"],[0.8,\"#7fbc41\"],[0.9,\"#4d9221\"],[1,\"#276419\"]]},\"xaxis\":{\"gridcolor\":\"white\",\"linecolor\":\"white\",\"ticks\":\"\",\"title\":{\"standoff\":15},\"zerolinecolor\":\"white\",\"automargin\":true,\"zerolinewidth\":2},\"yaxis\":{\"gridcolor\":\"white\",\"linecolor\":\"white\",\"ticks\":\"\",\"title\":{\"standoff\":15},\"zerolinecolor\":\"white\",\"automargin\":true,\"zerolinewidth\":2},\"scene\":{\"xaxis\":{\"backgroundcolor\":\"#E5ECF6\",\"gridcolor\":\"white\",\"linecolor\":\"white\",\"showbackground\":true,\"ticks\":\"\",\"zerolinecolor\":\"white\",\"gridwidth\":2},\"yaxis\":{\"backgroundcolor\":\"#E5ECF6\",\"gridcolor\":\"white\",\"linecolor\":\"white\",\"showbackground\":true,\"ticks\":\"\",\"zerolinecolor\":\"white\",\"gridwidth\":2},\"zaxis\":{\"backgroundcolor\":\"#E5ECF6\",\"gridcolor\":\"white\",\"linecolor\":\"white\",\"showbackground\":true,\"ticks\":\"\",\"zerolinecolor\":\"white\",\"gridwidth\":2}},\"shapedefaults\":{\"line\":{\"color\":\"#2a3f5f\"}},\"annotationdefaults\":{\"arrowcolor\":\"#2a3f5f\",\"arrowhead\":0,\"arrowwidth\":1},\"geo\":{\"bgcolor\":\"white\",\"landcolor\":\"#E5ECF6\",\"subunitcolor\":\"white\",\"showland\":true,\"showlakes\":true,\"lakecolor\":\"white\"},\"title\":{\"x\":0.05},\"mapbox\":{\"style\":\"light\"}}},\"xaxis\":{\"anchor\":\"y\",\"domain\":[0.0,1.0],\"title\":{\"text\":\"Number of Stations\"}},\"yaxis\":{\"anchor\":\"x\",\"domain\":[0.0,1.0],\"title\":{\"text\":\"Annual Ridership (millions)\"}},\"legend\":{\"title\":{\"text\":\"region\"},\"tracegroupgap\":0,\"itemsizing\":\"constant\"},\"title\":{\"text\":\"Metro System Size vs. Annual Ridership\"}},                        {\"responsive\": true}                    ).then(function(){\n",
       "                            \n",
       "var gd = document.getElementById('2e8d0994-836a-4338-9ec8-8d3a4e53a14e');\n",
       "var x = new MutationObserver(function (mutations, observer) {{\n",
       "        var display = window.getComputedStyle(gd).display;\n",
       "        if (!display || display === 'none') {{\n",
       "            console.log([gd, 'removed!']);\n",
       "            Plotly.purge(gd);\n",
       "            observer.disconnect();\n",
       "        }}\n",
       "}});\n",
       "\n",
       "// Listen for the removal of the full notebook cells\n",
       "var notebookContainer = gd.closest('#notebook-container');\n",
       "if (notebookContainer) {{\n",
       "    x.observe(notebookContainer, {childList: true});\n",
       "}}\n",
       "\n",
       "// Listen for the clearing of the current output cell\n",
       "var outputEl = gd.closest('.output');\n",
       "if (outputEl) {{\n",
       "    x.observe(outputEl, {childList: true});\n",
       "}}\n",
       "\n",
       "                        })                };                });            </script>        </div>"
      ]
     },
     "metadata": {},
     "output_type": "display_data"
    }
   ],
   "source": [
    "import plotly.express as px\n",
    "\n",
    "fig = px.scatter(Metro_cities, x='stations', y='annual_ridership_mill',\n",
    "                 hover_name='city', color='region', size='length_km',\n",
    "                 labels={'stations': 'Number of Stations',\n",
    "                         'annual_ridership_mill': 'Annual Ridership (millions)',\n",
    "                         'length_km': 'System Length (km)'},\n",
    "                 title='Metro System Size vs. Annual Ridership')\n",
    "fig.show()"
   ]
  },
  {
   "cell_type": "markdown",
   "id": "a30390c0-fd7f-49c3-90cd-80b2ce103598",
   "metadata": {},
   "source": [
    "This plot shows a positive correlation between the number of stations and annual ridership. We can observe that cities with more extensive metro systems (more stations and longer networks) tend to have higher ridership"
   ]
  },
  {
   "cell_type": "markdown",
   "id": "5b2f952b-1545-4f9d-9c2f-9f67aa53a269",
   "metadata": {},
   "source": [
    "# 2. Metro System Age vs. Annual Ridership #"
   ]
  },
  {
   "cell_type": "code",
   "execution_count": 54,
   "id": "45838dc3-19b2-411a-98e6-a1be7ae0b4e3",
   "metadata": {},
   "outputs": [
    {
     "data": {
      "application/vnd.plotly.v1+json": {
       "config": {
        "plotlyServerURL": "https://plot.ly"
       },
       "data": [
        {
         "hovertemplate": "<b>%{hovertext}</b><br><br>region=africa<br>System Age (years)=%{x}<br>Annual Ridership (millions)=%{y}<br>Number of Stations=%{marker.size}<extra></extra>",
         "hovertext": [
          "Algiers",
          "Cairo"
         ],
         "legendgroup": "africa",
         "marker": {
          "color": "#636efa",
          "size": [
           19,
           71
          ],
          "sizemode": "area",
          "sizeref": 1.06,
          "symbol": "circle"
         },
         "mode": "markers",
         "name": "africa",
         "orientation": "v",
         "showlegend": true,
         "type": "scatter",
         "x": [
          13,
          37
         ],
         "xaxis": "x",
         "y": [
          45.3,
          1314
         ],
         "yaxis": "y"
        },
        {
         "hovertemplate": "<b>%{hovertext}</b><br><br>region=latin_america<br>System Age (years)=%{x}<br>Annual Ridership (millions)=%{y}<br>Number of Stations=%{marker.size}<extra></extra>",
         "hovertext": [
          "Buenos Aires",
          "Belo Horizonte",
          "Brasília",
          "Porto Alegre",
          "Recife",
          "Rio de Janeiro",
          "Salvador",
          "São Paulo",
          "Santiago",
          "Medellín",
          "Santo Domingo",
          "Guadalajara",
          "Mexico City",
          "Monterrey",
          "Panama City",
          "Lima",
          "Caracas"
         ],
         "legendgroup": "latin_america",
         "marker": {
          "color": "#EF553B",
          "size": [
           90,
           19,
           27,
           22,
           28,
           41,
           19,
           91,
           136,
           27,
           34,
           18,
           163,
           38,
           29,
           26,
           52
          ],
          "sizemode": "area",
          "sizeref": 1.06,
          "symbol": "circle"
         },
         "mode": "markers",
         "name": "latin_america",
         "orientation": "v",
         "showlegend": true,
         "type": "scatter",
         "x": [
          111,
          38,
          23,
          39,
          39,
          45,
          10,
          50,
          49,
          29,
          15,
          35,
          55,
          33,
          10,
          13,
          41
         ],
         "xaxis": "x",
         "y": [
          74,
          54.4,
          42.8,
          48.1,
          93.5,
          118.7,
          62,
          763.6,
          263.4,
          115.4,
          49.6,
          0,
          935.2,
          109.9,
          49.9,
          110.4,
          358
         ],
         "yaxis": "y"
        },
        {
         "hovertemplate": "<b>%{hovertext}</b><br><br>region=asia<br>System Age (years)=%{x}<br>Annual Ridership (millions)=%{y}<br>Number of Stations=%{marker.size}<extra></extra>",
         "hovertext": [
          "Yerevan",
          "Baku",
          "Beijing",
          "Changchun",
          "Changsha",
          "Changzhou",
          "Chengdu",
          "Chongqing",
          "Dalian",
          "Dongguan",
          "Foshan",
          "Fuzhou",
          "Guangzhou",
          "Guiyang",
          "Hangzhou",
          "Harbin",
          "Hefei",
          "Hohhot",
          "Hong Kong",
          "Jinan",
          "Kunming",
          "Lanzhou",
          "Luoyang",
          "Nanchang",
          "Nanjing",
          "Nanning",
          "Ningbo",
          "Qingdao",
          "Shanghai",
          "Shaoxing",
          "Shenyang",
          "Shenzhen",
          "Shijiazhuang",
          "Suzhou",
          "Taiyuan",
          "Tianjin",
          "Ürümqi",
          "Wenzhou",
          "Wuhan",
          "Wuhu",
          "Wuxi",
          "Xiamen",
          "Xi'an",
          "Xuzhou",
          "Zhengzhou",
          "Tbilisi",
          "Ahmedabad",
          "Bengaluru",
          "Chennai",
          "Delhi",
          "Gurgaon",
          "Hyderabad",
          "Jaipur",
          "Kanpur",
          "Kochi",
          "Kolkata",
          "Lucknow",
          "Mumbai",
          "Nagpur",
          "Noida",
          "Pune",
          "Jakarta",
          "Isfahan",
          "Mashhad",
          "Shiraz",
          "Tabriz",
          "Tehran",
          "Fukuoka",
          "Hiroshima",
          "Kobe",
          "Kyoto",
          "Nagoya",
          "Osaka",
          "Sapporo",
          "Sendai",
          "Tokyo",
          "Tokyo",
          "Tokyo",
          "Yokohama",
          "Yokohama",
          "Almaty",
          "Pyongyang",
          "Busan",
          "Daegu",
          "Daejeon",
          "Gwangju",
          "Incheon",
          "Seoul",
          "Seoul",
          "Seoul",
          "Kuala Lumpur",
          "Lahore",
          "Manila",
          "Manila",
          "Doha",
          "Kazan",
          "Moscow",
          "Nizhny Novgorod",
          "Novosibirsk",
          "Saint Petersburg",
          "Samara",
          "Yekaterinburg",
          "Singapore",
          "Kaohsiung",
          "Taipei",
          "Taichung",
          "Taoyuan",
          "Bangkok",
          "Bangkok",
          "Adana",
          "Ankara",
          "Bursa",
          "Istanbul",
          "İzmir",
          "Dubai",
          "Tashkent",
          "Hanoi"
         ],
         "legendgroup": "asia",
         "marker": {
          "color": "#00cc96",
          "size": [
           10,
           26,
           366,
           63,
           100,
           43,
           285,
           210,
           80,
           15,
           41,
           46,
           290,
           55,
           207,
           63,
           122,
           44,
           97,
           40,
           84,
           20,
           33,
           103,
           175,
           94,
           114,
           138,
           396,
           10,
           91,
           288,
           60,
           154,
           23,
           164,
           21,
           18,
           247,
           36,
           87,
           65,
           164,
           51,
           126,
           23,
           6,
           51,
           42,
           230,
           11,
           56,
           11,
           9,
           22,
           33,
           21,
           12,
           24,
           21,
           10,
           13,
           20,
           35,
           20,
           15,
           122,
           35,
           21,
           28,
           31,
           87,
           100,
           46,
           29,
           99,
           142,
           8,
           40,
           6,
           9,
           17,
           135,
           58,
           22,
           20,
           56,
           339,
           86,
           12,
           104,
           26,
           33,
           13,
           36,
           11,
           203,
           15,
           13,
           64,
           10,
           9,
           127,
           37,
           119,
           18,
           22,
           60,
           53,
           13,
           56,
           38,
           107,
           17,
           56,
           39,
           12
          ],
          "sizemode": "area",
          "sizeref": 1.06,
          "symbol": "circle"
         },
         "mode": "markers",
         "name": "asia",
         "orientation": "v",
         "showlegend": true,
         "type": "scatter",
         "x": [
          43,
          57,
          53,
          22,
          10,
          5,
          14,
          19,
          21,
          8,
          14,
          8,
          27,
          7,
          12,
          11,
          8,
          5,
          45,
          5,
          12,
          5,
          3,
          9,
          19,
          8,
          10,
          9,
          31,
          3,
          14,
          20,
          7,
          12,
          4,
          40,
          6,
          5,
          20,
          3,
          10,
          7,
          13,
          5,
          11,
          58,
          5,
          13,
          9,
          22,
          11,
          7,
          9,
          3,
          7,
          40,
          7,
          10,
          5,
          5,
          2,
          5,
          9,
          13,
          10,
          9,
          24,
          43,
          30,
          47,
          43,
          67,
          91,
          53,
          37,
          64,
          97,
          28,
          52,
          20,
          13,
          51,
          39,
          27,
          18,
          20,
          25,
          50,
          30,
          13,
          28,
          4,
          40,
          25,
          5,
          19,
          89,
          39,
          38,
          69,
          37,
          33,
          37,
          16,
          28,
          3,
          7,
          25,
          20,
          15,
          27,
          22,
          35,
          24,
          15,
          47,
          3
         ],
         "xaxis": "x",
         "y": [
          10.75,
          72.1,
          2292.65,
          154.37,
          385.76,
          22.82,
          1800,
          839.75,
          125.22,
          35.06,
          0,
          94.75,
          2415.6,
          36.98,
          582.41,
          51.33,
          195.07,
          21.3,
          1155.8,
          8.68,
          159.26,
          52.48,
          0,
          135.93,
          801.34,
          208.41,
          159.86,
          139.09,
          2834.69,
          0,
          316.28,
          1626.73,
          71.71,
          308.57,
          0.876,
          338.75,
          19.11,
          7.01,
          628.03,
          0,
          87.22,
          113.97,
          731.04,
          20.94,
          341.01,
          69.78,
          0.4,
          174.22,
          42,
          1790,
          18.3,
          173,
          7,
          0,
          17,
          256,
          22,
          126,
          4,
          5,
          0,
          9.9,
          0,
          50.7,
          18,
          0,
          820,
          173.3,
          24,
          114.2,
          146.4,
          487.4,
          870.4,
          226.9,
          91.7,
          1174.9,
          2757.4,
          95,
          243.2,
          80.6,
          7,
          36,
          361,
          168,
          40,
          19,
          116,
          2127.2,
          426.4,
          122.5,
          113.2,
          20,
          218.2,
          96.9,
          0,
          21.5,
          1618.2,
          20.4,
          58.1,
          495,
          8.8,
          27.3,
          738.4,
          65.4,
          695.7,
          0,
          28,
          236.9,
          95.3,
          14,
          66.4,
          91.3,
          262.3,
          100,
          113.6,
          38.8,
          0
         ],
         "yaxis": "y"
        },
        {
         "hovertemplate": "<b>%{hovertext}</b><br><br>region=australia<br>System Age (years)=%{x}<br>Annual Ridership (millions)=%{y}<br>Number of Stations=%{marker.size}<extra></extra>",
         "hovertext": [
          "Sydney"
         ],
         "legendgroup": "australia",
         "marker": {
          "color": "#ab63fa",
          "size": [
           13
          ],
          "sizemode": "area",
          "sizeref": 1.06,
          "symbol": "circle"
         },
         "mode": "markers",
         "name": "australia",
         "orientation": "v",
         "showlegend": true,
         "type": "scatter",
         "x": [
          5
         ],
         "xaxis": "x",
         "y": [
          12.9
         ],
         "yaxis": "y"
        },
        {
         "hovertemplate": "<b>%{hovertext}</b><br><br>region=europe<br>System Age (years)=%{x}<br>Annual Ridership (millions)=%{y}<br>Number of Stations=%{marker.size}<extra></extra>",
         "hovertext": [
          "Vienna",
          "Minsk",
          "Brussels",
          "Sofia",
          "Prague",
          "Copenhagen",
          "Helsinki",
          "Lille",
          "Lyon",
          "Marseille",
          "Paris",
          "Rennes",
          "Toulouse",
          "Berlin",
          "Hamburg",
          "Munich",
          "Nuremberg",
          "Athens",
          "Budapest",
          "Brescia",
          "Catania",
          "Genoa",
          "Milan",
          "Naples",
          "Rome",
          "Turin",
          "Amsterdam",
          "Rotterdam",
          "Oslo",
          "Warsaw",
          "Lisbon",
          "Bucharest",
          "Barcelona",
          "Bilbao",
          "Madrid",
          "Stockholm",
          "Lausanne",
          "Dnipro",
          "Kharkiv",
          "Kyiv",
          "Glasgow",
          "London",
          "London"
         ],
         "legendgroup": "europe",
         "marker": {
          "color": "#FFA15A",
          "size": [
           98,
           33,
           59,
           47,
           58,
           39,
           25,
           60,
           40,
           29,
           306,
           15,
           37,
           175,
           93,
           96,
           49,
           64,
           48,
           17,
           10,
           8,
           106,
           23,
           73,
           23,
           39,
           70,
           101,
           33,
           56,
           63,
           166,
           42,
           242,
           100,
           14,
           6,
           30,
           52,
           15,
           272,
           45
          ],
          "sizemode": "area",
          "sizeref": 1.06,
          "symbol": "circle"
         },
         "mode": "markers",
         "name": "europe",
         "orientation": "v",
         "showlegend": true,
         "type": "scatter",
         "x": [
          48,
          40,
          48,
          26,
          50,
          22,
          42,
          41,
          46,
          47,
          124,
          22,
          31,
          122,
          112,
          53,
          52,
          120,
          128,
          11,
          25,
          34,
          60,
          31,
          69,
          18,
          47,
          56,
          58,
          29,
          65,
          45,
          100,
          29,
          105,
          74,
          16,
          29,
          49,
          64,
          128,
          134,
          37
         ],
         "xaxis": "x",
         "y": [
          459.8,
          219.3,
          87.6,
          92.4,
          251.4,
          63.7,
          60.4,
          127.6,
          219.5,
          76.6,
          753,
          37.2,
          118.2,
          596,
          249.5,
          429,
          114.6,
          259.2,
          232.8,
          18.7,
          5.8,
          15.3,
          386.8,
          41.1,
          320,
          42.5,
          111.3,
          99,
          74,
          195.4,
          184.6,
          179.2,
          217.93,
          91.6,
          349.8,
          355,
          32.8,
          3.55,
          128.1,
          279.5,
          12.7,
          296,
          39.9
         ],
         "yaxis": "y"
        },
        {
         "hovertemplate": "<b>%{hovertext}</b><br><br>region=north_america<br>System Age (years)=%{x}<br>Annual Ridership (millions)=%{y}<br>Number of Stations=%{marker.size}<extra></extra>",
         "hovertext": [
          "Montreal",
          "Toronto",
          "Vancouver",
          "Atlanta",
          "Baltimore",
          "Boston",
          "Chicago",
          "Cleveland",
          "Los Angeles",
          "Miami",
          "New York City",
          "New York City",
          "New York City",
          "Philadelphia",
          "Philadelphia",
          "San Francisco/Oakland",
          "San Juan",
          "Washington, D.C."
         ],
         "legendgroup": "north_america",
         "marker": {
          "color": "#19d3f3",
          "size": [
           68,
           75,
           53,
           38,
           14,
           51,
           145,
           18,
           16,
           23,
           424,
           21,
           13,
           75,
           13,
           47,
           16,
           91
          ],
          "sizemode": "area",
          "sizeref": 1.06,
          "symbol": "circle"
         },
         "mode": "markers",
         "name": "north_america",
         "orientation": "v",
         "showlegend": true,
         "type": "scatter",
         "x": [
          58,
          70,
          39,
          45,
          41,
          123,
          132,
          69,
          31,
          40,
          120,
          99,
          116,
          117,
          88,
          52,
          20,
          48
         ],
         "xaxis": "x",
         "y": [
          164,
          166,
          74.5,
          24.1,
          2.9,
          57.5,
          76,
          2.6,
          22.8,
          9.6,
          639.5,
          2.7,
          29.7,
          37.7,
          3.9,
          34.1,
          1.1,
          68.1
         ],
         "yaxis": "y"
        }
       ],
       "layout": {
        "autosize": true,
        "legend": {
         "itemsizing": "constant",
         "title": {
          "text": "region"
         },
         "tracegroupgap": 0
        },
        "template": {
         "data": {
          "bar": [
           {
            "error_x": {
             "color": "#2a3f5f"
            },
            "error_y": {
             "color": "#2a3f5f"
            },
            "marker": {
             "line": {
              "color": "#E5ECF6",
              "width": 0.5
             },
             "pattern": {
              "fillmode": "overlay",
              "size": 10,
              "solidity": 0.2
             }
            },
            "type": "bar"
           }
          ],
          "barpolar": [
           {
            "marker": {
             "line": {
              "color": "#E5ECF6",
              "width": 0.5
             },
             "pattern": {
              "fillmode": "overlay",
              "size": 10,
              "solidity": 0.2
             }
            },
            "type": "barpolar"
           }
          ],
          "carpet": [
           {
            "aaxis": {
             "endlinecolor": "#2a3f5f",
             "gridcolor": "white",
             "linecolor": "white",
             "minorgridcolor": "white",
             "startlinecolor": "#2a3f5f"
            },
            "baxis": {
             "endlinecolor": "#2a3f5f",
             "gridcolor": "white",
             "linecolor": "white",
             "minorgridcolor": "white",
             "startlinecolor": "#2a3f5f"
            },
            "type": "carpet"
           }
          ],
          "choropleth": [
           {
            "colorbar": {
             "outlinewidth": 0,
             "ticks": ""
            },
            "type": "choropleth"
           }
          ],
          "contour": [
           {
            "colorbar": {
             "outlinewidth": 0,
             "ticks": ""
            },
            "colorscale": [
             [
              0,
              "#0d0887"
             ],
             [
              0.1111111111111111,
              "#46039f"
             ],
             [
              0.2222222222222222,
              "#7201a8"
             ],
             [
              0.3333333333333333,
              "#9c179e"
             ],
             [
              0.4444444444444444,
              "#bd3786"
             ],
             [
              0.5555555555555556,
              "#d8576b"
             ],
             [
              0.6666666666666666,
              "#ed7953"
             ],
             [
              0.7777777777777778,
              "#fb9f3a"
             ],
             [
              0.8888888888888888,
              "#fdca26"
             ],
             [
              1,
              "#f0f921"
             ]
            ],
            "type": "contour"
           }
          ],
          "contourcarpet": [
           {
            "colorbar": {
             "outlinewidth": 0,
             "ticks": ""
            },
            "type": "contourcarpet"
           }
          ],
          "heatmap": [
           {
            "colorbar": {
             "outlinewidth": 0,
             "ticks": ""
            },
            "colorscale": [
             [
              0,
              "#0d0887"
             ],
             [
              0.1111111111111111,
              "#46039f"
             ],
             [
              0.2222222222222222,
              "#7201a8"
             ],
             [
              0.3333333333333333,
              "#9c179e"
             ],
             [
              0.4444444444444444,
              "#bd3786"
             ],
             [
              0.5555555555555556,
              "#d8576b"
             ],
             [
              0.6666666666666666,
              "#ed7953"
             ],
             [
              0.7777777777777778,
              "#fb9f3a"
             ],
             [
              0.8888888888888888,
              "#fdca26"
             ],
             [
              1,
              "#f0f921"
             ]
            ],
            "type": "heatmap"
           }
          ],
          "heatmapgl": [
           {
            "colorbar": {
             "outlinewidth": 0,
             "ticks": ""
            },
            "colorscale": [
             [
              0,
              "#0d0887"
             ],
             [
              0.1111111111111111,
              "#46039f"
             ],
             [
              0.2222222222222222,
              "#7201a8"
             ],
             [
              0.3333333333333333,
              "#9c179e"
             ],
             [
              0.4444444444444444,
              "#bd3786"
             ],
             [
              0.5555555555555556,
              "#d8576b"
             ],
             [
              0.6666666666666666,
              "#ed7953"
             ],
             [
              0.7777777777777778,
              "#fb9f3a"
             ],
             [
              0.8888888888888888,
              "#fdca26"
             ],
             [
              1,
              "#f0f921"
             ]
            ],
            "type": "heatmapgl"
           }
          ],
          "histogram": [
           {
            "marker": {
             "pattern": {
              "fillmode": "overlay",
              "size": 10,
              "solidity": 0.2
             }
            },
            "type": "histogram"
           }
          ],
          "histogram2d": [
           {
            "colorbar": {
             "outlinewidth": 0,
             "ticks": ""
            },
            "colorscale": [
             [
              0,
              "#0d0887"
             ],
             [
              0.1111111111111111,
              "#46039f"
             ],
             [
              0.2222222222222222,
              "#7201a8"
             ],
             [
              0.3333333333333333,
              "#9c179e"
             ],
             [
              0.4444444444444444,
              "#bd3786"
             ],
             [
              0.5555555555555556,
              "#d8576b"
             ],
             [
              0.6666666666666666,
              "#ed7953"
             ],
             [
              0.7777777777777778,
              "#fb9f3a"
             ],
             [
              0.8888888888888888,
              "#fdca26"
             ],
             [
              1,
              "#f0f921"
             ]
            ],
            "type": "histogram2d"
           }
          ],
          "histogram2dcontour": [
           {
            "colorbar": {
             "outlinewidth": 0,
             "ticks": ""
            },
            "colorscale": [
             [
              0,
              "#0d0887"
             ],
             [
              0.1111111111111111,
              "#46039f"
             ],
             [
              0.2222222222222222,
              "#7201a8"
             ],
             [
              0.3333333333333333,
              "#9c179e"
             ],
             [
              0.4444444444444444,
              "#bd3786"
             ],
             [
              0.5555555555555556,
              "#d8576b"
             ],
             [
              0.6666666666666666,
              "#ed7953"
             ],
             [
              0.7777777777777778,
              "#fb9f3a"
             ],
             [
              0.8888888888888888,
              "#fdca26"
             ],
             [
              1,
              "#f0f921"
             ]
            ],
            "type": "histogram2dcontour"
           }
          ],
          "mesh3d": [
           {
            "colorbar": {
             "outlinewidth": 0,
             "ticks": ""
            },
            "type": "mesh3d"
           }
          ],
          "parcoords": [
           {
            "line": {
             "colorbar": {
              "outlinewidth": 0,
              "ticks": ""
             }
            },
            "type": "parcoords"
           }
          ],
          "pie": [
           {
            "automargin": true,
            "type": "pie"
           }
          ],
          "scatter": [
           {
            "fillpattern": {
             "fillmode": "overlay",
             "size": 10,
             "solidity": 0.2
            },
            "type": "scatter"
           }
          ],
          "scatter3d": [
           {
            "line": {
             "colorbar": {
              "outlinewidth": 0,
              "ticks": ""
             }
            },
            "marker": {
             "colorbar": {
              "outlinewidth": 0,
              "ticks": ""
             }
            },
            "type": "scatter3d"
           }
          ],
          "scattercarpet": [
           {
            "marker": {
             "colorbar": {
              "outlinewidth": 0,
              "ticks": ""
             }
            },
            "type": "scattercarpet"
           }
          ],
          "scattergeo": [
           {
            "marker": {
             "colorbar": {
              "outlinewidth": 0,
              "ticks": ""
             }
            },
            "type": "scattergeo"
           }
          ],
          "scattergl": [
           {
            "marker": {
             "colorbar": {
              "outlinewidth": 0,
              "ticks": ""
             }
            },
            "type": "scattergl"
           }
          ],
          "scattermapbox": [
           {
            "marker": {
             "colorbar": {
              "outlinewidth": 0,
              "ticks": ""
             }
            },
            "type": "scattermapbox"
           }
          ],
          "scatterpolar": [
           {
            "marker": {
             "colorbar": {
              "outlinewidth": 0,
              "ticks": ""
             }
            },
            "type": "scatterpolar"
           }
          ],
          "scatterpolargl": [
           {
            "marker": {
             "colorbar": {
              "outlinewidth": 0,
              "ticks": ""
             }
            },
            "type": "scatterpolargl"
           }
          ],
          "scatterternary": [
           {
            "marker": {
             "colorbar": {
              "outlinewidth": 0,
              "ticks": ""
             }
            },
            "type": "scatterternary"
           }
          ],
          "surface": [
           {
            "colorbar": {
             "outlinewidth": 0,
             "ticks": ""
            },
            "colorscale": [
             [
              0,
              "#0d0887"
             ],
             [
              0.1111111111111111,
              "#46039f"
             ],
             [
              0.2222222222222222,
              "#7201a8"
             ],
             [
              0.3333333333333333,
              "#9c179e"
             ],
             [
              0.4444444444444444,
              "#bd3786"
             ],
             [
              0.5555555555555556,
              "#d8576b"
             ],
             [
              0.6666666666666666,
              "#ed7953"
             ],
             [
              0.7777777777777778,
              "#fb9f3a"
             ],
             [
              0.8888888888888888,
              "#fdca26"
             ],
             [
              1,
              "#f0f921"
             ]
            ],
            "type": "surface"
           }
          ],
          "table": [
           {
            "cells": {
             "fill": {
              "color": "#EBF0F8"
             },
             "line": {
              "color": "white"
             }
            },
            "header": {
             "fill": {
              "color": "#C8D4E3"
             },
             "line": {
              "color": "white"
             }
            },
            "type": "table"
           }
          ]
         },
         "layout": {
          "annotationdefaults": {
           "arrowcolor": "#2a3f5f",
           "arrowhead": 0,
           "arrowwidth": 1
          },
          "autotypenumbers": "strict",
          "coloraxis": {
           "colorbar": {
            "outlinewidth": 0,
            "ticks": ""
           }
          },
          "colorscale": {
           "diverging": [
            [
             0,
             "#8e0152"
            ],
            [
             0.1,
             "#c51b7d"
            ],
            [
             0.2,
             "#de77ae"
            ],
            [
             0.3,
             "#f1b6da"
            ],
            [
             0.4,
             "#fde0ef"
            ],
            [
             0.5,
             "#f7f7f7"
            ],
            [
             0.6,
             "#e6f5d0"
            ],
            [
             0.7,
             "#b8e186"
            ],
            [
             0.8,
             "#7fbc41"
            ],
            [
             0.9,
             "#4d9221"
            ],
            [
             1,
             "#276419"
            ]
           ],
           "sequential": [
            [
             0,
             "#0d0887"
            ],
            [
             0.1111111111111111,
             "#46039f"
            ],
            [
             0.2222222222222222,
             "#7201a8"
            ],
            [
             0.3333333333333333,
             "#9c179e"
            ],
            [
             0.4444444444444444,
             "#bd3786"
            ],
            [
             0.5555555555555556,
             "#d8576b"
            ],
            [
             0.6666666666666666,
             "#ed7953"
            ],
            [
             0.7777777777777778,
             "#fb9f3a"
            ],
            [
             0.8888888888888888,
             "#fdca26"
            ],
            [
             1,
             "#f0f921"
            ]
           ],
           "sequentialminus": [
            [
             0,
             "#0d0887"
            ],
            [
             0.1111111111111111,
             "#46039f"
            ],
            [
             0.2222222222222222,
             "#7201a8"
            ],
            [
             0.3333333333333333,
             "#9c179e"
            ],
            [
             0.4444444444444444,
             "#bd3786"
            ],
            [
             0.5555555555555556,
             "#d8576b"
            ],
            [
             0.6666666666666666,
             "#ed7953"
            ],
            [
             0.7777777777777778,
             "#fb9f3a"
            ],
            [
             0.8888888888888888,
             "#fdca26"
            ],
            [
             1,
             "#f0f921"
            ]
           ]
          },
          "colorway": [
           "#636efa",
           "#EF553B",
           "#00cc96",
           "#ab63fa",
           "#FFA15A",
           "#19d3f3",
           "#FF6692",
           "#B6E880",
           "#FF97FF",
           "#FECB52"
          ],
          "font": {
           "color": "#2a3f5f"
          },
          "geo": {
           "bgcolor": "white",
           "lakecolor": "white",
           "landcolor": "#E5ECF6",
           "showlakes": true,
           "showland": true,
           "subunitcolor": "white"
          },
          "hoverlabel": {
           "align": "left"
          },
          "hovermode": "closest",
          "mapbox": {
           "style": "light"
          },
          "paper_bgcolor": "white",
          "plot_bgcolor": "#E5ECF6",
          "polar": {
           "angularaxis": {
            "gridcolor": "white",
            "linecolor": "white",
            "ticks": ""
           },
           "bgcolor": "#E5ECF6",
           "radialaxis": {
            "gridcolor": "white",
            "linecolor": "white",
            "ticks": ""
           }
          },
          "scene": {
           "xaxis": {
            "backgroundcolor": "#E5ECF6",
            "gridcolor": "white",
            "gridwidth": 2,
            "linecolor": "white",
            "showbackground": true,
            "ticks": "",
            "zerolinecolor": "white"
           },
           "yaxis": {
            "backgroundcolor": "#E5ECF6",
            "gridcolor": "white",
            "gridwidth": 2,
            "linecolor": "white",
            "showbackground": true,
            "ticks": "",
            "zerolinecolor": "white"
           },
           "zaxis": {
            "backgroundcolor": "#E5ECF6",
            "gridcolor": "white",
            "gridwidth": 2,
            "linecolor": "white",
            "showbackground": true,
            "ticks": "",
            "zerolinecolor": "white"
           }
          },
          "shapedefaults": {
           "line": {
            "color": "#2a3f5f"
           }
          },
          "ternary": {
           "aaxis": {
            "gridcolor": "white",
            "linecolor": "white",
            "ticks": ""
           },
           "baxis": {
            "gridcolor": "white",
            "linecolor": "white",
            "ticks": ""
           },
           "bgcolor": "#E5ECF6",
           "caxis": {
            "gridcolor": "white",
            "linecolor": "white",
            "ticks": ""
           }
          },
          "title": {
           "x": 0.05
          },
          "xaxis": {
           "automargin": true,
           "gridcolor": "white",
           "linecolor": "white",
           "ticks": "",
           "title": {
            "standoff": 15
           },
           "zerolinecolor": "white",
           "zerolinewidth": 2
          },
          "yaxis": {
           "automargin": true,
           "gridcolor": "white",
           "linecolor": "white",
           "ticks": "",
           "title": {
            "standoff": 15
           },
           "zerolinecolor": "white",
           "zerolinewidth": 2
          }
         }
        },
        "title": {
         "text": "Metro System Age vs. Annual Ridership"
        },
        "xaxis": {
         "anchor": "y",
         "autorange": true,
         "domain": [
          0,
          1
         ],
         "range": [
          -6.725970622666672,
          146.20341142406883
         ],
         "title": {
          "text": "System Age (years)"
         },
         "type": "linear"
        },
        "yaxis": {
         "anchor": "x",
         "autorange": true,
         "domain": [
          0,
          1
         ],
         "range": [
          -290.1517595751146,
          3321.9273226589985
         ],
         "title": {
          "text": "Annual Ridership (millions)"
         },
         "type": "linear"
        }
       }
      },
      "image/png": "[encoded data removed]",
      "text/html": [
       "<div>                            <div id=\"8d4d70fe-513b-4f22-92f0-c1a8dfd3fcc6\" class=\"plotly-graph-div\" style=\"height:525px; width:100%;\"></div>            <script type=\"text/javascript\">                require([\"plotly\"], function(Plotly) {                    window.PLOTLYENV=window.PLOTLYENV || {};                                    if (document.getElementById(\"8d4d70fe-513b-4f22-92f0-c1a8dfd3fcc6\")) {                    Plotly.newPlot(                        \"8d4d70fe-513b-4f22-92f0-c1a8dfd3fcc6\",                        [{\"hovertemplate\":\"<b>%{hovertext}</b><br><br>region=africa<br>System Age (years)=%{x}<br>Annual Ridership (millions)=%{y}<br>Number of Stations=%{marker.size}<extra></extra>\",\"hovertext\":[\"Algiers\",\"Cairo\"],\"legendgroup\":\"africa\",\"marker\":{\"color\":\"#636efa\",\"size\":[19,71],\"sizemode\":\"area\",\"sizeref\":1.06,\"symbol\":\"circle\"},\"mode\":\"markers\",\"name\":\"africa\",\"orientation\":\"v\",\"showlegend\":true,\"x\":[13,37],\"xaxis\":\"x\",\"y\":[45.3,1314.0],\"yaxis\":\"y\",\"type\":\"scatter\"},{\"hovertemplate\":\"<b>%{hovertext}</b><br><br>region=latin_america<br>System Age (years)=%{x}<br>Annual Ridership (millions)=%{y}<br>Number of Stations=%{marker.size}<extra></extra>\",\"hovertext\":[\"Buenos Aires\",\"Belo Horizonte\",\"Bras\\u00edlia\",\"Porto Alegre\",\"Recife\",\"Rio de Janeiro\",\"Salvador\",\"S\\u00e3o Paulo\",\"Santiago\",\"Medell\\u00edn\",\"Santo Domingo\",\"Guadalajara\",\"Mexico City\",\"Monterrey\",\"Panama City\",\"Lima\",\"Caracas\"],\"legendgroup\":\"latin_america\",\"marker\":{\"color\":\"#EF553B\",\"size\":[90,19,27,22,28,41,19,91,136,27,34,18,163,38,29,26,52],\"sizemode\":\"area\",\"sizeref\":1.06,\"symbol\":\"circle\"},\"mode\":\"markers\",\"name\":\"latin_america\",\"orientation\":\"v\",\"showlegend\":true,\"x\":[111,38,23,39,39,45,10,50,49,29,15,35,55,33,10,13,41],\"xaxis\":\"x\",\"y\":[74.0,54.4,42.8,48.1,93.5,118.7,62.0,763.6,263.4,115.4,49.6,0.0,935.2,109.9,49.9,110.4,358.0],\"yaxis\":\"y\",\"type\":\"scatter\"},{\"hovertemplate\":\"<b>%{hovertext}</b><br><br>region=asia<br>System Age (years)=%{x}<br>Annual Ridership (millions)=%{y}<br>Number of Stations=%{marker.size}<extra></extra>\",\"hovertext\":[\"Yerevan\",\"Baku\",\"Beijing\",\"Changchun\",\"Changsha\",\"Changzhou\",\"Chengdu\",\"Chongqing\",\"Dalian\",\"Dongguan\",\"Foshan\",\"Fuzhou\",\"Guangzhou\",\"Guiyang\",\"Hangzhou\",\"Harbin\",\"Hefei\",\"Hohhot\",\"Hong Kong\",\"Jinan\",\"Kunming\",\"Lanzhou\",\"Luoyang\",\"Nanchang\",\"Nanjing\",\"Nanning\",\"Ningbo\",\"Qingdao\",\"Shanghai\",\"Shaoxing\",\"Shenyang\",\"Shenzhen\",\"Shijiazhuang\",\"Suzhou\",\"Taiyuan\",\"Tianjin\",\"\\u00dcr\\u00fcmqi\",\"Wenzhou\",\"Wuhan\",\"Wuhu\",\"Wuxi\",\"Xiamen\",\"Xi'an\",\"Xuzhou\",\"Zhengzhou\",\"Tbilisi\",\"Ahmedabad\",\"Bengaluru\",\"Chennai\",\"Delhi\",\"Gurgaon\",\"Hyderabad\",\"Jaipur\",\"Kanpur\",\"Kochi\",\"Kolkata\",\"Lucknow\",\"Mumbai\",\"Nagpur\",\"Noida\",\"Pune\",\"Jakarta\",\"Isfahan\",\"Mashhad\",\"Shiraz\",\"Tabriz\",\"Tehran\",\"Fukuoka\",\"Hiroshima\",\"Kobe\",\"Kyoto\",\"Nagoya\",\"Osaka\",\"Sapporo\",\"Sendai\",\"Tokyo\",\"Tokyo\",\"Tokyo\",\"Yokohama\",\"Yokohama\",\"Almaty\",\"Pyongyang\",\"Busan\",\"Daegu\",\"Daejeon\",\"Gwangju\",\"Incheon\",\"Seoul\",\"Seoul\",\"Seoul\",\"Kuala Lumpur\",\"Lahore\",\"Manila\",\"Manila\",\"Doha\",\"Kazan\",\"Moscow\",\"Nizhny Novgorod\",\"Novosibirsk\",\"Saint Petersburg\",\"Samara\",\"Yekaterinburg\",\"Singapore\",\"Kaohsiung\",\"Taipei\",\"Taichung\",\"Taoyuan\",\"Bangkok\",\"Bangkok\",\"Adana\",\"Ankara\",\"Bursa\",\"Istanbul\",\"\\u0130zmir\",\"Dubai\",\"Tashkent\",\"Hanoi\"],\"legendgroup\":\"asia\",\"marker\":{\"color\":\"#00cc96\",\"size\":[10,26,366,63,100,43,285,210,80,15,41,46,290,55,207,63,122,44,97,40,84,20,33,103,175,94,114,138,396,10,91,288,60,154,23,164,21,18,247,36,87,65,164,51,126,23,6,51,42,230,11,56,11,9,22,33,21,12,24,21,10,13,20,35,20,15,122,35,21,28,31,87,100,46,29,99,142,8,40,6,9,17,135,58,22,20,56,339,86,12,104,26,33,13,36,11,203,15,13,64,10,9,127,37,119,18,22,60,53,13,56,38,107,17,56,39,12],\"sizemode\":\"area\",\"sizeref\":1.06,\"symbol\":\"circle\"},\"mode\":\"markers\",\"name\":\"asia\",\"orientation\":\"v\",\"showlegend\":true,\"x\":[43,57,53,22,10,5,14,19,21,8,14,8,27,7,12,11,8,5,45,5,12,5,3,9,19,8,10,9,31,3,14,20,7,12,4,40,6,5,20,3,10,7,13,5,11,58,5,13,9,22,11,7,9,3,7,40,7,10,5,5,2,5,9,13,10,9,24,43,30,47,43,67,91,53,37,64,97,28,52,20,13,51,39,27,18,20,25,50,30,13,28,4,40,25,5,19,89,39,38,69,37,33,37,16,28,3,7,25,20,15,27,22,35,24,15,47,3],\"xaxis\":\"x\",\"y\":[10.75,72.1,2292.65,154.37,385.76,22.82,1800.0,839.75,125.22,35.06,0.0,94.75,2415.6,36.98,582.41,51.33,195.07,21.3,1155.8,8.68,159.26,52.48,0.0,135.93,801.34,208.41,159.86,139.09,2834.69,0.0,316.28,1626.73,71.71,308.57,0.876,338.75,19.11,7.01,628.03,0.0,87.22,113.97,731.04,20.94,341.01,69.78,0.4,174.22,42.0,1790.0,18.3,173.0,7.0,0.0,17.0,256.0,22.0,126.0,4.0,5.0,0.0,9.9,0.0,50.7,18.0,0.0,820.0,173.3,24.0,114.2,146.4,487.4,870.4,226.9,91.7,1174.9,2757.4,95.0,243.2,80.6,7.0,36.0,361.0,168.0,40.0,19.0,116.0,2127.2,426.4,122.5,113.2,20.0,218.2,96.9,0.0,21.5,1618.2,20.4,58.1,495.0,8.8,27.3,738.4,65.4,695.7,0.0,28.0,236.9,95.3,14.0,66.4,91.3,262.3,100.0,113.6,38.8,0.0],\"yaxis\":\"y\",\"type\":\"scatter\"},{\"hovertemplate\":\"<b>%{hovertext}</b><br><br>region=australia<br>System Age (years)=%{x}<br>Annual Ridership (millions)=%{y}<br>Number of Stations=%{marker.size}<extra></extra>\",\"hovertext\":[\"Sydney\"],\"legendgroup\":\"australia\",\"marker\":{\"color\":\"#ab63fa\",\"size\":[13],\"sizemode\":\"area\",\"sizeref\":1.06,\"symbol\":\"circle\"},\"mode\":\"markers\",\"name\":\"australia\",\"orientation\":\"v\",\"showlegend\":true,\"x\":[5],\"xaxis\":\"x\",\"y\":[12.9],\"yaxis\":\"y\",\"type\":\"scatter\"},{\"hovertemplate\":\"<b>%{hovertext}</b><br><br>region=europe<br>System Age (years)=%{x}<br>Annual Ridership (millions)=%{y}<br>Number of Stations=%{marker.size}<extra></extra>\",\"hovertext\":[\"Vienna\",\"Minsk\",\"Brussels\",\"Sofia\",\"Prague\",\"Copenhagen\",\"Helsinki\",\"Lille\",\"Lyon\",\"Marseille\",\"Paris\",\"Rennes\",\"Toulouse\",\"Berlin\",\"Hamburg\",\"Munich\",\"Nuremberg\",\"Athens\",\"Budapest\",\"Brescia\",\"Catania\",\"Genoa\",\"Milan\",\"Naples\",\"Rome\",\"Turin\",\"Amsterdam\",\"Rotterdam\",\"Oslo\",\"Warsaw\",\"Lisbon\",\"Bucharest\",\"Barcelona\",\"Bilbao\",\"Madrid\",\"Stockholm\",\"Lausanne\",\"Dnipro\",\"Kharkiv\",\"Kyiv\",\"Glasgow\",\"London\",\"London\"],\"legendgroup\":\"europe\",\"marker\":{\"color\":\"#FFA15A\",\"size\":[98,33,59,47,58,39,25,60,40,29,306,15,37,175,93,96,49,64,48,17,10,8,106,23,73,23,39,70,101,33,56,63,166,42,242,100,14,6,30,52,15,272,45],\"sizemode\":\"area\",\"sizeref\":1.06,\"symbol\":\"circle\"},\"mode\":\"markers\",\"name\":\"europe\",\"orientation\":\"v\",\"showlegend\":true,\"x\":[48,40,48,26,50,22,42,41,46,47,124,22,31,122,112,53,52,120,128,11,25,34,60,31,69,18,47,56,58,29,65,45,100,29,105,74,16,29,49,64,128,134,37],\"xaxis\":\"x\",\"y\":[459.8,219.3,87.6,92.4,251.4,63.7,60.4,127.6,219.5,76.6,753.0,37.2,118.2,596.0,249.5,429.0,114.6,259.2,232.8,18.7,5.8,15.3,386.8,41.1,320.0,42.5,111.3,99.0,74.0,195.4,184.6,179.2,217.93,91.6,349.8,355.0,32.8,3.55,128.1,279.5,12.7,296.0,39.9],\"yaxis\":\"y\",\"type\":\"scatter\"},{\"hovertemplate\":\"<b>%{hovertext}</b><br><br>region=north_america<br>System Age (years)=%{x}<br>Annual Ridership (millions)=%{y}<br>Number of Stations=%{marker.size}<extra></extra>\",\"hovertext\":[\"Montreal\",\"Toronto\",\"Vancouver\",\"Atlanta\",\"Baltimore\",\"Boston\",\"Chicago\",\"Cleveland\",\"Los Angeles\",\"Miami\",\"New York City\",\"New York City\",\"New York City\",\"Philadelphia\",\"Philadelphia\",\"San Francisco/Oakland\",\"San Juan\",\"Washington, D.C.\"],\"legendgroup\":\"north_america\",\"marker\":{\"color\":\"#19d3f3\",\"size\":[68,75,53,38,14,51,145,18,16,23,424,21,13,75,13,47,16,91],\"sizemode\":\"area\",\"sizeref\":1.06,\"symbol\":\"circle\"},\"mode\":\"markers\",\"name\":\"north_america\",\"orientation\":\"v\",\"showlegend\":true,\"x\":[58,70,39,45,41,123,132,69,31,40,120,99,116,117,88,52,20,48],\"xaxis\":\"x\",\"y\":[164.0,166.0,74.5,24.1,2.9,57.5,76.0,2.6,22.8,9.6,639.5,2.7,29.7,37.7,3.9,34.1,1.1,68.1],\"yaxis\":\"y\",\"type\":\"scatter\"}],                        {\"template\":{\"data\":{\"histogram2dcontour\":[{\"type\":\"histogram2dcontour\",\"colorbar\":{\"outlinewidth\":0,\"ticks\":\"\"},\"colorscale\":[[0.0,\"#0d0887\"],[0.1111111111111111,\"#46039f\"],[0.2222222222222222,\"#7201a8\"],[0.3333333333333333,\"#9c179e\"],[0.4444444444444444,\"#bd3786\"],[0.5555555555555556,\"#d8576b\"],[0.6666666666666666,\"#ed7953\"],[0.7777777777777778,\"#fb9f3a\"],[0.8888888888888888,\"#fdca26\"],[1.0,\"#f0f921\"]]}],\"choropleth\":[{\"type\":\"choropleth\",\"colorbar\":{\"outlinewidth\":0,\"ticks\":\"\"}}],\"histogram2d\":[{\"type\":\"histogram2d\",\"colorbar\":{\"outlinewidth\":0,\"ticks\":\"\"},\"colorscale\":[[0.0,\"#0d0887\"],[0.1111111111111111,\"#46039f\"],[0.2222222222222222,\"#7201a8\"],[0.3333333333333333,\"#9c179e\"],[0.4444444444444444,\"#bd3786\"],[0.5555555555555556,\"#d8576b\"],[0.6666666666666666,\"#ed7953\"],[0.7777777777777778,\"#fb9f3a\"],[0.8888888888888888,\"#fdca26\"],[1.0,\"#f0f921\"]]}],\"heatmap\":[{\"type\":\"heatmap\",\"colorbar\":{\"outlinewidth\":0,\"ticks\":\"\"},\"colorscale\":[[0.0,\"#0d0887\"],[0.1111111111111111,\"#46039f\"],[0.2222222222222222,\"#7201a8\"],[0.3333333333333333,\"#9c179e\"],[0.4444444444444444,\"#bd3786\"],[0.5555555555555556,\"#d8576b\"],[0.6666666666666666,\"#ed7953\"],[0.7777777777777778,\"#fb9f3a\"],[0.8888888888888888,\"#fdca26\"],[1.0,\"#f0f921\"]]}],\"heatmapgl\":[{\"type\":\"heatmapgl\",\"colorbar\":{\"outlinewidth\":0,\"ticks\":\"\"},\"colorscale\":[[0.0,\"#0d0887\"],[0.1111111111111111,\"#46039f\"],[0.2222222222222222,\"#7201a8\"],[0.3333333333333333,\"#9c179e\"],[0.4444444444444444,\"#bd3786\"],[0.5555555555555556,\"#d8576b\"],[0.6666666666666666,\"#ed7953\"],[0.7777777777777778,\"#fb9f3a\"],[0.8888888888888888,\"#fdca26\"],[1.0,\"#f0f921\"]]}],\"contourcarpet\":[{\"type\":\"contourcarpet\",\"colorbar\":{\"outlinewidth\":0,\"ticks\":\"\"}}],\"contour\":[{\"type\":\"contour\",\"colorbar\":{\"outlinewidth\":0,\"ticks\":\"\"},\"colorscale\":[[0.0,\"#0d0887\"],[0.1111111111111111,\"#46039f\"],[0.2222222222222222,\"#7201a8\"],[0.3333333333333333,\"#9c179e\"],[0.4444444444444444,\"#bd3786\"],[0.5555555555555556,\"#d8576b\"],[0.6666666666666666,\"#ed7953\"],[0.7777777777777778,\"#fb9f3a\"],[0.8888888888888888,\"#fdca26\"],[1.0,\"#f0f921\"]]}],\"surface\":[{\"type\":\"surface\",\"colorbar\":{\"outlinewidth\":0,\"ticks\":\"\"},\"colorscale\":[[0.0,\"#0d0887\"],[0.1111111111111111,\"#46039f\"],[0.2222222222222222,\"#7201a8\"],[0.3333333333333333,\"#9c179e\"],[0.4444444444444444,\"#bd3786\"],[0.5555555555555556,\"#d8576b\"],[0.6666666666666666,\"#ed7953\"],[0.7777777777777778,\"#fb9f3a\"],[0.8888888888888888,\"#fdca26\"],[1.0,\"#f0f921\"]]}],\"mesh3d\":[{\"type\":\"mesh3d\",\"colorbar\":{\"outlinewidth\":0,\"ticks\":\"\"}}],\"scatter\":[{\"fillpattern\":{\"fillmode\":\"overlay\",\"size\":10,\"solidity\":0.2},\"type\":\"scatter\"}],\"parcoords\":[{\"type\":\"parcoords\",\"line\":{\"colorbar\":{\"outlinewidth\":0,\"ticks\":\"\"}}}],\"scatterpolargl\":[{\"type\":\"scatterpolargl\",\"marker\":{\"colorbar\":{\"outlinewidth\":0,\"ticks\":\"\"}}}],\"bar\":[{\"error_x\":{\"color\":\"#2a3f5f\"},\"error_y\":{\"color\":\"#2a3f5f\"},\"marker\":{\"line\":{\"color\":\"#E5ECF6\",\"width\":0.5},\"pattern\":{\"fillmode\":\"overlay\",\"size\":10,\"solidity\":0.2}},\"type\":\"bar\"}],\"scattergeo\":[{\"type\":\"scattergeo\",\"marker\":{\"colorbar\":{\"outlinewidth\":0,\"ticks\":\"\"}}}],\"scatterpolar\":[{\"type\":\"scatterpolar\",\"marker\":{\"colorbar\":{\"outlinewidth\":0,\"ticks\":\"\"}}}],\"histogram\":[{\"marker\":{\"pattern\":{\"fillmode\":\"overlay\",\"size\":10,\"solidity\":0.2}},\"type\":\"histogram\"}],\"scattergl\":[{\"type\":\"scattergl\",\"marker\":{\"colorbar\":{\"outlinewidth\":0,\"ticks\":\"\"}}}],\"scatter3d\":[{\"type\":\"scatter3d\",\"line\":{\"colorbar\":{\"outlinewidth\":0,\"ticks\":\"\"}},\"marker\":{\"colorbar\":{\"outlinewidth\":0,\"ticks\":\"\"}}}],\"scattermapbox\":[{\"type\":\"scattermapbox\",\"marker\":{\"colorbar\":{\"outlinewidth\":0,\"ticks\":\"\"}}}],\"scatterternary\":[{\"type\":\"scatterternary\",\"marker\":{\"colorbar\":{\"outlinewidth\":0,\"ticks\":\"\"}}}],\"scattercarpet\":[{\"type\":\"scattercarpet\",\"marker\":{\"colorbar\":{\"outlinewidth\":0,\"ticks\":\"\"}}}],\"carpet\":[{\"aaxis\":{\"endlinecolor\":\"#2a3f5f\",\"gridcolor\":\"white\",\"linecolor\":\"white\",\"minorgridcolor\":\"white\",\"startlinecolor\":\"#2a3f5f\"},\"baxis\":{\"endlinecolor\":\"#2a3f5f\",\"gridcolor\":\"white\",\"linecolor\":\"white\",\"minorgridcolor\":\"white\",\"startlinecolor\":\"#2a3f5f\"},\"type\":\"carpet\"}],\"table\":[{\"cells\":{\"fill\":{\"color\":\"#EBF0F8\"},\"line\":{\"color\":\"white\"}},\"header\":{\"fill\":{\"color\":\"#C8D4E3\"},\"line\":{\"color\":\"white\"}},\"type\":\"table\"}],\"barpolar\":[{\"marker\":{\"line\":{\"color\":\"#E5ECF6\",\"width\":0.5},\"pattern\":{\"fillmode\":\"overlay\",\"size\":10,\"solidity\":0.2}},\"type\":\"barpolar\"}],\"pie\":[{\"automargin\":true,\"type\":\"pie\"}]},\"layout\":{\"autotypenumbers\":\"strict\",\"colorway\":[\"#636efa\",\"#EF553B\",\"#00cc96\",\"#ab63fa\",\"#FFA15A\",\"#19d3f3\",\"#FF6692\",\"#B6E880\",\"#FF97FF\",\"#FECB52\"],\"font\":{\"color\":\"#2a3f5f\"},\"hovermode\":\"closest\",\"hoverlabel\":{\"align\":\"left\"},\"paper_bgcolor\":\"white\",\"plot_bgcolor\":\"#E5ECF6\",\"polar\":{\"bgcolor\":\"#E5ECF6\",\"angularaxis\":{\"gridcolor\":\"white\",\"linecolor\":\"white\",\"ticks\":\"\"},\"radialaxis\":{\"gridcolor\":\"white\",\"linecolor\":\"white\",\"ticks\":\"\"}},\"ternary\":{\"bgcolor\":\"#E5ECF6\",\"aaxis\":{\"gridcolor\":\"white\",\"linecolor\":\"white\",\"ticks\":\"\"},\"baxis\":{\"gridcolor\":\"white\",\"linecolor\":\"white\",\"ticks\":\"\"},\"caxis\":{\"gridcolor\":\"white\",\"linecolor\":\"white\",\"ticks\":\"\"}},\"coloraxis\":{\"colorbar\":{\"outlinewidth\":0,\"ticks\":\"\"}},\"colorscale\":{\"sequential\":[[0.0,\"#0d0887\"],[0.1111111111111111,\"#46039f\"],[0.2222222222222222,\"#7201a8\"],[0.3333333333333333,\"#9c179e\"],[0.4444444444444444,\"#bd3786\"],[0.5555555555555556,\"#d8576b\"],[0.6666666666666666,\"#ed7953\"],[0.7777777777777778,\"#fb9f3a\"],[0.8888888888888888,\"#fdca26\"],[1.0,\"#f0f921\"]],\"sequentialminus\":[[0.0,\"#0d0887\"],[0.1111111111111111,\"#46039f\"],[0.2222222222222222,\"#7201a8\"],[0.3333333333333333,\"#9c179e\"],[0.4444444444444444,\"#bd3786\"],[0.5555555555555556,\"#d8576b\"],[0.6666666666666666,\"#ed7953\"],[0.7777777777777778,\"#fb9f3a\"],[0.8888888888888888,\"#fdca26\"],[1.0,\"#f0f921\"]],\"diverging\":[[0,\"#8e0152\"],[0.1,\"#c51b7d\"],[0.2,\"#de77ae\"],[0.3,\"#f1b6da\"],[0.4,\"#fde0ef\"],[0.5,\"#f7f7f7\"],[0.6,\"#e6f5d0\"],[0.7,\"#b8e186\"],[0.8,\"#7fbc41\"],[0.9,\"#4d9221\"],[1,\"#276419\"]]},\"xaxis\":{\"gridcolor\":\"white\",\"linecolor\":\"white\",\"ticks\":\"\",\"title\":{\"standoff\":15},\"zerolinecolor\":\"white\",\"automargin\":true,\"zerolinewidth\":2},\"yaxis\":{\"gridcolor\":\"white\",\"linecolor\":\"white\",\"ticks\":\"\",\"title\":{\"standoff\":15},\"zerolinecolor\":\"white\",\"automargin\":true,\"zerolinewidth\":2},\"scene\":{\"xaxis\":{\"backgroundcolor\":\"#E5ECF6\",\"gridcolor\":\"white\",\"linecolor\":\"white\",\"showbackground\":true,\"ticks\":\"\",\"zerolinecolor\":\"white\",\"gridwidth\":2},\"yaxis\":{\"backgroundcolor\":\"#E5ECF6\",\"gridcolor\":\"white\",\"linecolor\":\"white\",\"showbackground\":true,\"ticks\":\"\",\"zerolinecolor\":\"white\",\"gridwidth\":2},\"zaxis\":{\"backgroundcolor\":\"#E5ECF6\",\"gridcolor\":\"white\",\"linecolor\":\"white\",\"showbackground\":true,\"ticks\":\"\",\"zerolinecolor\":\"white\",\"gridwidth\":2}},\"shapedefaults\":{\"line\":{\"color\":\"#2a3f5f\"}},\"annotationdefaults\":{\"arrowcolor\":\"#2a3f5f\",\"arrowhead\":0,\"arrowwidth\":1},\"geo\":{\"bgcolor\":\"white\",\"landcolor\":\"#E5ECF6\",\"subunitcolor\":\"white\",\"showland\":true,\"showlakes\":true,\"lakecolor\":\"white\"},\"title\":{\"x\":0.05},\"mapbox\":{\"style\":\"light\"}}},\"xaxis\":{\"anchor\":\"y\",\"domain\":[0.0,1.0],\"title\":{\"text\":\"System Age (years)\"}},\"yaxis\":{\"anchor\":\"x\",\"domain\":[0.0,1.0],\"title\":{\"text\":\"Annual Ridership (millions)\"}},\"legend\":{\"title\":{\"text\":\"region\"},\"tracegroupgap\":0,\"itemsizing\":\"constant\"},\"title\":{\"text\":\"Metro System Age vs. Annual Ridership\"}},                        {\"responsive\": true}                    ).then(function(){\n",
       "                            \n",
       "var gd = document.getElementById('8d4d70fe-513b-4f22-92f0-c1a8dfd3fcc6');\n",
       "var x = new MutationObserver(function (mutations, observer) {{\n",
       "        var display = window.getComputedStyle(gd).display;\n",
       "        if (!display || display === 'none') {{\n",
       "            console.log([gd, 'removed!']);\n",
       "            Plotly.purge(gd);\n",
       "            observer.disconnect();\n",
       "        }}\n",
       "}});\n",
       "\n",
       "// Listen for the removal of the full notebook cells\n",
       "var notebookContainer = gd.closest('#notebook-container');\n",
       "if (notebookContainer) {{\n",
       "    x.observe(notebookContainer, {childList: true});\n",
       "}}\n",
       "\n",
       "// Listen for the clearing of the current output cell\n",
       "var outputEl = gd.closest('.output');\n",
       "if (outputEl) {{\n",
       "    x.observe(outputEl, {childList: true});\n",
       "}}\n",
       "\n",
       "                        })                };                });            </script>        </div>"
      ]
     },
     "metadata": {},
     "output_type": "display_data"
    }
   ],
   "source": [
    "import datetime\n",
    "\n",
    "current_year = datetime.datetime.now().year\n",
    "\n",
    "Metro_cities['system_age'] = current_year - Metro_cities['year']\n",
    "\n",
    "fig = px.scatter(Metro_cities, x='system_age', y='annual_ridership_mill',\n",
    "                 hover_name='city', color='region', size='stations',\n",
    "                 labels={'system_age': 'System Age (years)',\n",
    "                         'annual_ridership_mill': 'Annual Ridership (millions)',\n",
    "                         'stations': 'Number of Stations'},\n",
    "                 title='Metro System Age vs. Annual Ridership')\n",
    "fig.show()"
   ]
  },
  {
   "cell_type": "markdown",
   "id": "7c5990bb-eb8f-4be0-b51a-ca75539cb576",
   "metadata": {},
   "source": [
    "This visualization demonstrates that older systems generally have higher ridership, possibly due to greater familiarity among users, leading to sustained or increased ridership over time."
   ]
  },
  {
   "cell_type": "markdown",
   "id": "ca89950f-d4c1-41e1-b7db-79a66b86b8f0",
   "metadata": {},
   "source": [
    "# 3. Annual Metro Ridership by Region #"
   ]
  },
  {
   "cell_type": "code",
   "execution_count": 88,
   "id": "31d7d7f3-906a-4ff8-aac1-55777f99b2df",
   "metadata": {},
   "outputs": [
    {
     "data": {
      "application/vnd.plotly.v1+json": {
       "config": {
        "plotlyServerURL": "https://plot.ly"
       },
       "data": [
        {
         "alignmentgroup": "True",
         "hovertemplate": "Region=%{x}<br>Annual Ridership (millions)=%{y}<extra></extra>",
         "legendgroup": "",
         "marker": {
          "color": "#636efa"
         },
         "name": "",
         "notched": false,
         "offsetgroup": "",
         "orientation": "v",
         "showlegend": false,
         "type": "box",
         "x": [
          "africa",
          "latin_america",
          "asia",
          "australia",
          "europe",
          "asia",
          "europe",
          "europe",
          "latin_america",
          "latin_america",
          "latin_america",
          "latin_america",
          "latin_america",
          "latin_america",
          "latin_america",
          "europe",
          "north_america",
          "north_america",
          "north_america",
          "latin_america",
          "asia",
          "asia",
          "asia",
          "asia",
          "asia",
          "asia",
          "asia",
          "asia",
          "asia",
          "asia",
          "asia",
          "asia",
          "asia",
          "asia",
          "asia",
          "asia",
          "asia",
          "asia",
          "asia",
          "asia",
          "asia",
          "asia",
          "asia",
          "asia",
          "asia",
          "asia",
          "asia",
          "asia",
          "asia",
          "asia",
          "asia",
          "asia",
          "asia",
          "asia",
          "asia",
          "asia",
          "asia",
          "asia",
          "asia",
          "asia",
          "asia",
          "asia",
          "asia",
          "latin_america",
          "europe",
          "europe",
          "latin_america",
          "africa",
          "europe",
          "europe",
          "europe",
          "europe",
          "europe",
          "europe",
          "europe",
          "asia",
          "europe",
          "europe",
          "europe",
          "europe",
          "europe",
          "europe",
          "asia",
          "asia",
          "asia",
          "asia",
          "asia",
          "asia",
          "asia",
          "asia",
          "asia",
          "asia",
          "asia",
          "asia",
          "asia",
          "asia",
          "asia",
          "asia",
          "asia",
          "asia",
          "asia",
          "asia",
          "asia",
          "europe",
          "europe",
          "europe",
          "europe",
          "europe",
          "europe",
          "europe",
          "asia",
          "asia",
          "asia",
          "asia",
          "asia",
          "asia",
          "asia",
          "asia",
          "asia",
          "asia",
          "asia",
          "asia",
          "asia",
          "asia",
          "asia",
          "asia",
          "asia",
          "asia",
          "asia",
          "asia",
          "asia",
          "asia",
          "asia",
          "asia",
          "latin_america",
          "latin_america",
          "latin_america",
          "europe",
          "europe",
          "europe",
          "asia",
          "latin_america",
          "latin_america",
          "asia",
          "asia",
          "europe",
          "europe",
          "asia",
          "europe",
          "asia",
          "asia",
          "asia",
          "asia",
          "asia",
          "asia",
          "asia",
          "asia",
          "europe",
          "europe",
          "europe",
          "europe",
          "europe",
          "asia",
          "asia",
          "asia",
          "asia",
          "asia",
          "asia",
          "asia",
          "asia",
          "asia",
          "asia",
          "asia",
          "europe",
          "europe",
          "europe",
          "asia",
          "europe",
          "europe",
          "europe",
          "north_america",
          "north_america",
          "north_america",
          "north_america",
          "north_america",
          "north_america",
          "north_america",
          "north_america",
          "north_america",
          "north_america",
          "north_america",
          "north_america",
          "north_america",
          "north_america",
          "north_america",
          "asia",
          "latin_america",
          "asia"
         ],
         "x0": " ",
         "xaxis": "x",
         "y": [
          45.3,
          74,
          10.75,
          12.9,
          459.8,
          72.1,
          219.3,
          87.6,
          54.4,
          42.8,
          48.1,
          93.5,
          118.7,
          62,
          763.6,
          92.4,
          164,
          166,
          74.5,
          263.4,
          2292.65,
          154.37,
          385.76,
          22.82,
          1800,
          839.75,
          125.22,
          35.06,
          0,
          94.75,
          2415.6,
          36.98,
          582.41,
          51.33,
          195.07,
          21.3,
          1155.8,
          8.68,
          159.26,
          52.48,
          0,
          135.93,
          801.34,
          208.41,
          159.86,
          139.09,
          2834.69,
          0,
          316.28,
          1626.73,
          71.71,
          308.57,
          0.876,
          338.75,
          19.11,
          7.01,
          628.03,
          0,
          87.22,
          113.97,
          731.04,
          20.94,
          341.01,
          115.4,
          251.4,
          63.7,
          49.6,
          1314,
          60.4,
          127.6,
          219.5,
          76.6,
          753,
          37.2,
          118.2,
          69.78,
          596,
          249.5,
          429,
          114.6,
          259.2,
          232.8,
          0.4,
          174.22,
          42,
          1790,
          18.3,
          173,
          7,
          0,
          17,
          256,
          22,
          126,
          4,
          5,
          0,
          9.9,
          0,
          50.7,
          18,
          0,
          820,
          18.7,
          5.8,
          15.3,
          386.8,
          41.1,
          320,
          42.5,
          173.3,
          24,
          114.2,
          146.4,
          487.4,
          870.4,
          226.9,
          91.7,
          1174.9,
          2757.4,
          95,
          243.2,
          80.6,
          7,
          36,
          361,
          168,
          40,
          19,
          116,
          2127.2,
          426.4,
          122.5,
          113.2,
          0,
          935.2,
          109.9,
          111.3,
          99,
          74,
          20,
          49.9,
          110.4,
          218.2,
          96.9,
          195.4,
          184.6,
          0,
          179.2,
          21.5,
          1618.2,
          20.4,
          58.1,
          495,
          8.8,
          27.3,
          738.4,
          217.93,
          91.6,
          349.8,
          355,
          32.8,
          65.4,
          695.7,
          0,
          28,
          236.9,
          95.3,
          14,
          66.4,
          91.3,
          262.3,
          100,
          3.55,
          128.1,
          279.5,
          113.6,
          12.7,
          296,
          39.9,
          24.1,
          2.9,
          57.5,
          76,
          2.6,
          22.8,
          9.6,
          639.5,
          2.7,
          29.7,
          37.7,
          3.9,
          34.1,
          1.1,
          68.1,
          38.8,
          358,
          0
         ],
         "y0": " ",
         "yaxis": "y"
        }
       ],
       "layout": {
        "autosize": true,
        "boxmode": "group",
        "legend": {
         "tracegroupgap": 0
        },
        "template": {
         "data": {
          "bar": [
           {
            "error_x": {
             "color": "#2a3f5f"
            },
            "error_y": {
             "color": "#2a3f5f"
            },
            "marker": {
             "line": {
              "color": "#E5ECF6",
              "width": 0.5
             },
             "pattern": {
              "fillmode": "overlay",
              "size": 10,
              "solidity": 0.2
             }
            },
            "type": "bar"
           }
          ],
          "barpolar": [
           {
            "marker": {
             "line": {
              "color": "#E5ECF6",
              "width": 0.5
             },
             "pattern": {
              "fillmode": "overlay",
              "size": 10,
              "solidity": 0.2
             }
            },
            "type": "barpolar"
           }
          ],
          "carpet": [
           {
            "aaxis": {
             "endlinecolor": "#2a3f5f",
             "gridcolor": "white",
             "linecolor": "white",
             "minorgridcolor": "white",
             "startlinecolor": "#2a3f5f"
            },
            "baxis": {
             "endlinecolor": "#2a3f5f",
             "gridcolor": "white",
             "linecolor": "white",
             "minorgridcolor": "white",
             "startlinecolor": "#2a3f5f"
            },
            "type": "carpet"
           }
          ],
          "choropleth": [
           {
            "colorbar": {
             "outlinewidth": 0,
             "ticks": ""
            },
            "type": "choropleth"
           }
          ],
          "contour": [
           {
            "colorbar": {
             "outlinewidth": 0,
             "ticks": ""
            },
            "colorscale": [
             [
              0,
              "#0d0887"
             ],
             [
              0.1111111111111111,
              "#46039f"
             ],
             [
              0.2222222222222222,
              "#7201a8"
             ],
             [
              0.3333333333333333,
              "#9c179e"
             ],
             [
              0.4444444444444444,
              "#bd3786"
             ],
             [
              0.5555555555555556,
              "#d8576b"
             ],
             [
              0.6666666666666666,
              "#ed7953"
             ],
             [
              0.7777777777777778,
              "#fb9f3a"
             ],
             [
              0.8888888888888888,
              "#fdca26"
             ],
             [
              1,
              "#f0f921"
             ]
            ],
            "type": "contour"
           }
          ],
          "contourcarpet": [
           {
            "colorbar": {
             "outlinewidth": 0,
             "ticks": ""
            },
            "type": "contourcarpet"
           }
          ],
          "heatmap": [
           {
            "colorbar": {
             "outlinewidth": 0,
             "ticks": ""
            },
            "colorscale": [
             [
              0,
              "#0d0887"
             ],
             [
              0.1111111111111111,
              "#46039f"
             ],
             [
              0.2222222222222222,
              "#7201a8"
             ],
             [
              0.3333333333333333,
              "#9c179e"
             ],
             [
              0.4444444444444444,
              "#bd3786"
             ],
             [
              0.5555555555555556,
              "#d8576b"
             ],
             [
              0.6666666666666666,
              "#ed7953"
             ],
             [
              0.7777777777777778,
              "#fb9f3a"
             ],
             [
              0.8888888888888888,
              "#fdca26"
             ],
             [
              1,
              "#f0f921"
             ]
            ],
            "type": "heatmap"
           }
          ],
          "heatmapgl": [
           {
            "colorbar": {
             "outlinewidth": 0,
             "ticks": ""
            },
            "colorscale": [
             [
              0,
              "#0d0887"
             ],
             [
              0.1111111111111111,
              "#46039f"
             ],
             [
              0.2222222222222222,
              "#7201a8"
             ],
             [
              0.3333333333333333,
              "#9c179e"
             ],
             [
              0.4444444444444444,
              "#bd3786"
             ],
             [
              0.5555555555555556,
              "#d8576b"
             ],
             [
              0.6666666666666666,
              "#ed7953"
             ],
             [
              0.7777777777777778,
              "#fb9f3a"
             ],
             [
              0.8888888888888888,
              "#fdca26"
             ],
             [
              1,
              "#f0f921"
             ]
            ],
            "type": "heatmapgl"
           }
          ],
          "histogram": [
           {
            "marker": {
             "pattern": {
              "fillmode": "overlay",
              "size": 10,
              "solidity": 0.2
             }
            },
            "type": "histogram"
           }
          ],
          "histogram2d": [
           {
            "colorbar": {
             "outlinewidth": 0,
             "ticks": ""
            },
            "colorscale": [
             [
              0,
              "#0d0887"
             ],
             [
              0.1111111111111111,
              "#46039f"
             ],
             [
              0.2222222222222222,
              "#7201a8"
             ],
             [
              0.3333333333333333,
              "#9c179e"
             ],
             [
              0.4444444444444444,
              "#bd3786"
             ],
             [
              0.5555555555555556,
              "#d8576b"
             ],
             [
              0.6666666666666666,
              "#ed7953"
             ],
             [
              0.7777777777777778,
              "#fb9f3a"
             ],
             [
              0.8888888888888888,
              "#fdca26"
             ],
             [
              1,
              "#f0f921"
             ]
            ],
            "type": "histogram2d"
           }
          ],
          "histogram2dcontour": [
           {
            "colorbar": {
             "outlinewidth": 0,
             "ticks": ""
            },
            "colorscale": [
             [
              0,
              "#0d0887"
             ],
             [
              0.1111111111111111,
              "#46039f"
             ],
             [
              0.2222222222222222,
              "#7201a8"
             ],
             [
              0.3333333333333333,
              "#9c179e"
             ],
             [
              0.4444444444444444,
              "#bd3786"
             ],
             [
              0.5555555555555556,
              "#d8576b"
             ],
             [
              0.6666666666666666,
              "#ed7953"
             ],
             [
              0.7777777777777778,
              "#fb9f3a"
             ],
             [
              0.8888888888888888,
              "#fdca26"
             ],
             [
              1,
              "#f0f921"
             ]
            ],
            "type": "histogram2dcontour"
           }
          ],
          "mesh3d": [
           {
            "colorbar": {
             "outlinewidth": 0,
             "ticks": ""
            },
            "type": "mesh3d"
           }
          ],
          "parcoords": [
           {
            "line": {
             "colorbar": {
              "outlinewidth": 0,
              "ticks": ""
             }
            },
            "type": "parcoords"
           }
          ],
          "pie": [
           {
            "automargin": true,
            "type": "pie"
           }
          ],
          "scatter": [
           {
            "fillpattern": {
             "fillmode": "overlay",
             "size": 10,
             "solidity": 0.2
            },
            "type": "scatter"
           }
          ],
          "scatter3d": [
           {
            "line": {
             "colorbar": {
              "outlinewidth": 0,
              "ticks": ""
             }
            },
            "marker": {
             "colorbar": {
              "outlinewidth": 0,
              "ticks": ""
             }
            },
            "type": "scatter3d"
           }
          ],
          "scattercarpet": [
           {
            "marker": {
             "colorbar": {
              "outlinewidth": 0,
              "ticks": ""
             }
            },
            "type": "scattercarpet"
           }
          ],
          "scattergeo": [
           {
            "marker": {
             "colorbar": {
              "outlinewidth": 0,
              "ticks": ""
             }
            },
            "type": "scattergeo"
           }
          ],
          "scattergl": [
           {
            "marker": {
             "colorbar": {
              "outlinewidth": 0,
              "ticks": ""
             }
            },
            "type": "scattergl"
           }
          ],
          "scattermapbox": [
           {
            "marker": {
             "colorbar": {
              "outlinewidth": 0,
              "ticks": ""
             }
            },
            "type": "scattermapbox"
           }
          ],
          "scatterpolar": [
           {
            "marker": {
             "colorbar": {
              "outlinewidth": 0,
              "ticks": ""
             }
            },
            "type": "scatterpolar"
           }
          ],
          "scatterpolargl": [
           {
            "marker": {
             "colorbar": {
              "outlinewidth": 0,
              "ticks": ""
             }
            },
            "type": "scatterpolargl"
           }
          ],
          "scatterternary": [
           {
            "marker": {
             "colorbar": {
              "outlinewidth": 0,
              "ticks": ""
             }
            },
            "type": "scatterternary"
           }
          ],
          "surface": [
           {
            "colorbar": {
             "outlinewidth": 0,
             "ticks": ""
            },
            "colorscale": [
             [
              0,
              "#0d0887"
             ],
             [
              0.1111111111111111,
              "#46039f"
             ],
             [
              0.2222222222222222,
              "#7201a8"
             ],
             [
              0.3333333333333333,
              "#9c179e"
             ],
             [
              0.4444444444444444,
              "#bd3786"
             ],
             [
              0.5555555555555556,
              "#d8576b"
             ],
             [
              0.6666666666666666,
              "#ed7953"
             ],
             [
              0.7777777777777778,
              "#fb9f3a"
             ],
             [
              0.8888888888888888,
              "#fdca26"
             ],
             [
              1,
              "#f0f921"
             ]
            ],
            "type": "surface"
           }
          ],
          "table": [
           {
            "cells": {
             "fill": {
              "color": "#EBF0F8"
             },
             "line": {
              "color": "white"
             }
            },
            "header": {
             "fill": {
              "color": "#C8D4E3"
             },
             "line": {
              "color": "white"
             }
            },
            "type": "table"
           }
          ]
         },
         "layout": {
          "annotationdefaults": {
           "arrowcolor": "#2a3f5f",
           "arrowhead": 0,
           "arrowwidth": 1
          },
          "autotypenumbers": "strict",
          "coloraxis": {
           "colorbar": {
            "outlinewidth": 0,
            "ticks": ""
           }
          },
          "colorscale": {
           "diverging": [
            [
             0,
             "#8e0152"
            ],
            [
             0.1,
             "#c51b7d"
            ],
            [
             0.2,
             "#de77ae"
            ],
            [
             0.3,
             "#f1b6da"
            ],
            [
             0.4,
             "#fde0ef"
            ],
            [
             0.5,
             "#f7f7f7"
            ],
            [
             0.6,
             "#e6f5d0"
            ],
            [
             0.7,
             "#b8e186"
            ],
            [
             0.8,
             "#7fbc41"
            ],
            [
             0.9,
             "#4d9221"
            ],
            [
             1,
             "#276419"
            ]
           ],
           "sequential": [
            [
             0,
             "#0d0887"
            ],
            [
             0.1111111111111111,
             "#46039f"
            ],
            [
             0.2222222222222222,
             "#7201a8"
            ],
            [
             0.3333333333333333,
             "#9c179e"
            ],
            [
             0.4444444444444444,
             "#bd3786"
            ],
            [
             0.5555555555555556,
             "#d8576b"
            ],
            [
             0.6666666666666666,
             "#ed7953"
            ],
            [
             0.7777777777777778,
             "#fb9f3a"
            ],
            [
             0.8888888888888888,
             "#fdca26"
            ],
            [
             1,
             "#f0f921"
            ]
           ],
           "sequentialminus": [
            [
             0,
             "#0d0887"
            ],
            [
             0.1111111111111111,
             "#46039f"
            ],
            [
             0.2222222222222222,
             "#7201a8"
            ],
            [
             0.3333333333333333,
             "#9c179e"
            ],
            [
             0.4444444444444444,
             "#bd3786"
            ],
            [
             0.5555555555555556,
             "#d8576b"
            ],
            [
             0.6666666666666666,
             "#ed7953"
            ],
            [
             0.7777777777777778,
             "#fb9f3a"
            ],
            [
             0.8888888888888888,
             "#fdca26"
            ],
            [
             1,
             "#f0f921"
            ]
           ]
          },
          "colorway": [
           "#636efa",
           "#EF553B",
           "#00cc96",
           "#ab63fa",
           "#FFA15A",
           "#19d3f3",
           "#FF6692",
           "#B6E880",
           "#FF97FF",
           "#FECB52"
          ],
          "font": {
           "color": "#2a3f5f"
          },
          "geo": {
           "bgcolor": "white",
           "lakecolor": "white",
           "landcolor": "#E5ECF6",
           "showlakes": true,
           "showland": true,
           "subunitcolor": "white"
          },
          "hoverlabel": {
           "align": "left"
          },
          "hovermode": "closest",
          "mapbox": {
           "style": "light"
          },
          "paper_bgcolor": "white",
          "plot_bgcolor": "#E5ECF6",
          "polar": {
           "angularaxis": {
            "gridcolor": "white",
            "linecolor": "white",
            "ticks": ""
           },
           "bgcolor": "#E5ECF6",
           "radialaxis": {
            "gridcolor": "white",
            "linecolor": "white",
            "ticks": ""
           }
          },
          "scene": {
           "xaxis": {
            "backgroundcolor": "#E5ECF6",
            "gridcolor": "white",
            "gridwidth": 2,
            "linecolor": "white",
            "showbackground": true,
            "ticks": "",
            "zerolinecolor": "white"
           },
           "yaxis": {
            "backgroundcolor": "#E5ECF6",
            "gridcolor": "white",
            "gridwidth": 2,
            "linecolor": "white",
            "showbackground": true,
            "ticks": "",
            "zerolinecolor": "white"
           },
           "zaxis": {
            "backgroundcolor": "#E5ECF6",
            "gridcolor": "white",
            "gridwidth": 2,
            "linecolor": "white",
            "showbackground": true,
            "ticks": "",
            "zerolinecolor": "white"
           }
          },
          "shapedefaults": {
           "line": {
            "color": "#2a3f5f"
           }
          },
          "ternary": {
           "aaxis": {
            "gridcolor": "white",
            "linecolor": "white",
            "ticks": ""
           },
           "baxis": {
            "gridcolor": "white",
            "linecolor": "white",
            "ticks": ""
           },
           "bgcolor": "#E5ECF6",
           "caxis": {
            "gridcolor": "white",
            "linecolor": "white",
            "ticks": ""
           }
          },
          "title": {
           "x": 0.05
          },
          "xaxis": {
           "automargin": true,
           "gridcolor": "white",
           "linecolor": "white",
           "ticks": "",
           "title": {
            "standoff": 15
           },
           "zerolinecolor": "white",
           "zerolinewidth": 2
          },
          "yaxis": {
           "automargin": true,
           "gridcolor": "white",
           "linecolor": "white",
           "ticks": "",
           "title": {
            "standoff": 15
           },
           "zerolinecolor": "white",
           "zerolinewidth": 2
          }
         }
        },
        "title": {
         "text": "Annual Metro Ridership by Region"
        },
        "xaxis": {
         "anchor": "y",
         "autorange": true,
         "domain": [
          0,
          1
         ],
         "range": [
          -0.5,
          5.5
         ],
         "title": {
          "text": "Region"
         },
         "type": "category"
        },
        "yaxis": {
         "anchor": "x",
         "autorange": true,
         "domain": [
          0,
          1
         ],
         "range": [
          -157.48277777777778,
          2992.172777777778
         ],
         "title": {
          "text": "Annual Ridership (millions)"
         },
         "type": "linear"
        }
       }
      },
      "image/png": "[encoded data removed]",
      "text/html": [
       "<div>                            <div id=\"7aa55de7-cf57-400f-8651-c0a22e4333f7\" class=\"plotly-graph-div\" style=\"height:525px; width:100%;\"></div>            <script type=\"text/javascript\">                require([\"plotly\"], function(Plotly) {                    window.PLOTLYENV=window.PLOTLYENV || {};                                    if (document.getElementById(\"7aa55de7-cf57-400f-8651-c0a22e4333f7\")) {                    Plotly.newPlot(                        \"7aa55de7-cf57-400f-8651-c0a22e4333f7\",                        [{\"alignmentgroup\":\"True\",\"hovertemplate\":\"Region=%{x}<br>Annual Ridership (millions)=%{y}<extra></extra>\",\"legendgroup\":\"\",\"marker\":{\"color\":\"#636efa\"},\"name\":\"\",\"notched\":false,\"offsetgroup\":\"\",\"orientation\":\"v\",\"showlegend\":false,\"x\":[\"africa\",\"latin_america\",\"asia\",\"australia\",\"europe\",\"asia\",\"europe\",\"europe\",\"latin_america\",\"latin_america\",\"latin_america\",\"latin_america\",\"latin_america\",\"latin_america\",\"latin_america\",\"europe\",\"north_america\",\"north_america\",\"north_america\",\"latin_america\",\"asia\",\"asia\",\"asia\",\"asia\",\"asia\",\"asia\",\"asia\",\"asia\",\"asia\",\"asia\",\"asia\",\"asia\",\"asia\",\"asia\",\"asia\",\"asia\",\"asia\",\"asia\",\"asia\",\"asia\",\"asia\",\"asia\",\"asia\",\"asia\",\"asia\",\"asia\",\"asia\",\"asia\",\"asia\",\"asia\",\"asia\",\"asia\",\"asia\",\"asia\",\"asia\",\"asia\",\"asia\",\"asia\",\"asia\",\"asia\",\"asia\",\"asia\",\"asia\",\"latin_america\",\"europe\",\"europe\",\"latin_america\",\"africa\",\"europe\",\"europe\",\"europe\",\"europe\",\"europe\",\"europe\",\"europe\",\"asia\",\"europe\",\"europe\",\"europe\",\"europe\",\"europe\",\"europe\",\"asia\",\"asia\",\"asia\",\"asia\",\"asia\",\"asia\",\"asia\",\"asia\",\"asia\",\"asia\",\"asia\",\"asia\",\"asia\",\"asia\",\"asia\",\"asia\",\"asia\",\"asia\",\"asia\",\"asia\",\"asia\",\"europe\",\"europe\",\"europe\",\"europe\",\"europe\",\"europe\",\"europe\",\"asia\",\"asia\",\"asia\",\"asia\",\"asia\",\"asia\",\"asia\",\"asia\",\"asia\",\"asia\",\"asia\",\"asia\",\"asia\",\"asia\",\"asia\",\"asia\",\"asia\",\"asia\",\"asia\",\"asia\",\"asia\",\"asia\",\"asia\",\"asia\",\"latin_america\",\"latin_america\",\"latin_america\",\"europe\",\"europe\",\"europe\",\"asia\",\"latin_america\",\"latin_america\",\"asia\",\"asia\",\"europe\",\"europe\",\"asia\",\"europe\",\"asia\",\"asia\",\"asia\",\"asia\",\"asia\",\"asia\",\"asia\",\"asia\",\"europe\",\"europe\",\"europe\",\"europe\",\"europe\",\"asia\",\"asia\",\"asia\",\"asia\",\"asia\",\"asia\",\"asia\",\"asia\",\"asia\",\"asia\",\"asia\",\"europe\",\"europe\",\"europe\",\"asia\",\"europe\",\"europe\",\"europe\",\"north_america\",\"north_america\",\"north_america\",\"north_america\",\"north_america\",\"north_america\",\"north_america\",\"north_america\",\"north_america\",\"north_america\",\"north_america\",\"north_america\",\"north_america\",\"north_america\",\"north_america\",\"asia\",\"latin_america\",\"asia\"],\"x0\":\" \",\"xaxis\":\"x\",\"y\":[45.3,74.0,10.75,12.9,459.8,72.1,219.3,87.6,54.4,42.8,48.1,93.5,118.7,62.0,763.6,92.4,164.0,166.0,74.5,263.4,2292.65,154.37,385.76,22.82,1800.0,839.75,125.22,35.06,0.0,94.75,2415.6,36.98,582.41,51.33,195.07,21.3,1155.8,8.68,159.26,52.48,0.0,135.93,801.34,208.41,159.86,139.09,2834.69,0.0,316.28,1626.73,71.71,308.57,0.876,338.75,19.11,7.01,628.03,0.0,87.22,113.97,731.04,20.94,341.01,115.4,251.4,63.7,49.6,1314.0,60.4,127.6,219.5,76.6,753.0,37.2,118.2,69.78,596.0,249.5,429.0,114.6,259.2,232.8,0.4,174.22,42.0,1790.0,18.3,173.0,7.0,0.0,17.0,256.0,22.0,126.0,4.0,5.0,0.0,9.9,0.0,50.7,18.0,0.0,820.0,18.7,5.8,15.3,386.8,41.1,320.0,42.5,173.3,24.0,114.2,146.4,487.4,870.4,226.9,91.7,1174.9,2757.4,95.0,243.2,80.6,7.0,36.0,361.0,168.0,40.0,19.0,116.0,2127.2,426.4,122.5,113.2,0.0,935.2,109.9,111.3,99.0,74.0,20.0,49.9,110.4,218.2,96.9,195.4,184.6,0.0,179.2,21.5,1618.2,20.4,58.1,495.0,8.8,27.3,738.4,217.93,91.6,349.8,355.0,32.8,65.4,695.7,0.0,28.0,236.9,95.3,14.0,66.4,91.3,262.3,100.0,3.55,128.1,279.5,113.6,12.7,296.0,39.9,24.1,2.9,57.5,76.0,2.6,22.8,9.6,639.5,2.7,29.7,37.7,3.9,34.1,1.1,68.1,38.8,358.0,0.0],\"y0\":\" \",\"yaxis\":\"y\",\"type\":\"box\"}],                        {\"template\":{\"data\":{\"histogram2dcontour\":[{\"type\":\"histogram2dcontour\",\"colorbar\":{\"outlinewidth\":0,\"ticks\":\"\"},\"colorscale\":[[0.0,\"#0d0887\"],[0.1111111111111111,\"#46039f\"],[0.2222222222222222,\"#7201a8\"],[0.3333333333333333,\"#9c179e\"],[0.4444444444444444,\"#bd3786\"],[0.5555555555555556,\"#d8576b\"],[0.6666666666666666,\"#ed7953\"],[0.7777777777777778,\"#fb9f3a\"],[0.8888888888888888,\"#fdca26\"],[1.0,\"#f0f921\"]]}],\"choropleth\":[{\"type\":\"choropleth\",\"colorbar\":{\"outlinewidth\":0,\"ticks\":\"\"}}],\"histogram2d\":[{\"type\":\"histogram2d\",\"colorbar\":{\"outlinewidth\":0,\"ticks\":\"\"},\"colorscale\":[[0.0,\"#0d0887\"],[0.1111111111111111,\"#46039f\"],[0.2222222222222222,\"#7201a8\"],[0.3333333333333333,\"#9c179e\"],[0.4444444444444444,\"#bd3786\"],[0.5555555555555556,\"#d8576b\"],[0.6666666666666666,\"#ed7953\"],[0.7777777777777778,\"#fb9f3a\"],[0.8888888888888888,\"#fdca26\"],[1.0,\"#f0f921\"]]}],\"heatmap\":[{\"type\":\"heatmap\",\"colorbar\":{\"outlinewidth\":0,\"ticks\":\"\"},\"colorscale\":[[0.0,\"#0d0887\"],[0.1111111111111111,\"#46039f\"],[0.2222222222222222,\"#7201a8\"],[0.3333333333333333,\"#9c179e\"],[0.4444444444444444,\"#bd3786\"],[0.5555555555555556,\"#d8576b\"],[0.6666666666666666,\"#ed7953\"],[0.7777777777777778,\"#fb9f3a\"],[0.8888888888888888,\"#fdca26\"],[1.0,\"#f0f921\"]]}],\"heatmapgl\":[{\"type\":\"heatmapgl\",\"colorbar\":{\"outlinewidth\":0,\"ticks\":\"\"},\"colorscale\":[[0.0,\"#0d0887\"],[0.1111111111111111,\"#46039f\"],[0.2222222222222222,\"#7201a8\"],[0.3333333333333333,\"#9c179e\"],[0.4444444444444444,\"#bd3786\"],[0.5555555555555556,\"#d8576b\"],[0.6666666666666666,\"#ed7953\"],[0.7777777777777778,\"#fb9f3a\"],[0.8888888888888888,\"#fdca26\"],[1.0,\"#f0f921\"]]}],\"contourcarpet\":[{\"type\":\"contourcarpet\",\"colorbar\":{\"outlinewidth\":0,\"ticks\":\"\"}}],\"contour\":[{\"type\":\"contour\",\"colorbar\":{\"outlinewidth\":0,\"ticks\":\"\"},\"colorscale\":[[0.0,\"#0d0887\"],[0.1111111111111111,\"#46039f\"],[0.2222222222222222,\"#7201a8\"],[0.3333333333333333,\"#9c179e\"],[0.4444444444444444,\"#bd3786\"],[0.5555555555555556,\"#d8576b\"],[0.6666666666666666,\"#ed7953\"],[0.7777777777777778,\"#fb9f3a\"],[0.8888888888888888,\"#fdca26\"],[1.0,\"#f0f921\"]]}],\"surface\":[{\"type\":\"surface\",\"colorbar\":{\"outlinewidth\":0,\"ticks\":\"\"},\"colorscale\":[[0.0,\"#0d0887\"],[0.1111111111111111,\"#46039f\"],[0.2222222222222222,\"#7201a8\"],[0.3333333333333333,\"#9c179e\"],[0.4444444444444444,\"#bd3786\"],[0.5555555555555556,\"#d8576b\"],[0.6666666666666666,\"#ed7953\"],[0.7777777777777778,\"#fb9f3a\"],[0.8888888888888888,\"#fdca26\"],[1.0,\"#f0f921\"]]}],\"mesh3d\":[{\"type\":\"mesh3d\",\"colorbar\":{\"outlinewidth\":0,\"ticks\":\"\"}}],\"scatter\":[{\"fillpattern\":{\"fillmode\":\"overlay\",\"size\":10,\"solidity\":0.2},\"type\":\"scatter\"}],\"parcoords\":[{\"type\":\"parcoords\",\"line\":{\"colorbar\":{\"outlinewidth\":0,\"ticks\":\"\"}}}],\"scatterpolargl\":[{\"type\":\"scatterpolargl\",\"marker\":{\"colorbar\":{\"outlinewidth\":0,\"ticks\":\"\"}}}],\"bar\":[{\"error_x\":{\"color\":\"#2a3f5f\"},\"error_y\":{\"color\":\"#2a3f5f\"},\"marker\":{\"line\":{\"color\":\"#E5ECF6\",\"width\":0.5},\"pattern\":{\"fillmode\":\"overlay\",\"size\":10,\"solidity\":0.2}},\"type\":\"bar\"}],\"scattergeo\":[{\"type\":\"scattergeo\",\"marker\":{\"colorbar\":{\"outlinewidth\":0,\"ticks\":\"\"}}}],\"scatterpolar\":[{\"type\":\"scatterpolar\",\"marker\":{\"colorbar\":{\"outlinewidth\":0,\"ticks\":\"\"}}}],\"histogram\":[{\"marker\":{\"pattern\":{\"fillmode\":\"overlay\",\"size\":10,\"solidity\":0.2}},\"type\":\"histogram\"}],\"scattergl\":[{\"type\":\"scattergl\",\"marker\":{\"colorbar\":{\"outlinewidth\":0,\"ticks\":\"\"}}}],\"scatter3d\":[{\"type\":\"scatter3d\",\"line\":{\"colorbar\":{\"outlinewidth\":0,\"ticks\":\"\"}},\"marker\":{\"colorbar\":{\"outlinewidth\":0,\"ticks\":\"\"}}}],\"scattermapbox\":[{\"type\":\"scattermapbox\",\"marker\":{\"colorbar\":{\"outlinewidth\":0,\"ticks\":\"\"}}}],\"scatterternary\":[{\"type\":\"scatterternary\",\"marker\":{\"colorbar\":{\"outlinewidth\":0,\"ticks\":\"\"}}}],\"scattercarpet\":[{\"type\":\"scattercarpet\",\"marker\":{\"colorbar\":{\"outlinewidth\":0,\"ticks\":\"\"}}}],\"carpet\":[{\"aaxis\":{\"endlinecolor\":\"#2a3f5f\",\"gridcolor\":\"white\",\"linecolor\":\"white\",\"minorgridcolor\":\"white\",\"startlinecolor\":\"#2a3f5f\"},\"baxis\":{\"endlinecolor\":\"#2a3f5f\",\"gridcolor\":\"white\",\"linecolor\":\"white\",\"minorgridcolor\":\"white\",\"startlinecolor\":\"#2a3f5f\"},\"type\":\"carpet\"}],\"table\":[{\"cells\":{\"fill\":{\"color\":\"#EBF0F8\"},\"line\":{\"color\":\"white\"}},\"header\":{\"fill\":{\"color\":\"#C8D4E3\"},\"line\":{\"color\":\"white\"}},\"type\":\"table\"}],\"barpolar\":[{\"marker\":{\"line\":{\"color\":\"#E5ECF6\",\"width\":0.5},\"pattern\":{\"fillmode\":\"overlay\",\"size\":10,\"solidity\":0.2}},\"type\":\"barpolar\"}],\"pie\":[{\"automargin\":true,\"type\":\"pie\"}]},\"layout\":{\"autotypenumbers\":\"strict\",\"colorway\":[\"#636efa\",\"#EF553B\",\"#00cc96\",\"#ab63fa\",\"#FFA15A\",\"#19d3f3\",\"#FF6692\",\"#B6E880\",\"#FF97FF\",\"#FECB52\"],\"font\":{\"color\":\"#2a3f5f\"},\"hovermode\":\"closest\",\"hoverlabel\":{\"align\":\"left\"},\"paper_bgcolor\":\"white\",\"plot_bgcolor\":\"#E5ECF6\",\"polar\":{\"bgcolor\":\"#E5ECF6\",\"angularaxis\":{\"gridcolor\":\"white\",\"linecolor\":\"white\",\"ticks\":\"\"},\"radialaxis\":{\"gridcolor\":\"white\",\"linecolor\":\"white\",\"ticks\":\"\"}},\"ternary\":{\"bgcolor\":\"#E5ECF6\",\"aaxis\":{\"gridcolor\":\"white\",\"linecolor\":\"white\",\"ticks\":\"\"},\"baxis\":{\"gridcolor\":\"white\",\"linecolor\":\"white\",\"ticks\":\"\"},\"caxis\":{\"gridcolor\":\"white\",\"linecolor\":\"white\",\"ticks\":\"\"}},\"coloraxis\":{\"colorbar\":{\"outlinewidth\":0,\"ticks\":\"\"}},\"colorscale\":{\"sequential\":[[0.0,\"#0d0887\"],[0.1111111111111111,\"#46039f\"],[0.2222222222222222,\"#7201a8\"],[0.3333333333333333,\"#9c179e\"],[0.4444444444444444,\"#bd3786\"],[0.5555555555555556,\"#d8576b\"],[0.6666666666666666,\"#ed7953\"],[0.7777777777777778,\"#fb9f3a\"],[0.8888888888888888,\"#fdca26\"],[1.0,\"#f0f921\"]],\"sequentialminus\":[[0.0,\"#0d0887\"],[0.1111111111111111,\"#46039f\"],[0.2222222222222222,\"#7201a8\"],[0.3333333333333333,\"#9c179e\"],[0.4444444444444444,\"#bd3786\"],[0.5555555555555556,\"#d8576b\"],[0.6666666666666666,\"#ed7953\"],[0.7777777777777778,\"#fb9f3a\"],[0.8888888888888888,\"#fdca26\"],[1.0,\"#f0f921\"]],\"diverging\":[[0,\"#8e0152\"],[0.1,\"#c51b7d\"],[0.2,\"#de77ae\"],[0.3,\"#f1b6da\"],[0.4,\"#fde0ef\"],[0.5,\"#f7f7f7\"],[0.6,\"#e6f5d0\"],[0.7,\"#b8e186\"],[0.8,\"#7fbc41\"],[0.9,\"#4d9221\"],[1,\"#276419\"]]},\"xaxis\":{\"gridcolor\":\"white\",\"linecolor\":\"white\",\"ticks\":\"\",\"title\":{\"standoff\":15},\"zerolinecolor\":\"white\",\"automargin\":true,\"zerolinewidth\":2},\"yaxis\":{\"gridcolor\":\"white\",\"linecolor\":\"white\",\"ticks\":\"\",\"title\":{\"standoff\":15},\"zerolinecolor\":\"white\",\"automargin\":true,\"zerolinewidth\":2},\"scene\":{\"xaxis\":{\"backgroundcolor\":\"#E5ECF6\",\"gridcolor\":\"white\",\"linecolor\":\"white\",\"showbackground\":true,\"ticks\":\"\",\"zerolinecolor\":\"white\",\"gridwidth\":2},\"yaxis\":{\"backgroundcolor\":\"#E5ECF6\",\"gridcolor\":\"white\",\"linecolor\":\"white\",\"showbackground\":true,\"ticks\":\"\",\"zerolinecolor\":\"white\",\"gridwidth\":2},\"zaxis\":{\"backgroundcolor\":\"#E5ECF6\",\"gridcolor\":\"white\",\"linecolor\":\"white\",\"showbackground\":true,\"ticks\":\"\",\"zerolinecolor\":\"white\",\"gridwidth\":2}},\"shapedefaults\":{\"line\":{\"color\":\"#2a3f5f\"}},\"annotationdefaults\":{\"arrowcolor\":\"#2a3f5f\",\"arrowhead\":0,\"arrowwidth\":1},\"geo\":{\"bgcolor\":\"white\",\"landcolor\":\"#E5ECF6\",\"subunitcolor\":\"white\",\"showland\":true,\"showlakes\":true,\"lakecolor\":\"white\"},\"title\":{\"x\":0.05},\"mapbox\":{\"style\":\"light\"}}},\"xaxis\":{\"anchor\":\"y\",\"domain\":[0.0,1.0],\"title\":{\"text\":\"Region\"}},\"yaxis\":{\"anchor\":\"x\",\"domain\":[0.0,1.0],\"title\":{\"text\":\"Annual Ridership (millions)\"}},\"legend\":{\"tracegroupgap\":0},\"title\":{\"text\":\"Annual Metro Ridership by Region\"},\"boxmode\":\"group\"},                        {\"responsive\": true}                    ).then(function(){\n",
       "                            \n",
       "var gd = document.getElementById('7aa55de7-cf57-400f-8651-c0a22e4333f7');\n",
       "var x = new MutationObserver(function (mutations, observer) {{\n",
       "        var display = window.getComputedStyle(gd).display;\n",
       "        if (!display || display === 'none') {{\n",
       "            console.log([gd, 'removed!']);\n",
       "            Plotly.purge(gd);\n",
       "            observer.disconnect();\n",
       "        }}\n",
       "}});\n",
       "\n",
       "// Listen for the removal of the full notebook cells\n",
       "var notebookContainer = gd.closest('#notebook-container');\n",
       "if (notebookContainer) {{\n",
       "    x.observe(notebookContainer, {childList: true});\n",
       "}}\n",
       "\n",
       "// Listen for the clearing of the current output cell\n",
       "var outputEl = gd.closest('.output');\n",
       "if (outputEl) {{\n",
       "    x.observe(outputEl, {childList: true});\n",
       "}}\n",
       "\n",
       "                        })                };                });            </script>        </div>"
      ]
     },
     "metadata": {},
     "output_type": "display_data"
    }
   ],
   "source": [
    "regional_avg = Metro_cities.groupby('region')['annual_ridership_mill'].mean().reset_index()\n",
    "\n",
    "fig = px.box(Metro_cities, x='region', y='annual_ridership_mill', \n",
    "              labels={'region': 'Region',\n",
    "                      'annual_ridership_mill': 'Annual Ridership (millions)'},\n",
    "              title='Annual Metro Ridership by Region')\n",
    "fig.show()"
   ]
  },
  {
   "cell_type": "markdown",
   "id": "74a6e809-896b-4bfa-8892-52fe3668c6c3",
   "metadata": {},
   "source": [
    "The box plot shows significant variations in ridership across regions. Asian cities tend to have higher ridership compared to other regions, which could be due to dense populations and well-developed metro systems. "
   ]
  },
  {
   "cell_type": "markdown",
   "id": "6d8b87d2-cb9b-4385-8155-a668b5b2f5a4",
   "metadata": {},
   "source": [
    "# 4. System Length vs Annual Ridership #"
   ]
  },
  {
   "cell_type": "code",
   "execution_count": 90,
   "id": "00ac322d-da05-447e-9685-2cc4e1aa4802",
   "metadata": {},
   "outputs": [
    {
     "data": {
      "application/vnd.plotly.v1+json": {
       "config": {
        "plotlyServerURL": "https://plot.ly"
       },
       "data": [
        {
         "customdata": [
          [
           "Algiers",
           "Algeria"
          ],
          [
           "Cairo",
           "Egypt"
          ]
         ],
         "hovertemplate": "region=africa<br>System Length (km)=%{x}<br>Annual Ridership (millions)=%{y}<br>city=%{customdata[0]}<br>country=%{customdata[1]}<extra></extra>",
         "legendgroup": "africa",
         "marker": {
          "color": "#636efa",
          "symbol": "circle"
         },
         "mode": "markers",
         "name": "africa",
         "orientation": "v",
         "showlegend": true,
         "type": "scatter",
         "x": [
          185,
          894
         ],
         "xaxis": "x",
         "y": [
          45.3,
          1314
         ],
         "yaxis": "y"
        },
        {
         "customdata": [
          [
           "Buenos Aires",
           "Argentina"
          ],
          [
           "Belo Horizonte",
           "Brazil"
          ],
          [
           "Brasília",
           "Brazil"
          ],
          [
           "Porto Alegre",
           "Brazil"
          ],
          [
           "Recife",
           "Brazil"
          ],
          [
           "Rio de Janeiro",
           "Brazil"
          ],
          [
           "Salvador",
           "Brazil"
          ],
          [
           "São Paulo",
           "Brazil"
          ],
          [
           "Santiago",
           "Chile"
          ],
          [
           "Medellín",
           "Colombia"
          ],
          [
           "Santo Domingo",
           "Dominican Republic"
          ],
          [
           "Guadalajara",
           "Mexico"
          ],
          [
           "Mexico City",
           "Mexico"
          ],
          [
           "Monterrey",
           "Mexico"
          ],
          [
           "Panama City",
           "Panama"
          ],
          [
           "Lima",
           "Peru"
          ],
          [
           "Caracas",
           "Venezuela"
          ]
         ],
         "hovertemplate": "region=latin_america<br>System Length (km)=%{x}<br>Annual Ridership (millions)=%{y}<br>city=%{customdata[0]}<br>country=%{customdata[1]}<extra></extra>",
         "legendgroup": "latin_america",
         "marker": {
          "color": "#EF553B",
          "symbol": "circle"
         },
         "mode": "markers",
         "name": "latin_america",
         "orientation": "v",
         "showlegend": true,
         "type": "scatter",
         "x": [
          567,
          281,
          424,
          438,
          395,
          58,
          325,
          1044,
          140,
          313,
          310,
          215,
          2009,
          405,
          368,
          346,
          672
         ],
         "xaxis": "x",
         "y": [
          74,
          54.4,
          42.8,
          48.1,
          93.5,
          118.7,
          62,
          763.6,
          263.4,
          115.4,
          49.6,
          0,
          935.2,
          109.9,
          49.9,
          110.4,
          358
         ],
         "yaxis": "y"
        },
        {
         "customdata": [
          [
           "Yerevan",
           "Armenia"
          ],
          [
           "Baku",
           "Azerbaijan"
          ],
          [
           "Beijing",
           "China"
          ],
          [
           "Changchun",
           "China"
          ],
          [
           "Changsha",
           "China"
          ],
          [
           "Changzhou",
           "China"
          ],
          [
           "Chengdu",
           "China"
          ],
          [
           "Chongqing",
           "China"
          ],
          [
           "Dalian",
           "China"
          ],
          [
           "Dongguan",
           "China"
          ],
          [
           "Foshan",
           "China"
          ],
          [
           "Fuzhou",
           "China"
          ],
          [
           "Guangzhou",
           "China"
          ],
          [
           "Guiyang",
           "China"
          ],
          [
           "Hangzhou",
           "China"
          ],
          [
           "Harbin",
           "China"
          ],
          [
           "Hefei",
           "China"
          ],
          [
           "Hohhot",
           "China"
          ],
          [
           "Hong Kong",
           "China"
          ],
          [
           "Jinan",
           "China"
          ],
          [
           "Kunming",
           "China"
          ],
          [
           "Lanzhou",
           "China"
          ],
          [
           "Luoyang",
           "China"
          ],
          [
           "Nanchang",
           "China"
          ],
          [
           "Nanjing",
           "China"
          ],
          [
           "Nanning",
           "China"
          ],
          [
           "Ningbo",
           "China"
          ],
          [
           "Qingdao",
           "China"
          ],
          [
           "Shanghai",
           "China"
          ],
          [
           "Shaoxing",
           "China"
          ],
          [
           "Shenyang",
           "China"
          ],
          [
           "Shenzhen",
           "China"
          ],
          [
           "Shijiazhuang",
           "China"
          ],
          [
           "Suzhou",
           "China"
          ],
          [
           "Taiyuan",
           "China"
          ],
          [
           "Tianjin",
           "China"
          ],
          [
           "Ürümqi",
           "China"
          ],
          [
           "Wenzhou",
           "China"
          ],
          [
           "Wuhan",
           "China"
          ],
          [
           "Wuhu",
           "China"
          ],
          [
           "Wuxi",
           "China"
          ],
          [
           "Xiamen",
           "China"
          ],
          [
           "Xi'an",
           "China"
          ],
          [
           "Xuzhou",
           "China"
          ],
          [
           "Zhengzhou",
           "China"
          ],
          [
           "Tbilisi",
           "Georgia"
          ],
          [
           "Ahmedabad",
           "India"
          ],
          [
           "Bengaluru",
           "India"
          ],
          [
           "Chennai",
           "India"
          ],
          [
           "Delhi",
           "India"
          ],
          [
           "Gurgaon",
           "India"
          ],
          [
           "Hyderabad",
           "India"
          ],
          [
           "Jaipur",
           "India"
          ],
          [
           "Kanpur",
           "India"
          ],
          [
           "Kochi",
           "India"
          ],
          [
           "Kolkata",
           "India"
          ],
          [
           "Lucknow",
           "India"
          ],
          [
           "Mumbai",
           "India"
          ],
          [
           "Nagpur",
           "India"
          ],
          [
           "Noida",
           "India"
          ],
          [
           "Pune",
           "India"
          ],
          [
           "Jakarta",
           "Indonesia"
          ],
          [
           "Isfahan",
           "Iran"
          ],
          [
           "Mashhad",
           "Iran"
          ],
          [
           "Shiraz",
           "Iran"
          ],
          [
           "Tabriz",
           "Iran"
          ],
          [
           "Tehran",
           "Iran"
          ],
          [
           "Fukuoka",
           "Japan"
          ],
          [
           "Hiroshima",
           "Japan"
          ],
          [
           "Kobe",
           "Japan"
          ],
          [
           "Kyoto",
           "Japan"
          ],
          [
           "Nagoya",
           "Japan"
          ],
          [
           "Osaka",
           "Japan"
          ],
          [
           "Sapporo",
           "Japan"
          ],
          [
           "Sendai",
           "Japan"
          ],
          [
           "Tokyo",
           "Japan"
          ],
          [
           "Tokyo",
           "Japan"
          ],
          [
           "Tokyo",
           "Japan"
          ],
          [
           "Yokohama",
           "Japan"
          ],
          [
           "Yokohama",
           "Japan"
          ],
          [
           "Almaty",
           "Kazakhstan"
          ],
          [
           "Pyongyang",
           "North Korea"
          ],
          [
           "Busan",
           "South Korea"
          ],
          [
           "Daegu",
           "South Korea"
          ],
          [
           "Daejeon",
           "South Korea"
          ],
          [
           "Gwangju",
           "South Korea"
          ],
          [
           "Incheon",
           "South Korea"
          ],
          [
           "Seoul",
           "South Korea"
          ],
          [
           "Seoul",
           "South Korea"
          ],
          [
           "Seoul",
           "South Korea"
          ],
          [
           "Kuala Lumpur",
           "Malaysia"
          ],
          [
           "Lahore",
           "Pakistan"
          ],
          [
           "Manila",
           "Philippines"
          ],
          [
           "Manila",
           "Philippines"
          ],
          [
           "Doha",
           "Qatar"
          ],
          [
           "Kazan",
           "Russia"
          ],
          [
           "Moscow",
           "Russia"
          ],
          [
           "Nizhny Novgorod",
           "Russia"
          ],
          [
           "Novosibirsk",
           "Russia"
          ],
          [
           "Saint Petersburg",
           "Russia"
          ],
          [
           "Samara",
           "Russia"
          ],
          [
           "Yekaterinburg",
           "Russia"
          ],
          [
           "Singapore",
           "Singapore"
          ],
          [
           "Kaohsiung",
           "Taiwan"
          ],
          [
           "Taipei",
           "Taiwan"
          ],
          [
           "Taichung",
           "Taiwan"
          ],
          [
           "Taoyuan",
           "Taiwan"
          ],
          [
           "Bangkok",
           "Thailand"
          ],
          [
           "Bangkok",
           "Thailand"
          ],
          [
           "Adana",
           "Turkey"
          ],
          [
           "Ankara",
           "Turkey"
          ],
          [
           "Bursa",
           "Turkey"
          ],
          [
           "Istanbul",
           "Turkey"
          ],
          [
           "İzmir",
           "Turkey"
          ],
          [
           "Dubai",
           "United Arab Emirates"
          ],
          [
           "Tashkent",
           "Uzbekistan"
          ],
          [
           "Hanoi",
           "Vietnam"
          ]
         ],
         "hovertemplate": "region=asia<br>System Length (km)=%{x}<br>Annual Ridership (millions)=%{y}<br>city=%{customdata[0]}<br>country=%{customdata[1]}<extra></extra>",
         "legendgroup": "asia",
         "marker": {
          "color": "#00cc96",
          "symbol": "circle"
         },
         "mode": "markers",
         "name": "asia",
         "orientation": "v",
         "showlegend": true,
         "type": "scatter",
         "x": [
          134,
          3803,
          762,
          726,
          1425,
          5421,
          5192,
          4025,
          20103,
          378,
          719,
          5972,
          5894,
          757,
          401,
          79,
          1562,
          49039,
          2044,
          843,
          1394,
          259,
          435,
          1286,
          427,
          1288,
          1825,
          2843,
          803,
          203,
          116,
          419,
          765,
          2108,
          2365,
          265,
          276,
          535,
          435,
          4625,
          1148,
          987,
          26638,
          6435,
          2063,
          271,
          65,
          56,
          54,
          34812,
          117,
          69,
          120,
          898,
          249,
          3826,
          2287,
          114,
          261,
          297,
          12,
          157,
          202,
          375,
          245,
          172,
          1556,
          298,
          184,
          381,
          312,
          933,
          1299,
          480,
          287,
          1090,
          1951,
          122,
          534,
          41,
          113,
          225,
          1399,
          812,
          227,
          201,
          594,
          3649,
          1517,
          313,
          1425,
          271,
          372,
          169,
          76,
          168,
          4357,
          216,
          159,
          1248,
          116,
          127,
          216,
          427,
          1462,
          167,
          531,
          682,
          71,
          139,
          6436,
          389,
          1357,
          20,
          895,
          571,
          131
         ],
         "xaxis": "x",
         "y": [
          10.75,
          72.1,
          2292.65,
          154.37,
          385.76,
          22.82,
          1800,
          839.75,
          125.22,
          35.06,
          0,
          94.75,
          2415.6,
          36.98,
          582.41,
          51.33,
          195.07,
          21.3,
          1155.8,
          8.68,
          159.26,
          52.48,
          0,
          135.93,
          801.34,
          208.41,
          159.86,
          139.09,
          2834.69,
          0,
          316.28,
          1626.73,
          71.71,
          308.57,
          0.876,
          338.75,
          19.11,
          7.01,
          628.03,
          0,
          87.22,
          113.97,
          731.04,
          20.94,
          341.01,
          69.78,
          0.4,
          174.22,
          42,
          1790,
          18.3,
          173,
          7,
          0,
          17,
          256,
          22,
          126,
          4,
          5,
          0,
          9.9,
          0,
          50.7,
          18,
          0,
          820,
          173.3,
          24,
          114.2,
          146.4,
          487.4,
          870.4,
          226.9,
          91.7,
          1174.9,
          2757.4,
          95,
          243.2,
          80.6,
          7,
          36,
          361,
          168,
          40,
          19,
          116,
          2127.2,
          426.4,
          122.5,
          113.2,
          20,
          218.2,
          96.9,
          0,
          21.5,
          1618.2,
          20.4,
          58.1,
          495,
          8.8,
          27.3,
          738.4,
          65.4,
          695.7,
          0,
          28,
          236.9,
          95.3,
          14,
          66.4,
          91.3,
          262.3,
          100,
          113.6,
          38.8,
          0
         ],
         "yaxis": "y"
        },
        {
         "customdata": [
          [
           "Sydney",
           "Australia"
          ]
         ],
         "hovertemplate": "region=australia<br>System Length (km)=%{x}<br>Annual Ridership (millions)=%{y}<br>city=%{customdata[0]}<br>country=%{customdata[1]}<extra></extra>",
         "legendgroup": "australia",
         "marker": {
          "color": "#ab63fa",
          "symbol": "circle"
         },
         "mode": "markers",
         "name": "australia",
         "orientation": "v",
         "showlegend": true,
         "type": "scatter",
         "x": [
          36
         ],
         "xaxis": "x",
         "y": [
          12.9
         ],
         "yaxis": "y"
        },
        {
         "customdata": [
          [
           "Vienna",
           "Austria"
          ],
          [
           "Minsk",
           "Belarus"
          ],
          [
           "Brussels",
           "Belgium"
          ],
          [
           "Sofia",
           "Bulgaria"
          ],
          [
           "Prague",
           "Czech Republic"
          ],
          [
           "Copenhagen",
           "Denmark"
          ],
          [
           "Helsinki",
           "Finland"
          ],
          [
           "Lille",
           "France"
          ],
          [
           "Lyon",
           "France"
          ],
          [
           "Marseille",
           "France"
          ],
          [
           "Paris",
           "France"
          ],
          [
           "Rennes",
           "France"
          ],
          [
           "Toulouse",
           "France"
          ],
          [
           "Berlin",
           "Germany"
          ],
          [
           "Hamburg",
           "Germany"
          ],
          [
           "Munich",
           "Germany"
          ],
          [
           "Nuremberg",
           "Germany"
          ],
          [
           "Athens",
           "Greece"
          ],
          [
           "Budapest",
           "Hungary"
          ],
          [
           "Brescia",
           "Italy"
          ],
          [
           "Catania",
           "Italy"
          ],
          [
           "Genoa",
           "Italy"
          ],
          [
           "Milan",
           "Italy"
          ],
          [
           "Naples",
           "Italy"
          ],
          [
           "Rome",
           "Italy"
          ],
          [
           "Turin",
           "Italy"
          ],
          [
           "Amsterdam",
           "Netherlands"
          ],
          [
           "Rotterdam",
           "Netherlands"
          ],
          [
           "Oslo",
           "Norway"
          ],
          [
           "Warsaw",
           "Poland"
          ],
          [
           "Lisbon",
           "Portugal"
          ],
          [
           "Bucharest",
           "Romania"
          ],
          [
           "Barcelona",
           "Spain"
          ],
          [
           "Bilbao",
           "Spain"
          ],
          [
           "Madrid",
           "Spain"
          ],
          [
           "Stockholm",
           "Sweden"
          ],
          [
           "Lausanne",
           "Switzerland"
          ],
          [
           "Dnipro",
           "Ukraine"
          ],
          [
           "Kharkiv",
           "Ukraine"
          ],
          [
           "Kyiv",
           "Ukraine"
          ],
          [
           "Glasgow",
           "United Kingdom"
          ],
          [
           "London",
           "United Kingdom"
          ],
          [
           "London",
           "United Kingdom"
          ]
         ],
         "hovertemplate": "region=europe<br>System Length (km)=%{x}<br>Annual Ridership (millions)=%{y}<br>city=%{customdata[0]}<br>country=%{customdata[1]}<extra></extra>",
         "legendgroup": "europe",
         "marker": {
          "color": "#FFA15A",
          "symbol": "circle"
         },
         "mode": "markers",
         "name": "europe",
         "orientation": "v",
         "showlegend": true,
         "type": "scatter",
         "x": [
          833,
          408,
          399,
          52,
          652,
          382,
          35,
          45,
          320,
          223,
          2251,
          94,
          282,
          1478,
          1058,
          95,
          382,
          887,
          382,
          137,
          88,
          71,
          968,
          205,
          60,
          151,
          412,
          1006,
          85,
          355,
          442,
          785,
          1472,
          451,
          2885,
          108,
          59,
          71,
          381,
          676,
          104,
          4052,
          34
         ],
         "xaxis": "x",
         "y": [
          459.8,
          219.3,
          87.6,
          92.4,
          251.4,
          63.7,
          60.4,
          127.6,
          219.5,
          76.6,
          753,
          37.2,
          118.2,
          596,
          249.5,
          429,
          114.6,
          259.2,
          232.8,
          18.7,
          5.8,
          15.3,
          386.8,
          41.1,
          320,
          42.5,
          111.3,
          99,
          74,
          195.4,
          184.6,
          179.2,
          217.93,
          91.6,
          349.8,
          355,
          32.8,
          3.55,
          128.1,
          279.5,
          12.7,
          296,
          39.9
         ],
         "yaxis": "y"
        },
        {
         "customdata": [
          [
           "Montreal",
           "Canada"
          ],
          [
           "Toronto",
           "Canada"
          ],
          [
           "Vancouver",
           "Canada"
          ],
          [
           "Atlanta",
           "United States"
          ],
          [
           "Baltimore",
           "United States"
          ],
          [
           "Boston",
           "United States"
          ],
          [
           "Chicago",
           "United States"
          ],
          [
           "Cleveland",
           "United States"
          ],
          [
           "Los Angeles",
           "United States"
          ],
          [
           "Miami",
           "United States"
          ],
          [
           "New York City",
           "United States"
          ],
          [
           "New York City",
           "United States"
          ],
          [
           "New York City",
           "United States"
          ],
          [
           "Philadelphia",
           "United States"
          ],
          [
           "Philadelphia",
           "United States"
          ],
          [
           "San Francisco/Oakland",
           "United States"
          ],
          [
           "San Juan",
           "United States"
          ],
          [
           "Washington, D.C.",
           "United States"
          ]
         ],
         "hovertemplate": "region=north_america<br>System Length (km)=%{x}<br>Annual Ridership (millions)=%{y}<br>city=%{customdata[0]}<br>country=%{customdata[1]}<extra></extra>",
         "legendgroup": "north_america",
         "marker": {
          "color": "#19d3f3",
          "symbol": "circle"
         },
         "mode": "markers",
         "name": "north_america",
         "orientation": "v",
         "showlegend": true,
         "type": "scatter",
         "x": [
          71,
          765,
          796,
          766,
          249,
          61,
          1654,
          31,
          280,
          401,
          399,
          225,
          222,
          591,
          229,
          1868,
          172,
          188
         ],
         "xaxis": "x",
         "y": [
          164,
          166,
          74.5,
          24.1,
          2.9,
          57.5,
          76,
          2.6,
          22.8,
          9.6,
          639.5,
          2.7,
          29.7,
          37.7,
          3.9,
          34.1,
          1.1,
          68.1
         ],
         "yaxis": "y"
        }
       ],
       "layout": {
        "autosize": true,
        "legend": {
         "title": {
          "text": "region"
         },
         "tracegroupgap": 0
        },
        "template": {
         "data": {
          "bar": [
           {
            "error_x": {
             "color": "#2a3f5f"
            },
            "error_y": {
             "color": "#2a3f5f"
            },
            "marker": {
             "line": {
              "color": "#E5ECF6",
              "width": 0.5
             },
             "pattern": {
              "fillmode": "overlay",
              "size": 10,
              "solidity": 0.2
             }
            },
            "type": "bar"
           }
          ],
          "barpolar": [
           {
            "marker": {
             "line": {
              "color": "#E5ECF6",
              "width": 0.5
             },
             "pattern": {
              "fillmode": "overlay",
              "size": 10,
              "solidity": 0.2
             }
            },
            "type": "barpolar"
           }
          ],
          "carpet": [
           {
            "aaxis": {
             "endlinecolor": "#2a3f5f",
             "gridcolor": "white",
             "linecolor": "white",
             "minorgridcolor": "white",
             "startlinecolor": "#2a3f5f"
            },
            "baxis": {
             "endlinecolor": "#2a3f5f",
             "gridcolor": "white",
             "linecolor": "white",
             "minorgridcolor": "white",
             "startlinecolor": "#2a3f5f"
            },
            "type": "carpet"
           }
          ],
          "choropleth": [
           {
            "colorbar": {
             "outlinewidth": 0,
             "ticks": ""
            },
            "type": "choropleth"
           }
          ],
          "contour": [
           {
            "colorbar": {
             "outlinewidth": 0,
             "ticks": ""
            },
            "colorscale": [
             [
              0,
              "#0d0887"
             ],
             [
              0.1111111111111111,
              "#46039f"
             ],
             [
              0.2222222222222222,
              "#7201a8"
             ],
             [
              0.3333333333333333,
              "#9c179e"
             ],
             [
              0.4444444444444444,
              "#bd3786"
             ],
             [
              0.5555555555555556,
              "#d8576b"
             ],
             [
              0.6666666666666666,
              "#ed7953"
             ],
             [
              0.7777777777777778,
              "#fb9f3a"
             ],
             [
              0.8888888888888888,
              "#fdca26"
             ],
             [
              1,
              "#f0f921"
             ]
            ],
            "type": "contour"
           }
          ],
          "contourcarpet": [
           {
            "colorbar": {
             "outlinewidth": 0,
             "ticks": ""
            },
            "type": "contourcarpet"
           }
          ],
          "heatmap": [
           {
            "colorbar": {
             "outlinewidth": 0,
             "ticks": ""
            },
            "colorscale": [
             [
              0,
              "#0d0887"
             ],
             [
              0.1111111111111111,
              "#46039f"
             ],
             [
              0.2222222222222222,
              "#7201a8"
             ],
             [
              0.3333333333333333,
              "#9c179e"
             ],
             [
              0.4444444444444444,
              "#bd3786"
             ],
             [
              0.5555555555555556,
              "#d8576b"
             ],
             [
              0.6666666666666666,
              "#ed7953"
             ],
             [
              0.7777777777777778,
              "#fb9f3a"
             ],
             [
              0.8888888888888888,
              "#fdca26"
             ],
             [
              1,
              "#f0f921"
             ]
            ],
            "type": "heatmap"
           }
          ],
          "heatmapgl": [
           {
            "colorbar": {
             "outlinewidth": 0,
             "ticks": ""
            },
            "colorscale": [
             [
              0,
              "#0d0887"
             ],
             [
              0.1111111111111111,
              "#46039f"
             ],
             [
              0.2222222222222222,
              "#7201a8"
             ],
             [
              0.3333333333333333,
              "#9c179e"
             ],
             [
              0.4444444444444444,
              "#bd3786"
             ],
             [
              0.5555555555555556,
              "#d8576b"
             ],
             [
              0.6666666666666666,
              "#ed7953"
             ],
             [
              0.7777777777777778,
              "#fb9f3a"
             ],
             [
              0.8888888888888888,
              "#fdca26"
             ],
             [
              1,
              "#f0f921"
             ]
            ],
            "type": "heatmapgl"
           }
          ],
          "histogram": [
           {
            "marker": {
             "pattern": {
              "fillmode": "overlay",
              "size": 10,
              "solidity": 0.2
             }
            },
            "type": "histogram"
           }
          ],
          "histogram2d": [
           {
            "colorbar": {
             "outlinewidth": 0,
             "ticks": ""
            },
            "colorscale": [
             [
              0,
              "#0d0887"
             ],
             [
              0.1111111111111111,
              "#46039f"
             ],
             [
              0.2222222222222222,
              "#7201a8"
             ],
             [
              0.3333333333333333,
              "#9c179e"
             ],
             [
              0.4444444444444444,
              "#bd3786"
             ],
             [
              0.5555555555555556,
              "#d8576b"
             ],
             [
              0.6666666666666666,
              "#ed7953"
             ],
             [
              0.7777777777777778,
              "#fb9f3a"
             ],
             [
              0.8888888888888888,
              "#fdca26"
             ],
             [
              1,
              "#f0f921"
             ]
            ],
            "type": "histogram2d"
           }
          ],
          "histogram2dcontour": [
           {
            "colorbar": {
             "outlinewidth": 0,
             "ticks": ""
            },
            "colorscale": [
             [
              0,
              "#0d0887"
             ],
             [
              0.1111111111111111,
              "#46039f"
             ],
             [
              0.2222222222222222,
              "#7201a8"
             ],
             [
              0.3333333333333333,
              "#9c179e"
             ],
             [
              0.4444444444444444,
              "#bd3786"
             ],
             [
              0.5555555555555556,
              "#d8576b"
             ],
             [
              0.6666666666666666,
              "#ed7953"
             ],
             [
              0.7777777777777778,
              "#fb9f3a"
             ],
             [
              0.8888888888888888,
              "#fdca26"
             ],
             [
              1,
              "#f0f921"
             ]
            ],
            "type": "histogram2dcontour"
           }
          ],
          "mesh3d": [
           {
            "colorbar": {
             "outlinewidth": 0,
             "ticks": ""
            },
            "type": "mesh3d"
           }
          ],
          "parcoords": [
           {
            "line": {
             "colorbar": {
              "outlinewidth": 0,
              "ticks": ""
             }
            },
            "type": "parcoords"
           }
          ],
          "pie": [
           {
            "automargin": true,
            "type": "pie"
           }
          ],
          "scatter": [
           {
            "fillpattern": {
             "fillmode": "overlay",
             "size": 10,
             "solidity": 0.2
            },
            "type": "scatter"
           }
          ],
          "scatter3d": [
           {
            "line": {
             "colorbar": {
              "outlinewidth": 0,
              "ticks": ""
             }
            },
            "marker": {
             "colorbar": {
              "outlinewidth": 0,
              "ticks": ""
             }
            },
            "type": "scatter3d"
           }
          ],
          "scattercarpet": [
           {
            "marker": {
             "colorbar": {
              "outlinewidth": 0,
              "ticks": ""
             }
            },
            "type": "scattercarpet"
           }
          ],
          "scattergeo": [
           {
            "marker": {
             "colorbar": {
              "outlinewidth": 0,
              "ticks": ""
             }
            },
            "type": "scattergeo"
           }
          ],
          "scattergl": [
           {
            "marker": {
             "colorbar": {
              "outlinewidth": 0,
              "ticks": ""
             }
            },
            "type": "scattergl"
           }
          ],
          "scattermapbox": [
           {
            "marker": {
             "colorbar": {
              "outlinewidth": 0,
              "ticks": ""
             }
            },
            "type": "scattermapbox"
           }
          ],
          "scatterpolar": [
           {
            "marker": {
             "colorbar": {
              "outlinewidth": 0,
              "ticks": ""
             }
            },
            "type": "scatterpolar"
           }
          ],
          "scatterpolargl": [
           {
            "marker": {
             "colorbar": {
              "outlinewidth": 0,
              "ticks": ""
             }
            },
            "type": "scatterpolargl"
           }
          ],
          "scatterternary": [
           {
            "marker": {
             "colorbar": {
              "outlinewidth": 0,
              "ticks": ""
             }
            },
            "type": "scatterternary"
           }
          ],
          "surface": [
           {
            "colorbar": {
             "outlinewidth": 0,
             "ticks": ""
            },
            "colorscale": [
             [
              0,
              "#0d0887"
             ],
             [
              0.1111111111111111,
              "#46039f"
             ],
             [
              0.2222222222222222,
              "#7201a8"
             ],
             [
              0.3333333333333333,
              "#9c179e"
             ],
             [
              0.4444444444444444,
              "#bd3786"
             ],
             [
              0.5555555555555556,
              "#d8576b"
             ],
             [
              0.6666666666666666,
              "#ed7953"
             ],
             [
              0.7777777777777778,
              "#fb9f3a"
             ],
             [
              0.8888888888888888,
              "#fdca26"
             ],
             [
              1,
              "#f0f921"
             ]
            ],
            "type": "surface"
           }
          ],
          "table": [
           {
            "cells": {
             "fill": {
              "color": "#EBF0F8"
             },
             "line": {
              "color": "white"
             }
            },
            "header": {
             "fill": {
              "color": "#C8D4E3"
             },
             "line": {
              "color": "white"
             }
            },
            "type": "table"
           }
          ]
         },
         "layout": {
          "annotationdefaults": {
           "arrowcolor": "#2a3f5f",
           "arrowhead": 0,
           "arrowwidth": 1
          },
          "autotypenumbers": "strict",
          "coloraxis": {
           "colorbar": {
            "outlinewidth": 0,
            "ticks": ""
           }
          },
          "colorscale": {
           "diverging": [
            [
             0,
             "#8e0152"
            ],
            [
             0.1,
             "#c51b7d"
            ],
            [
             0.2,
             "#de77ae"
            ],
            [
             0.3,
             "#f1b6da"
            ],
            [
             0.4,
             "#fde0ef"
            ],
            [
             0.5,
             "#f7f7f7"
            ],
            [
             0.6,
             "#e6f5d0"
            ],
            [
             0.7,
             "#b8e186"
            ],
            [
             0.8,
             "#7fbc41"
            ],
            [
             0.9,
             "#4d9221"
            ],
            [
             1,
             "#276419"
            ]
           ],
           "sequential": [
            [
             0,
             "#0d0887"
            ],
            [
             0.1111111111111111,
             "#46039f"
            ],
            [
             0.2222222222222222,
             "#7201a8"
            ],
            [
             0.3333333333333333,
             "#9c179e"
            ],
            [
             0.4444444444444444,
             "#bd3786"
            ],
            [
             0.5555555555555556,
             "#d8576b"
            ],
            [
             0.6666666666666666,
             "#ed7953"
            ],
            [
             0.7777777777777778,
             "#fb9f3a"
            ],
            [
             0.8888888888888888,
             "#fdca26"
            ],
            [
             1,
             "#f0f921"
            ]
           ],
           "sequentialminus": [
            [
             0,
             "#0d0887"
            ],
            [
             0.1111111111111111,
             "#46039f"
            ],
            [
             0.2222222222222222,
             "#7201a8"
            ],
            [
             0.3333333333333333,
             "#9c179e"
            ],
            [
             0.4444444444444444,
             "#bd3786"
            ],
            [
             0.5555555555555556,
             "#d8576b"
            ],
            [
             0.6666666666666666,
             "#ed7953"
            ],
            [
             0.7777777777777778,
             "#fb9f3a"
            ],
            [
             0.8888888888888888,
             "#fdca26"
            ],
            [
             1,
             "#f0f921"
            ]
           ]
          },
          "colorway": [
           "#636efa",
           "#EF553B",
           "#00cc96",
           "#ab63fa",
           "#FFA15A",
           "#19d3f3",
           "#FF6692",
           "#B6E880",
           "#FF97FF",
           "#FECB52"
          ],
          "font": {
           "color": "#2a3f5f"
          },
          "geo": {
           "bgcolor": "white",
           "lakecolor": "white",
           "landcolor": "#E5ECF6",
           "showlakes": true,
           "showland": true,
           "subunitcolor": "white"
          },
          "hoverlabel": {
           "align": "left"
          },
          "hovermode": "closest",
          "mapbox": {
           "style": "light"
          },
          "paper_bgcolor": "white",
          "plot_bgcolor": "#E5ECF6",
          "polar": {
           "angularaxis": {
            "gridcolor": "white",
            "linecolor": "white",
            "ticks": ""
           },
           "bgcolor": "#E5ECF6",
           "radialaxis": {
            "gridcolor": "white",
            "linecolor": "white",
            "ticks": ""
           }
          },
          "scene": {
           "xaxis": {
            "backgroundcolor": "#E5ECF6",
            "gridcolor": "white",
            "gridwidth": 2,
            "linecolor": "white",
            "showbackground": true,
            "ticks": "",
            "zerolinecolor": "white"
           },
           "yaxis": {
            "backgroundcolor": "#E5ECF6",
            "gridcolor": "white",
            "gridwidth": 2,
            "linecolor": "white",
            "showbackground": true,
            "ticks": "",
            "zerolinecolor": "white"
           },
           "zaxis": {
            "backgroundcolor": "#E5ECF6",
            "gridcolor": "white",
            "gridwidth": 2,
            "linecolor": "white",
            "showbackground": true,
            "ticks": "",
            "zerolinecolor": "white"
           }
          },
          "shapedefaults": {
           "line": {
            "color": "#2a3f5f"
           }
          },
          "ternary": {
           "aaxis": {
            "gridcolor": "white",
            "linecolor": "white",
            "ticks": ""
           },
           "baxis": {
            "gridcolor": "white",
            "linecolor": "white",
            "ticks": ""
           },
           "bgcolor": "#E5ECF6",
           "caxis": {
            "gridcolor": "white",
            "linecolor": "white",
            "ticks": ""
           }
          },
          "title": {
           "x": 0.05
          },
          "xaxis": {
           "automargin": true,
           "gridcolor": "white",
           "linecolor": "white",
           "ticks": "",
           "title": {
            "standoff": 15
           },
           "zerolinecolor": "white",
           "zerolinewidth": 2
          },
          "yaxis": {
           "automargin": true,
           "gridcolor": "white",
           "linecolor": "white",
           "ticks": "",
           "title": {
            "standoff": 15
           },
           "zerolinecolor": "white",
           "zerolinewidth": 2
          }
         }
        },
        "title": {
         "text": "System Length vs Annual Ridership"
        },
        "xaxis": {
         "anchor": "y",
         "autorange": true,
         "domain": [
          0,
          1
         ],
         "range": [
          -3256.4666666666667,
          52307.46666666667
         ],
         "title": {
          "text": "System Length (km)"
         },
         "type": "linear"
        },
        "yaxis": {
         "anchor": "x",
         "autorange": true,
         "domain": [
          0,
          1
         ],
         "range": [
          -233.9307281553398,
          3068.6207281553397
         ],
         "title": {
          "text": "Annual Ridership (millions)"
         },
         "type": "linear"
        }
       }
      },
      "image/png": "[encoded data removed]",
      "text/html": [
       "<div>                            <div id=\"fb9fa055-fecf-4575-976c-38bb022fe4db\" class=\"plotly-graph-div\" style=\"height:525px; width:100%;\"></div>            <script type=\"text/javascript\">                require([\"plotly\"], function(Plotly) {                    window.PLOTLYENV=window.PLOTLYENV || {};                                    if (document.getElementById(\"fb9fa055-fecf-4575-976c-38bb022fe4db\")) {                    Plotly.newPlot(                        \"fb9fa055-fecf-4575-976c-38bb022fe4db\",                        [{\"customdata\":[[\"Algiers\",\"Algeria\"],[\"Cairo\",\"Egypt\"]],\"hovertemplate\":\"region=africa<br>System Length (km)=%{x}<br>Annual Ridership (millions)=%{y}<br>city=%{customdata[0]}<br>country=%{customdata[1]}<extra></extra>\",\"legendgroup\":\"africa\",\"marker\":{\"color\":\"#636efa\",\"symbol\":\"circle\"},\"mode\":\"markers\",\"name\":\"africa\",\"orientation\":\"v\",\"showlegend\":true,\"x\":[185,894],\"xaxis\":\"x\",\"y\":[45.3,1314.0],\"yaxis\":\"y\",\"type\":\"scatter\"},{\"customdata\":[[\"Buenos Aires\",\"Argentina\"],[\"Belo Horizonte\",\"Brazil\"],[\"Bras\\u00edlia\",\"Brazil\"],[\"Porto Alegre\",\"Brazil\"],[\"Recife\",\"Brazil\"],[\"Rio de Janeiro\",\"Brazil\"],[\"Salvador\",\"Brazil\"],[\"S\\u00e3o Paulo\",\"Brazil\"],[\"Santiago\",\"Chile\"],[\"Medell\\u00edn\",\"Colombia\"],[\"Santo Domingo\",\"Dominican Republic\"],[\"Guadalajara\",\"Mexico\"],[\"Mexico City\",\"Mexico\"],[\"Monterrey\",\"Mexico\"],[\"Panama City\",\"Panama\"],[\"Lima\",\"Peru\"],[\"Caracas\",\"Venezuela\"]],\"hovertemplate\":\"region=latin_america<br>System Length (km)=%{x}<br>Annual Ridership (millions)=%{y}<br>city=%{customdata[0]}<br>country=%{customdata[1]}<extra></extra>\",\"legendgroup\":\"latin_america\",\"marker\":{\"color\":\"#EF553B\",\"symbol\":\"circle\"},\"mode\":\"markers\",\"name\":\"latin_america\",\"orientation\":\"v\",\"showlegend\":true,\"x\":[567,281,424,438,395,58,325,1044,140,313,310,215,2009,405,368,346,672],\"xaxis\":\"x\",\"y\":[74.0,54.4,42.8,48.1,93.5,118.7,62.0,763.6,263.4,115.4,49.6,0.0,935.2,109.9,49.9,110.4,358.0],\"yaxis\":\"y\",\"type\":\"scatter\"},{\"customdata\":[[\"Yerevan\",\"Armenia\"],[\"Baku\",\"Azerbaijan\"],[\"Beijing\",\"China\"],[\"Changchun\",\"China\"],[\"Changsha\",\"China\"],[\"Changzhou\",\"China\"],[\"Chengdu\",\"China\"],[\"Chongqing\",\"China\"],[\"Dalian\",\"China\"],[\"Dongguan\",\"China\"],[\"Foshan\",\"China\"],[\"Fuzhou\",\"China\"],[\"Guangzhou\",\"China\"],[\"Guiyang\",\"China\"],[\"Hangzhou\",\"China\"],[\"Harbin\",\"China\"],[\"Hefei\",\"China\"],[\"Hohhot\",\"China\"],[\"Hong Kong\",\"China\"],[\"Jinan\",\"China\"],[\"Kunming\",\"China\"],[\"Lanzhou\",\"China\"],[\"Luoyang\",\"China\"],[\"Nanchang\",\"China\"],[\"Nanjing\",\"China\"],[\"Nanning\",\"China\"],[\"Ningbo\",\"China\"],[\"Qingdao\",\"China\"],[\"Shanghai\",\"China\"],[\"Shaoxing\",\"China\"],[\"Shenyang\",\"China\"],[\"Shenzhen\",\"China\"],[\"Shijiazhuang\",\"China\"],[\"Suzhou\",\"China\"],[\"Taiyuan\",\"China\"],[\"Tianjin\",\"China\"],[\"\\u00dcr\\u00fcmqi\",\"China\"],[\"Wenzhou\",\"China\"],[\"Wuhan\",\"China\"],[\"Wuhu\",\"China\"],[\"Wuxi\",\"China\"],[\"Xiamen\",\"China\"],[\"Xi'an\",\"China\"],[\"Xuzhou\",\"China\"],[\"Zhengzhou\",\"China\"],[\"Tbilisi\",\"Georgia\"],[\"Ahmedabad\",\"India\"],[\"Bengaluru\",\"India\"],[\"Chennai\",\"India\"],[\"Delhi\",\"India\"],[\"Gurgaon\",\"India\"],[\"Hyderabad\",\"India\"],[\"Jaipur\",\"India\"],[\"Kanpur\",\"India\"],[\"Kochi\",\"India\"],[\"Kolkata\",\"India\"],[\"Lucknow\",\"India\"],[\"Mumbai\",\"India\"],[\"Nagpur\",\"India\"],[\"Noida\",\"India\"],[\"Pune\",\"India\"],[\"Jakarta\",\"Indonesia\"],[\"Isfahan\",\"Iran\"],[\"Mashhad\",\"Iran\"],[\"Shiraz\",\"Iran\"],[\"Tabriz\",\"Iran\"],[\"Tehran\",\"Iran\"],[\"Fukuoka\",\"Japan\"],[\"Hiroshima\",\"Japan\"],[\"Kobe\",\"Japan\"],[\"Kyoto\",\"Japan\"],[\"Nagoya\",\"Japan\"],[\"Osaka\",\"Japan\"],[\"Sapporo\",\"Japan\"],[\"Sendai\",\"Japan\"],[\"Tokyo\",\"Japan\"],[\"Tokyo\",\"Japan\"],[\"Tokyo\",\"Japan\"],[\"Yokohama\",\"Japan\"],[\"Yokohama\",\"Japan\"],[\"Almaty\",\"Kazakhstan\"],[\"Pyongyang\",\"North Korea\"],[\"Busan\",\"South Korea\"],[\"Daegu\",\"South Korea\"],[\"Daejeon\",\"South Korea\"],[\"Gwangju\",\"South Korea\"],[\"Incheon\",\"South Korea\"],[\"Seoul\",\"South Korea\"],[\"Seoul\",\"South Korea\"],[\"Seoul\",\"South Korea\"],[\"Kuala Lumpur\",\"Malaysia\"],[\"Lahore\",\"Pakistan\"],[\"Manila\",\"Philippines\"],[\"Manila\",\"Philippines\"],[\"Doha\",\"Qatar\"],[\"Kazan\",\"Russia\"],[\"Moscow\",\"Russia\"],[\"Nizhny Novgorod\",\"Russia\"],[\"Novosibirsk\",\"Russia\"],[\"Saint Petersburg\",\"Russia\"],[\"Samara\",\"Russia\"],[\"Yekaterinburg\",\"Russia\"],[\"Singapore\",\"Singapore\"],[\"Kaohsiung\",\"Taiwan\"],[\"Taipei\",\"Taiwan\"],[\"Taichung\",\"Taiwan\"],[\"Taoyuan\",\"Taiwan\"],[\"Bangkok\",\"Thailand\"],[\"Bangkok\",\"Thailand\"],[\"Adana\",\"Turkey\"],[\"Ankara\",\"Turkey\"],[\"Bursa\",\"Turkey\"],[\"Istanbul\",\"Turkey\"],[\"\\u0130zmir\",\"Turkey\"],[\"Dubai\",\"United Arab Emirates\"],[\"Tashkent\",\"Uzbekistan\"],[\"Hanoi\",\"Vietnam\"]],\"hovertemplate\":\"region=asia<br>System Length (km)=%{x}<br>Annual Ridership (millions)=%{y}<br>city=%{customdata[0]}<br>country=%{customdata[1]}<extra></extra>\",\"legendgroup\":\"asia\",\"marker\":{\"color\":\"#00cc96\",\"symbol\":\"circle\"},\"mode\":\"markers\",\"name\":\"asia\",\"orientation\":\"v\",\"showlegend\":true,\"x\":[134,3803,762,726,1425,5421,5192,4025,20103,378,719,5972,5894,757,401,79,1562,49039,2044,843,1394,259,435,1286,427,1288,1825,2843,803,203,116,419,765,2108,2365,265,276,535,435,4625,1148,987,26638,6435,2063,271,65,56,54,34812,117,69,120,898,249,3826,2287,114,261,297,12,157,202,375,245,172,1556,298,184,381,312,933,1299,480,287,1090,1951,122,534,41,113,225,1399,812,227,201,594,3649,1517,313,1425,271,372,169,76,168,4357,216,159,1248,116,127,216,427,1462,167,531,682,71,139,6436,389,1357,20,895,571,131],\"xaxis\":\"x\",\"y\":[10.75,72.1,2292.65,154.37,385.76,22.82,1800.0,839.75,125.22,35.06,0.0,94.75,2415.6,36.98,582.41,51.33,195.07,21.3,1155.8,8.68,159.26,52.48,0.0,135.93,801.34,208.41,159.86,139.09,2834.69,0.0,316.28,1626.73,71.71,308.57,0.876,338.75,19.11,7.01,628.03,0.0,87.22,113.97,731.04,20.94,341.01,69.78,0.4,174.22,42.0,1790.0,18.3,173.0,7.0,0.0,17.0,256.0,22.0,126.0,4.0,5.0,0.0,9.9,0.0,50.7,18.0,0.0,820.0,173.3,24.0,114.2,146.4,487.4,870.4,226.9,91.7,1174.9,2757.4,95.0,243.2,80.6,7.0,36.0,361.0,168.0,40.0,19.0,116.0,2127.2,426.4,122.5,113.2,20.0,218.2,96.9,0.0,21.5,1618.2,20.4,58.1,495.0,8.8,27.3,738.4,65.4,695.7,0.0,28.0,236.9,95.3,14.0,66.4,91.3,262.3,100.0,113.6,38.8,0.0],\"yaxis\":\"y\",\"type\":\"scatter\"},{\"customdata\":[[\"Sydney\",\"Australia\"]],\"hovertemplate\":\"region=australia<br>System Length (km)=%{x}<br>Annual Ridership (millions)=%{y}<br>city=%{customdata[0]}<br>country=%{customdata[1]}<extra></extra>\",\"legendgroup\":\"australia\",\"marker\":{\"color\":\"#ab63fa\",\"symbol\":\"circle\"},\"mode\":\"markers\",\"name\":\"australia\",\"orientation\":\"v\",\"showlegend\":true,\"x\":[36],\"xaxis\":\"x\",\"y\":[12.9],\"yaxis\":\"y\",\"type\":\"scatter\"},{\"customdata\":[[\"Vienna\",\"Austria\"],[\"Minsk\",\"Belarus\"],[\"Brussels\",\"Belgium\"],[\"Sofia\",\"Bulgaria\"],[\"Prague\",\"Czech Republic\"],[\"Copenhagen\",\"Denmark\"],[\"Helsinki\",\"Finland\"],[\"Lille\",\"France\"],[\"Lyon\",\"France\"],[\"Marseille\",\"France\"],[\"Paris\",\"France\"],[\"Rennes\",\"France\"],[\"Toulouse\",\"France\"],[\"Berlin\",\"Germany\"],[\"Hamburg\",\"Germany\"],[\"Munich\",\"Germany\"],[\"Nuremberg\",\"Germany\"],[\"Athens\",\"Greece\"],[\"Budapest\",\"Hungary\"],[\"Brescia\",\"Italy\"],[\"Catania\",\"Italy\"],[\"Genoa\",\"Italy\"],[\"Milan\",\"Italy\"],[\"Naples\",\"Italy\"],[\"Rome\",\"Italy\"],[\"Turin\",\"Italy\"],[\"Amsterdam\",\"Netherlands\"],[\"Rotterdam\",\"Netherlands\"],[\"Oslo\",\"Norway\"],[\"Warsaw\",\"Poland\"],[\"Lisbon\",\"Portugal\"],[\"Bucharest\",\"Romania\"],[\"Barcelona\",\"Spain\"],[\"Bilbao\",\"Spain\"],[\"Madrid\",\"Spain\"],[\"Stockholm\",\"Sweden\"],[\"Lausanne\",\"Switzerland\"],[\"Dnipro\",\"Ukraine\"],[\"Kharkiv\",\"Ukraine\"],[\"Kyiv\",\"Ukraine\"],[\"Glasgow\",\"United Kingdom\"],[\"London\",\"United Kingdom\"],[\"London\",\"United Kingdom\"]],\"hovertemplate\":\"region=europe<br>System Length (km)=%{x}<br>Annual Ridership (millions)=%{y}<br>city=%{customdata[0]}<br>country=%{customdata[1]}<extra></extra>\",\"legendgroup\":\"europe\",\"marker\":{\"color\":\"#FFA15A\",\"symbol\":\"circle\"},\"mode\":\"markers\",\"name\":\"europe\",\"orientation\":\"v\",\"showlegend\":true,\"x\":[833,408,399,52,652,382,35,45,320,223,2251,94,282,1478,1058,95,382,887,382,137,88,71,968,205,60,151,412,1006,85,355,442,785,1472,451,2885,108,59,71,381,676,104,4052,34],\"xaxis\":\"x\",\"y\":[459.8,219.3,87.6,92.4,251.4,63.7,60.4,127.6,219.5,76.6,753.0,37.2,118.2,596.0,249.5,429.0,114.6,259.2,232.8,18.7,5.8,15.3,386.8,41.1,320.0,42.5,111.3,99.0,74.0,195.4,184.6,179.2,217.93,91.6,349.8,355.0,32.8,3.55,128.1,279.5,12.7,296.0,39.9],\"yaxis\":\"y\",\"type\":\"scatter\"},{\"customdata\":[[\"Montreal\",\"Canada\"],[\"Toronto\",\"Canada\"],[\"Vancouver\",\"Canada\"],[\"Atlanta\",\"United States\"],[\"Baltimore\",\"United States\"],[\"Boston\",\"United States\"],[\"Chicago\",\"United States\"],[\"Cleveland\",\"United States\"],[\"Los Angeles\",\"United States\"],[\"Miami\",\"United States\"],[\"New York City\",\"United States\"],[\"New York City\",\"United States\"],[\"New York City\",\"United States\"],[\"Philadelphia\",\"United States\"],[\"Philadelphia\",\"United States\"],[\"San Francisco/Oakland\",\"United States\"],[\"San Juan\",\"United States\"],[\"Washington, D.C.\",\"United States\"]],\"hovertemplate\":\"region=north_america<br>System Length (km)=%{x}<br>Annual Ridership (millions)=%{y}<br>city=%{customdata[0]}<br>country=%{customdata[1]}<extra></extra>\",\"legendgroup\":\"north_america\",\"marker\":{\"color\":\"#19d3f3\",\"symbol\":\"circle\"},\"mode\":\"markers\",\"name\":\"north_america\",\"orientation\":\"v\",\"showlegend\":true,\"x\":[71,765,796,766,249,61,1654,31,280,401,399,225,222,591,229,1868,172,188],\"xaxis\":\"x\",\"y\":[164.0,166.0,74.5,24.1,2.9,57.5,76.0,2.6,22.8,9.6,639.5,2.7,29.7,37.7,3.9,34.1,1.1,68.1],\"yaxis\":\"y\",\"type\":\"scatter\"}],                        {\"template\":{\"data\":{\"histogram2dcontour\":[{\"type\":\"histogram2dcontour\",\"colorbar\":{\"outlinewidth\":0,\"ticks\":\"\"},\"colorscale\":[[0.0,\"#0d0887\"],[0.1111111111111111,\"#46039f\"],[0.2222222222222222,\"#7201a8\"],[0.3333333333333333,\"#9c179e\"],[0.4444444444444444,\"#bd3786\"],[0.5555555555555556,\"#d8576b\"],[0.6666666666666666,\"#ed7953\"],[0.7777777777777778,\"#fb9f3a\"],[0.8888888888888888,\"#fdca26\"],[1.0,\"#f0f921\"]]}],\"choropleth\":[{\"type\":\"choropleth\",\"colorbar\":{\"outlinewidth\":0,\"ticks\":\"\"}}],\"histogram2d\":[{\"type\":\"histogram2d\",\"colorbar\":{\"outlinewidth\":0,\"ticks\":\"\"},\"colorscale\":[[0.0,\"#0d0887\"],[0.1111111111111111,\"#46039f\"],[0.2222222222222222,\"#7201a8\"],[0.3333333333333333,\"#9c179e\"],[0.4444444444444444,\"#bd3786\"],[0.5555555555555556,\"#d8576b\"],[0.6666666666666666,\"#ed7953\"],[0.7777777777777778,\"#fb9f3a\"],[0.8888888888888888,\"#fdca26\"],[1.0,\"#f0f921\"]]}],\"heatmap\":[{\"type\":\"heatmap\",\"colorbar\":{\"outlinewidth\":0,\"ticks\":\"\"},\"colorscale\":[[0.0,\"#0d0887\"],[0.1111111111111111,\"#46039f\"],[0.2222222222222222,\"#7201a8\"],[0.3333333333333333,\"#9c179e\"],[0.4444444444444444,\"#bd3786\"],[0.5555555555555556,\"#d8576b\"],[0.6666666666666666,\"#ed7953\"],[0.7777777777777778,\"#fb9f3a\"],[0.8888888888888888,\"#fdca26\"],[1.0,\"#f0f921\"]]}],\"heatmapgl\":[{\"type\":\"heatmapgl\",\"colorbar\":{\"outlinewidth\":0,\"ticks\":\"\"},\"colorscale\":[[0.0,\"#0d0887\"],[0.1111111111111111,\"#46039f\"],[0.2222222222222222,\"#7201a8\"],[0.3333333333333333,\"#9c179e\"],[0.4444444444444444,\"#bd3786\"],[0.5555555555555556,\"#d8576b\"],[0.6666666666666666,\"#ed7953\"],[0.7777777777777778,\"#fb9f3a\"],[0.8888888888888888,\"#fdca26\"],[1.0,\"#f0f921\"]]}],\"contourcarpet\":[{\"type\":\"contourcarpet\",\"colorbar\":{\"outlinewidth\":0,\"ticks\":\"\"}}],\"contour\":[{\"type\":\"contour\",\"colorbar\":{\"outlinewidth\":0,\"ticks\":\"\"},\"colorscale\":[[0.0,\"#0d0887\"],[0.1111111111111111,\"#46039f\"],[0.2222222222222222,\"#7201a8\"],[0.3333333333333333,\"#9c179e\"],[0.4444444444444444,\"#bd3786\"],[0.5555555555555556,\"#d8576b\"],[0.6666666666666666,\"#ed7953\"],[0.7777777777777778,\"#fb9f3a\"],[0.8888888888888888,\"#fdca26\"],[1.0,\"#f0f921\"]]}],\"surface\":[{\"type\":\"surface\",\"colorbar\":{\"outlinewidth\":0,\"ticks\":\"\"},\"colorscale\":[[0.0,\"#0d0887\"],[0.1111111111111111,\"#46039f\"],[0.2222222222222222,\"#7201a8\"],[0.3333333333333333,\"#9c179e\"],[0.4444444444444444,\"#bd3786\"],[0.5555555555555556,\"#d8576b\"],[0.6666666666666666,\"#ed7953\"],[0.7777777777777778,\"#fb9f3a\"],[0.8888888888888888,\"#fdca26\"],[1.0,\"#f0f921\"]]}],\"mesh3d\":[{\"type\":\"mesh3d\",\"colorbar\":{\"outlinewidth\":0,\"ticks\":\"\"}}],\"scatter\":[{\"fillpattern\":{\"fillmode\":\"overlay\",\"size\":10,\"solidity\":0.2},\"type\":\"scatter\"}],\"parcoords\":[{\"type\":\"parcoords\",\"line\":{\"colorbar\":{\"outlinewidth\":0,\"ticks\":\"\"}}}],\"scatterpolargl\":[{\"type\":\"scatterpolargl\",\"marker\":{\"colorbar\":{\"outlinewidth\":0,\"ticks\":\"\"}}}],\"bar\":[{\"error_x\":{\"color\":\"#2a3f5f\"},\"error_y\":{\"color\":\"#2a3f5f\"},\"marker\":{\"line\":{\"color\":\"#E5ECF6\",\"width\":0.5},\"pattern\":{\"fillmode\":\"overlay\",\"size\":10,\"solidity\":0.2}},\"type\":\"bar\"}],\"scattergeo\":[{\"type\":\"scattergeo\",\"marker\":{\"colorbar\":{\"outlinewidth\":0,\"ticks\":\"\"}}}],\"scatterpolar\":[{\"type\":\"scatterpolar\",\"marker\":{\"colorbar\":{\"outlinewidth\":0,\"ticks\":\"\"}}}],\"histogram\":[{\"marker\":{\"pattern\":{\"fillmode\":\"overlay\",\"size\":10,\"solidity\":0.2}},\"type\":\"histogram\"}],\"scattergl\":[{\"type\":\"scattergl\",\"marker\":{\"colorbar\":{\"outlinewidth\":0,\"ticks\":\"\"}}}],\"scatter3d\":[{\"type\":\"scatter3d\",\"line\":{\"colorbar\":{\"outlinewidth\":0,\"ticks\":\"\"}},\"marker\":{\"colorbar\":{\"outlinewidth\":0,\"ticks\":\"\"}}}],\"scattermapbox\":[{\"type\":\"scattermapbox\",\"marker\":{\"colorbar\":{\"outlinewidth\":0,\"ticks\":\"\"}}}],\"scatterternary\":[{\"type\":\"scatterternary\",\"marker\":{\"colorbar\":{\"outlinewidth\":0,\"ticks\":\"\"}}}],\"scattercarpet\":[{\"type\":\"scattercarpet\",\"marker\":{\"colorbar\":{\"outlinewidth\":0,\"ticks\":\"\"}}}],\"carpet\":[{\"aaxis\":{\"endlinecolor\":\"#2a3f5f\",\"gridcolor\":\"white\",\"linecolor\":\"white\",\"minorgridcolor\":\"white\",\"startlinecolor\":\"#2a3f5f\"},\"baxis\":{\"endlinecolor\":\"#2a3f5f\",\"gridcolor\":\"white\",\"linecolor\":\"white\",\"minorgridcolor\":\"white\",\"startlinecolor\":\"#2a3f5f\"},\"type\":\"carpet\"}],\"table\":[{\"cells\":{\"fill\":{\"color\":\"#EBF0F8\"},\"line\":{\"color\":\"white\"}},\"header\":{\"fill\":{\"color\":\"#C8D4E3\"},\"line\":{\"color\":\"white\"}},\"type\":\"table\"}],\"barpolar\":[{\"marker\":{\"line\":{\"color\":\"#E5ECF6\",\"width\":0.5},\"pattern\":{\"fillmode\":\"overlay\",\"size\":10,\"solidity\":0.2}},\"type\":\"barpolar\"}],\"pie\":[{\"automargin\":true,\"type\":\"pie\"}]},\"layout\":{\"autotypenumbers\":\"strict\",\"colorway\":[\"#636efa\",\"#EF553B\",\"#00cc96\",\"#ab63fa\",\"#FFA15A\",\"#19d3f3\",\"#FF6692\",\"#B6E880\",\"#FF97FF\",\"#FECB52\"],\"font\":{\"color\":\"#2a3f5f\"},\"hovermode\":\"closest\",\"hoverlabel\":{\"align\":\"left\"},\"paper_bgcolor\":\"white\",\"plot_bgcolor\":\"#E5ECF6\",\"polar\":{\"bgcolor\":\"#E5ECF6\",\"angularaxis\":{\"gridcolor\":\"white\",\"linecolor\":\"white\",\"ticks\":\"\"},\"radialaxis\":{\"gridcolor\":\"white\",\"linecolor\":\"white\",\"ticks\":\"\"}},\"ternary\":{\"bgcolor\":\"#E5ECF6\",\"aaxis\":{\"gridcolor\":\"white\",\"linecolor\":\"white\",\"ticks\":\"\"},\"baxis\":{\"gridcolor\":\"white\",\"linecolor\":\"white\",\"ticks\":\"\"},\"caxis\":{\"gridcolor\":\"white\",\"linecolor\":\"white\",\"ticks\":\"\"}},\"coloraxis\":{\"colorbar\":{\"outlinewidth\":0,\"ticks\":\"\"}},\"colorscale\":{\"sequential\":[[0.0,\"#0d0887\"],[0.1111111111111111,\"#46039f\"],[0.2222222222222222,\"#7201a8\"],[0.3333333333333333,\"#9c179e\"],[0.4444444444444444,\"#bd3786\"],[0.5555555555555556,\"#d8576b\"],[0.6666666666666666,\"#ed7953\"],[0.7777777777777778,\"#fb9f3a\"],[0.8888888888888888,\"#fdca26\"],[1.0,\"#f0f921\"]],\"sequentialminus\":[[0.0,\"#0d0887\"],[0.1111111111111111,\"#46039f\"],[0.2222222222222222,\"#7201a8\"],[0.3333333333333333,\"#9c179e\"],[0.4444444444444444,\"#bd3786\"],[0.5555555555555556,\"#d8576b\"],[0.6666666666666666,\"#ed7953\"],[0.7777777777777778,\"#fb9f3a\"],[0.8888888888888888,\"#fdca26\"],[1.0,\"#f0f921\"]],\"diverging\":[[0,\"#8e0152\"],[0.1,\"#c51b7d\"],[0.2,\"#de77ae\"],[0.3,\"#f1b6da\"],[0.4,\"#fde0ef\"],[0.5,\"#f7f7f7\"],[0.6,\"#e6f5d0\"],[0.7,\"#b8e186\"],[0.8,\"#7fbc41\"],[0.9,\"#4d9221\"],[1,\"#276419\"]]},\"xaxis\":{\"gridcolor\":\"white\",\"linecolor\":\"white\",\"ticks\":\"\",\"title\":{\"standoff\":15},\"zerolinecolor\":\"white\",\"automargin\":true,\"zerolinewidth\":2},\"yaxis\":{\"gridcolor\":\"white\",\"linecolor\":\"white\",\"ticks\":\"\",\"title\":{\"standoff\":15},\"zerolinecolor\":\"white\",\"automargin\":true,\"zerolinewidth\":2},\"scene\":{\"xaxis\":{\"backgroundcolor\":\"#E5ECF6\",\"gridcolor\":\"white\",\"linecolor\":\"white\",\"showbackground\":true,\"ticks\":\"\",\"zerolinecolor\":\"white\",\"gridwidth\":2},\"yaxis\":{\"backgroundcolor\":\"#E5ECF6\",\"gridcolor\":\"white\",\"linecolor\":\"white\",\"showbackground\":true,\"ticks\":\"\",\"zerolinecolor\":\"white\",\"gridwidth\":2},\"zaxis\":{\"backgroundcolor\":\"#E5ECF6\",\"gridcolor\":\"white\",\"linecolor\":\"white\",\"showbackground\":true,\"ticks\":\"\",\"zerolinecolor\":\"white\",\"gridwidth\":2}},\"shapedefaults\":{\"line\":{\"color\":\"#2a3f5f\"}},\"annotationdefaults\":{\"arrowcolor\":\"#2a3f5f\",\"arrowhead\":0,\"arrowwidth\":1},\"geo\":{\"bgcolor\":\"white\",\"landcolor\":\"#E5ECF6\",\"subunitcolor\":\"white\",\"showland\":true,\"showlakes\":true,\"lakecolor\":\"white\"},\"title\":{\"x\":0.05},\"mapbox\":{\"style\":\"light\"}}},\"xaxis\":{\"anchor\":\"y\",\"domain\":[0.0,1.0],\"title\":{\"text\":\"System Length (km)\"}},\"yaxis\":{\"anchor\":\"x\",\"domain\":[0.0,1.0],\"title\":{\"text\":\"Annual Ridership (millions)\"}},\"legend\":{\"title\":{\"text\":\"region\"},\"tracegroupgap\":0},\"title\":{\"text\":\"System Length vs Annual Ridership\"}},                        {\"responsive\": true}                    ).then(function(){\n",
       "                            \n",
       "var gd = document.getElementById('fb9fa055-fecf-4575-976c-38bb022fe4db');\n",
       "var x = new MutationObserver(function (mutations, observer) {{\n",
       "        var display = window.getComputedStyle(gd).display;\n",
       "        if (!display || display === 'none') {{\n",
       "            console.log([gd, 'removed!']);\n",
       "            Plotly.purge(gd);\n",
       "            observer.disconnect();\n",
       "        }}\n",
       "}});\n",
       "\n",
       "// Listen for the removal of the full notebook cells\n",
       "var notebookContainer = gd.closest('#notebook-container');\n",
       "if (notebookContainer) {{\n",
       "    x.observe(notebookContainer, {childList: true});\n",
       "}}\n",
       "\n",
       "// Listen for the clearing of the current output cell\n",
       "var outputEl = gd.closest('.output');\n",
       "if (outputEl) {{\n",
       "    x.observe(outputEl, {childList: true});\n",
       "}}\n",
       "\n",
       "                        })                };                });            </script>        </div>"
      ]
     },
     "metadata": {},
     "output_type": "display_data"
    }
   ],
   "source": [
    "fig = px.scatter(Metro_cities, x='length_km', y='annual_ridership_mill', \n",
    "                 hover_data=['city', 'country'], color='region',\n",
    "                 labels={'length_km': 'System Length (km)', \n",
    "                         'annual_ridership_mill': 'Annual Ridership (millions)'},\n",
    "                 title='System Length vs Annual Ridership')\n",
    "fig.show()"
   ]
  },
  {
   "attachments": {},
   "cell_type": "markdown",
   "id": "f12151dd-8111-4348-8598-912dafae5bfc",
   "metadata": {},
   "source": [
    "This plot would show that longer metro systems has a significant correlation  with higher ridership, which means a longer system may connect more areas of a city, facilitating travel across greater distances and potentially increasing annual ridership."
   ]
  },
  {
   "attachments": {},
   "cell_type": "markdown",
   "id": "a8de14ec-febe-4dc6-92d7-3bbacf04bdb1",
   "metadata": {},
   "source": [
    "# Additional Factors Influencing Metro Passenger Flows #\n",
    "### 1. Country Population\n",
    "### 2. Average Metro Fare\n",
    ".\r\n"
   ]
  },
  {
   "cell_type": "code",
   "execution_count": 137,
   "id": "052594f8-e055-4944-b3c3-041627ed0241",
   "metadata": {},
   "outputs": [
    {
     "data": {
      "text/html": [
       "<div>\n",
       "<style scoped>\n",
       "    .dataframe tbody tr th:only-of-type {\n",
       "        vertical-align: middle;\n",
       "    }\n",
       "\n",
       "    .dataframe tbody tr th {\n",
       "        vertical-align: top;\n",
       "    }\n",
       "\n",
       "    .dataframe thead th {\n",
       "        text-align: right;\n",
       "    }\n",
       "</style>\n",
       "<table border=\"1\" class=\"dataframe\">\n",
       "  <thead>\n",
       "    <tr style=\"text-align: right;\">\n",
       "      <th></th>\n",
       "      <th>country</th>\n",
       "      <th>systems</th>\n",
       "      <th>length</th>\n",
       "      <th>lines</th>\n",
       "      <th>stations</th>\n",
       "      <th>annual_ridership_mill</th>\n",
       "      <th>inauguration</th>\n",
       "      <th>region</th>\n",
       "    </tr>\n",
       "  </thead>\n",
       "  <tbody>\n",
       "    <tr>\n",
       "      <th>0</th>\n",
       "      <td>China</td>\n",
       "      <td>43</td>\n",
       "      <td>8549.62</td>\n",
       "      <td>249</td>\n",
       "      <td>5375</td>\n",
       "      <td>2.10</td>\n",
       "      <td>1969</td>\n",
       "      <td>asia</td>\n",
       "    </tr>\n",
       "    <tr>\n",
       "      <th>1</th>\n",
       "      <td>United States</td>\n",
       "      <td>15</td>\n",
       "      <td>1344.70</td>\n",
       "      <td>86</td>\n",
       "      <td>1228</td>\n",
       "      <td>0.75</td>\n",
       "      <td>1892</td>\n",
       "      <td>north_america</td>\n",
       "    </tr>\n",
       "    <tr>\n",
       "      <th>2</th>\n",
       "      <td>South Korea</td>\n",
       "      <td>8</td>\n",
       "      <td>871.20</td>\n",
       "      <td>34</td>\n",
       "      <td>728</td>\n",
       "      <td>3.87</td>\n",
       "      <td>1974</td>\n",
       "      <td>asia</td>\n",
       "    </tr>\n",
       "    <tr>\n",
       "      <th>3</th>\n",
       "      <td>Japan</td>\n",
       "      <td>13</td>\n",
       "      <td>791.20</td>\n",
       "      <td>45</td>\n",
       "      <td>747</td>\n",
       "      <td>8.19</td>\n",
       "      <td>1927</td>\n",
       "      <td>asia</td>\n",
       "    </tr>\n",
       "    <tr>\n",
       "      <th>4</th>\n",
       "      <td>India</td>\n",
       "      <td>15</td>\n",
       "      <td>731.75</td>\n",
       "      <td>31</td>\n",
       "      <td>585</td>\n",
       "      <td>3.70</td>\n",
       "      <td>1984</td>\n",
       "      <td>asia</td>\n",
       "    </tr>\n",
       "    <tr>\n",
       "      <th>5</th>\n",
       "      <td>Russia</td>\n",
       "      <td>7</td>\n",
       "      <td>639.10</td>\n",
       "      <td>29</td>\n",
       "      <td>380</td>\n",
       "      <td>3.51</td>\n",
       "      <td>1935</td>\n",
       "      <td>asia</td>\n",
       "    </tr>\n",
       "    <tr>\n",
       "      <th>6</th>\n",
       "      <td>Spain</td>\n",
       "      <td>3</td>\n",
       "      <td>458.30</td>\n",
       "      <td>28</td>\n",
       "      <td>539</td>\n",
       "      <td>1.43</td>\n",
       "      <td>1919</td>\n",
       "      <td>europe</td>\n",
       "    </tr>\n",
       "    <tr>\n",
       "      <th>7</th>\n",
       "      <td>United Kingdom</td>\n",
       "      <td>3</td>\n",
       "      <td>449.60</td>\n",
       "      <td>19</td>\n",
       "      <td>332</td>\n",
       "      <td>0.77</td>\n",
       "      <td>1863</td>\n",
       "      <td>europe</td>\n",
       "    </tr>\n",
       "    <tr>\n",
       "      <th>8</th>\n",
       "      <td>Germany</td>\n",
       "      <td>4</td>\n",
       "      <td>386.80</td>\n",
       "      <td>24</td>\n",
       "      <td>413</td>\n",
       "      <td>3.59</td>\n",
       "      <td>1902</td>\n",
       "      <td>europe</td>\n",
       "    </tr>\n",
       "    <tr>\n",
       "      <th>9</th>\n",
       "      <td>France</td>\n",
       "      <td>6</td>\n",
       "      <td>362.00</td>\n",
       "      <td>27</td>\n",
       "      <td>488</td>\n",
       "      <td>3.70</td>\n",
       "      <td>1900</td>\n",
       "      <td>europe</td>\n",
       "    </tr>\n",
       "    <tr>\n",
       "      <th>10</th>\n",
       "      <td>Brazil</td>\n",
       "      <td>7</td>\n",
       "      <td>348.70</td>\n",
       "      <td>19</td>\n",
       "      <td>246</td>\n",
       "      <td>3.44</td>\n",
       "      <td>1974</td>\n",
       "      <td>latin_america</td>\n",
       "    </tr>\n",
       "    <tr>\n",
       "      <th>11</th>\n",
       "      <td>Turkey</td>\n",
       "      <td>5</td>\n",
       "      <td>272.86</td>\n",
       "      <td>17</td>\n",
       "      <td>236</td>\n",
       "      <td>1.94</td>\n",
       "      <td>1989</td>\n",
       "      <td>asia</td>\n",
       "    </tr>\n",
       "    <tr>\n",
       "      <th>12</th>\n",
       "      <td>Mexico</td>\n",
       "      <td>3</td>\n",
       "      <td>262.90</td>\n",
       "      <td>18</td>\n",
       "      <td>283</td>\n",
       "      <td>4.37</td>\n",
       "      <td>1969</td>\n",
       "      <td>latin_america</td>\n",
       "    </tr>\n",
       "    <tr>\n",
       "      <th>13</th>\n",
       "      <td>Taiwan</td>\n",
       "      <td>4</td>\n",
       "      <td>258.70</td>\n",
       "      <td>11</td>\n",
       "      <td>231</td>\n",
       "      <td>3.26</td>\n",
       "      <td>1996</td>\n",
       "      <td>asia</td>\n",
       "    </tr>\n",
       "    <tr>\n",
       "      <th>14</th>\n",
       "      <td>Iran</td>\n",
       "      <td>5</td>\n",
       "      <td>255.00</td>\n",
       "      <td>17</td>\n",
       "      <td>238</td>\n",
       "      <td>4.08</td>\n",
       "      <td>2000</td>\n",
       "      <td>asia</td>\n",
       "    </tr>\n",
       "    <tr>\n",
       "      <th>15</th>\n",
       "      <td>Canada</td>\n",
       "      <td>3</td>\n",
       "      <td>227.10</td>\n",
       "      <td>11</td>\n",
       "      <td>196</td>\n",
       "      <td>1.78</td>\n",
       "      <td>1954</td>\n",
       "      <td>north_america</td>\n",
       "    </tr>\n",
       "    <tr>\n",
       "      <th>16</th>\n",
       "      <td>Italy</td>\n",
       "      <td>7</td>\n",
       "      <td>222.00</td>\n",
       "      <td>13</td>\n",
       "      <td>263</td>\n",
       "      <td>3.73</td>\n",
       "      <td>1955</td>\n",
       "      <td>europe</td>\n",
       "    </tr>\n",
       "    <tr>\n",
       "      <th>17</th>\n",
       "      <td>Singapore</td>\n",
       "      <td>1</td>\n",
       "      <td>216.00</td>\n",
       "      <td>8</td>\n",
       "      <td>187</td>\n",
       "      <td>3.41</td>\n",
       "      <td>1987</td>\n",
       "      <td>asia</td>\n",
       "    </tr>\n",
       "    <tr>\n",
       "      <th>18</th>\n",
       "      <td>Malaysia</td>\n",
       "      <td>1</td>\n",
       "      <td>142.50</td>\n",
       "      <td>7</td>\n",
       "      <td>104</td>\n",
       "      <td>0.79</td>\n",
       "      <td>1996</td>\n",
       "      <td>asia</td>\n",
       "    </tr>\n",
       "    <tr>\n",
       "      <th>19</th>\n",
       "      <td>Netherlands</td>\n",
       "      <td>2</td>\n",
       "      <td>141.80</td>\n",
       "      <td>10</td>\n",
       "      <td>109</td>\n",
       "      <td>1.48</td>\n",
       "      <td>1968</td>\n",
       "      <td>europe</td>\n",
       "    </tr>\n",
       "    <tr>\n",
       "      <th>20</th>\n",
       "      <td>Chile</td>\n",
       "      <td>1</td>\n",
       "      <td>140.00</td>\n",
       "      <td>7</td>\n",
       "      <td>136</td>\n",
       "      <td>1.88</td>\n",
       "      <td>1975</td>\n",
       "      <td>latin_america</td>\n",
       "    </tr>\n",
       "    <tr>\n",
       "      <th>21</th>\n",
       "      <td>Thailand</td>\n",
       "      <td>2</td>\n",
       "      <td>139.20</td>\n",
       "      <td>4</td>\n",
       "      <td>114</td>\n",
       "      <td>2.38</td>\n",
       "      <td>1999</td>\n",
       "      <td>asia</td>\n",
       "    </tr>\n",
       "    <tr>\n",
       "      <th>22</th>\n",
       "      <td>Ukraine</td>\n",
       "      <td>3</td>\n",
       "      <td>112.80</td>\n",
       "      <td>7</td>\n",
       "      <td>88</td>\n",
       "      <td>3.64</td>\n",
       "      <td>1960</td>\n",
       "      <td>europe</td>\n",
       "    </tr>\n",
       "    <tr>\n",
       "      <th>23</th>\n",
       "      <td>Sweden</td>\n",
       "      <td>1</td>\n",
       "      <td>108.00</td>\n",
       "      <td>7</td>\n",
       "      <td>100</td>\n",
       "      <td>3.10</td>\n",
       "      <td>1950</td>\n",
       "      <td>europe</td>\n",
       "    </tr>\n",
       "    <tr>\n",
       "      <th>24</th>\n",
       "      <td>United Arab Emirates</td>\n",
       "      <td>1</td>\n",
       "      <td>89.50</td>\n",
       "      <td>3</td>\n",
       "      <td>53</td>\n",
       "      <td>1.26</td>\n",
       "      <td>2009</td>\n",
       "      <td>asia</td>\n",
       "    </tr>\n",
       "    <tr>\n",
       "      <th>25</th>\n",
       "      <td>Egypt</td>\n",
       "      <td>1</td>\n",
       "      <td>89.40</td>\n",
       "      <td>3</td>\n",
       "      <td>74</td>\n",
       "      <td>0.00</td>\n",
       "      <td>1987</td>\n",
       "      <td>africa</td>\n",
       "    </tr>\n",
       "    <tr>\n",
       "      <th>26</th>\n",
       "      <td>Greece</td>\n",
       "      <td>1</td>\n",
       "      <td>88.70</td>\n",
       "      <td>3</td>\n",
       "      <td>68</td>\n",
       "      <td>2.92</td>\n",
       "      <td>1904</td>\n",
       "      <td>europe</td>\n",
       "    </tr>\n",
       "    <tr>\n",
       "      <th>27</th>\n",
       "      <td>Norway</td>\n",
       "      <td>1</td>\n",
       "      <td>85.00</td>\n",
       "      <td>5</td>\n",
       "      <td>101</td>\n",
       "      <td>0.87</td>\n",
       "      <td>1966</td>\n",
       "      <td>europe</td>\n",
       "    </tr>\n",
       "    <tr>\n",
       "      <th>28</th>\n",
       "      <td>Austria</td>\n",
       "      <td>1</td>\n",
       "      <td>83.30</td>\n",
       "      <td>5</td>\n",
       "      <td>109</td>\n",
       "      <td>5.51</td>\n",
       "      <td>1976</td>\n",
       "      <td>europe</td>\n",
       "    </tr>\n",
       "    <tr>\n",
       "      <th>29</th>\n",
       "      <td>Romania</td>\n",
       "      <td>1</td>\n",
       "      <td>78.50</td>\n",
       "      <td>5</td>\n",
       "      <td>62</td>\n",
       "      <td>2.28</td>\n",
       "      <td>1979</td>\n",
       "      <td>europe</td>\n",
       "    </tr>\n",
       "    <tr>\n",
       "      <th>30</th>\n",
       "      <td>Qatar</td>\n",
       "      <td>1</td>\n",
       "      <td>76.00</td>\n",
       "      <td>3</td>\n",
       "      <td>37</td>\n",
       "      <td>0.00</td>\n",
       "      <td>2019</td>\n",
       "      <td>asia</td>\n",
       "    </tr>\n",
       "    <tr>\n",
       "      <th>31</th>\n",
       "      <td>Venezuela</td>\n",
       "      <td>1</td>\n",
       "      <td>67.20</td>\n",
       "      <td>4</td>\n",
       "      <td>46</td>\n",
       "      <td>5.32</td>\n",
       "      <td>1983</td>\n",
       "      <td>latin_america</td>\n",
       "    </tr>\n",
       "    <tr>\n",
       "      <th>32</th>\n",
       "      <td>Czech Republic</td>\n",
       "      <td>1</td>\n",
       "      <td>65.20</td>\n",
       "      <td>3</td>\n",
       "      <td>61</td>\n",
       "      <td>3.85</td>\n",
       "      <td>1974</td>\n",
       "      <td>europe</td>\n",
       "    </tr>\n",
       "    <tr>\n",
       "      <th>33</th>\n",
       "      <td>Uzbekistan</td>\n",
       "      <td>1</td>\n",
       "      <td>57.10</td>\n",
       "      <td>4</td>\n",
       "      <td>43</td>\n",
       "      <td>0.67</td>\n",
       "      <td>1977</td>\n",
       "      <td>asia</td>\n",
       "    </tr>\n",
       "    <tr>\n",
       "      <th>34</th>\n",
       "      <td>Argentina</td>\n",
       "      <td>1</td>\n",
       "      <td>56.70</td>\n",
       "      <td>7</td>\n",
       "      <td>104</td>\n",
       "      <td>1.30</td>\n",
       "      <td>1913</td>\n",
       "      <td>latin_america</td>\n",
       "    </tr>\n",
       "    <tr>\n",
       "      <th>35</th>\n",
       "      <td>Bulgaria</td>\n",
       "      <td>1</td>\n",
       "      <td>52.00</td>\n",
       "      <td>4</td>\n",
       "      <td>47</td>\n",
       "      <td>1.79</td>\n",
       "      <td>1998</td>\n",
       "      <td>europe</td>\n",
       "    </tr>\n",
       "    <tr>\n",
       "      <th>36</th>\n",
       "      <td>Portugal</td>\n",
       "      <td>1</td>\n",
       "      <td>44.20</td>\n",
       "      <td>4</td>\n",
       "      <td>56</td>\n",
       "      <td>1.93</td>\n",
       "      <td>1959</td>\n",
       "      <td>europe</td>\n",
       "    </tr>\n",
       "    <tr>\n",
       "      <th>37</th>\n",
       "      <td>Philippines</td>\n",
       "      <td>2</td>\n",
       "      <td>54.10</td>\n",
       "      <td>3</td>\n",
       "      <td>46</td>\n",
       "      <td>5.82</td>\n",
       "      <td>1984</td>\n",
       "      <td>asia</td>\n",
       "    </tr>\n",
       "    <tr>\n",
       "      <th>38</th>\n",
       "      <td>Belarus</td>\n",
       "      <td>1</td>\n",
       "      <td>40.80</td>\n",
       "      <td>3</td>\n",
       "      <td>33</td>\n",
       "      <td>5.37</td>\n",
       "      <td>1984</td>\n",
       "      <td>europe</td>\n",
       "    </tr>\n",
       "    <tr>\n",
       "      <th>39</th>\n",
       "      <td>Belgium</td>\n",
       "      <td>1</td>\n",
       "      <td>39.90</td>\n",
       "      <td>4</td>\n",
       "      <td>59</td>\n",
       "      <td>2.19</td>\n",
       "      <td>1976</td>\n",
       "      <td>europe</td>\n",
       "    </tr>\n",
       "    <tr>\n",
       "      <th>40</th>\n",
       "      <td>Hungary</td>\n",
       "      <td>1</td>\n",
       "      <td>38.20</td>\n",
       "      <td>4</td>\n",
       "      <td>48</td>\n",
       "      <td>6.09</td>\n",
       "      <td>1896</td>\n",
       "      <td>europe</td>\n",
       "    </tr>\n",
       "    <tr>\n",
       "      <th>41</th>\n",
       "      <td>Denmark</td>\n",
       "      <td>1</td>\n",
       "      <td>38.20</td>\n",
       "      <td>4</td>\n",
       "      <td>39</td>\n",
       "      <td>1.66</td>\n",
       "      <td>2002</td>\n",
       "      <td>europe</td>\n",
       "    </tr>\n",
       "    <tr>\n",
       "      <th>42</th>\n",
       "      <td>Azerbaijan</td>\n",
       "      <td>1</td>\n",
       "      <td>38.03</td>\n",
       "      <td>3</td>\n",
       "      <td>26</td>\n",
       "      <td>1.89</td>\n",
       "      <td>1967</td>\n",
       "      <td>asia</td>\n",
       "    </tr>\n",
       "    <tr>\n",
       "      <th>43</th>\n",
       "      <td>Panama</td>\n",
       "      <td>1</td>\n",
       "      <td>36.80</td>\n",
       "      <td>2</td>\n",
       "      <td>29</td>\n",
       "      <td>1.38</td>\n",
       "      <td>2014</td>\n",
       "      <td>latin_america</td>\n",
       "    </tr>\n",
       "    <tr>\n",
       "      <th>44</th>\n",
       "      <td>Australia</td>\n",
       "      <td>1</td>\n",
       "      <td>36.00</td>\n",
       "      <td>1</td>\n",
       "      <td>13</td>\n",
       "      <td>0.35</td>\n",
       "      <td>2019</td>\n",
       "      <td>australia</td>\n",
       "    </tr>\n",
       "    <tr>\n",
       "      <th>45</th>\n",
       "      <td>Poland</td>\n",
       "      <td>1</td>\n",
       "      <td>35.50</td>\n",
       "      <td>2</td>\n",
       "      <td>34</td>\n",
       "      <td>5.50</td>\n",
       "      <td>1995</td>\n",
       "      <td>europe</td>\n",
       "    </tr>\n",
       "    <tr>\n",
       "      <th>46</th>\n",
       "      <td>Finland</td>\n",
       "      <td>1</td>\n",
       "      <td>35.00</td>\n",
       "      <td>2</td>\n",
       "      <td>25</td>\n",
       "      <td>1.72</td>\n",
       "      <td>1982</td>\n",
       "      <td>europe</td>\n",
       "    </tr>\n",
       "    <tr>\n",
       "      <th>47</th>\n",
       "      <td>Peru</td>\n",
       "      <td>1</td>\n",
       "      <td>34.60</td>\n",
       "      <td>1</td>\n",
       "      <td>26</td>\n",
       "      <td>3.19</td>\n",
       "      <td>2011</td>\n",
       "      <td>latin_america</td>\n",
       "    </tr>\n",
       "    <tr>\n",
       "      <th>48</th>\n",
       "      <td>North Korea</td>\n",
       "      <td>1</td>\n",
       "      <td>22.00</td>\n",
       "      <td>2</td>\n",
       "      <td>16</td>\n",
       "      <td>1.63</td>\n",
       "      <td>1973</td>\n",
       "      <td>asia</td>\n",
       "    </tr>\n",
       "    <tr>\n",
       "      <th>49</th>\n",
       "      <td>Colombia</td>\n",
       "      <td>1</td>\n",
       "      <td>31.30</td>\n",
       "      <td>2</td>\n",
       "      <td>27</td>\n",
       "      <td>3.68</td>\n",
       "      <td>1995</td>\n",
       "      <td>latin_america</td>\n",
       "    </tr>\n",
       "    <tr>\n",
       "      <th>50</th>\n",
       "      <td>Dominican Republic</td>\n",
       "      <td>1</td>\n",
       "      <td>31.00</td>\n",
       "      <td>2</td>\n",
       "      <td>34</td>\n",
       "      <td>1.60</td>\n",
       "      <td>2009</td>\n",
       "      <td>latin_america</td>\n",
       "    </tr>\n",
       "    <tr>\n",
       "      <th>51</th>\n",
       "      <td>Georgia</td>\n",
       "      <td>1</td>\n",
       "      <td>27.30</td>\n",
       "      <td>2</td>\n",
       "      <td>23</td>\n",
       "      <td>2.57</td>\n",
       "      <td>1966</td>\n",
       "      <td>asia</td>\n",
       "    </tr>\n",
       "    <tr>\n",
       "      <th>52</th>\n",
       "      <td>Pakistan</td>\n",
       "      <td>1</td>\n",
       "      <td>27.10</td>\n",
       "      <td>1</td>\n",
       "      <td>26</td>\n",
       "      <td>0.00</td>\n",
       "      <td>2020</td>\n",
       "      <td>asia</td>\n",
       "    </tr>\n",
       "    <tr>\n",
       "      <th>53</th>\n",
       "      <td>Algeria</td>\n",
       "      <td>1</td>\n",
       "      <td>18.50</td>\n",
       "      <td>1</td>\n",
       "      <td>19</td>\n",
       "      <td>2.40</td>\n",
       "      <td>2011</td>\n",
       "      <td>africa</td>\n",
       "    </tr>\n",
       "    <tr>\n",
       "      <th>54</th>\n",
       "      <td>Indonesia</td>\n",
       "      <td>1</td>\n",
       "      <td>15.70</td>\n",
       "      <td>1</td>\n",
       "      <td>13</td>\n",
       "      <td>0.63</td>\n",
       "      <td>2019</td>\n",
       "      <td>asia</td>\n",
       "    </tr>\n",
       "    <tr>\n",
       "      <th>55</th>\n",
       "      <td>Armenia</td>\n",
       "      <td>1</td>\n",
       "      <td>13.40</td>\n",
       "      <td>1</td>\n",
       "      <td>10</td>\n",
       "      <td>0.80</td>\n",
       "      <td>1981</td>\n",
       "      <td>asia</td>\n",
       "    </tr>\n",
       "    <tr>\n",
       "      <th>56</th>\n",
       "      <td>Vietnam</td>\n",
       "      <td>1</td>\n",
       "      <td>13.10</td>\n",
       "      <td>1</td>\n",
       "      <td>12</td>\n",
       "      <td>0.00</td>\n",
       "      <td>2021</td>\n",
       "      <td>asia</td>\n",
       "    </tr>\n",
       "    <tr>\n",
       "      <th>57</th>\n",
       "      <td>Kazakhstan</td>\n",
       "      <td>1</td>\n",
       "      <td>11.30</td>\n",
       "      <td>1</td>\n",
       "      <td>9</td>\n",
       "      <td>0.61</td>\n",
       "      <td>2011</td>\n",
       "      <td>asia</td>\n",
       "    </tr>\n",
       "    <tr>\n",
       "      <th>58</th>\n",
       "      <td>Switzerland</td>\n",
       "      <td>1</td>\n",
       "      <td>5.90</td>\n",
       "      <td>2</td>\n",
       "      <td>48</td>\n",
       "      <td>5.55</td>\n",
       "      <td>2008</td>\n",
       "      <td>europe</td>\n",
       "    </tr>\n",
       "  </tbody>\n",
       "</table>\n",
       "</div>"
      ],
      "text/plain": [
       "                 country  systems   length  lines  stations  \\\n",
       "0                  China       43  8549.62    249      5375   \n",
       "1          United States       15  1344.70     86      1228   \n",
       "2            South Korea        8   871.20     34       728   \n",
       "3                  Japan       13   791.20     45       747   \n",
       "4                  India       15   731.75     31       585   \n",
       "5                 Russia        7   639.10     29       380   \n",
       "6                  Spain        3   458.30     28       539   \n",
       "7         United Kingdom        3   449.60     19       332   \n",
       "8                Germany        4   386.80     24       413   \n",
       "9                 France        6   362.00     27       488   \n",
       "10                Brazil        7   348.70     19       246   \n",
       "11                Turkey        5   272.86     17       236   \n",
       "12                Mexico        3   262.90     18       283   \n",
       "13                Taiwan        4   258.70     11       231   \n",
       "14                  Iran        5   255.00     17       238   \n",
       "15                Canada        3   227.10     11       196   \n",
       "16                 Italy        7   222.00     13       263   \n",
       "17             Singapore        1   216.00      8       187   \n",
       "18              Malaysia        1   142.50      7       104   \n",
       "19           Netherlands        2   141.80     10       109   \n",
       "20                 Chile        1   140.00      7       136   \n",
       "21              Thailand        2   139.20      4       114   \n",
       "22               Ukraine        3   112.80      7        88   \n",
       "23                Sweden        1   108.00      7       100   \n",
       "24  United Arab Emirates        1    89.50      3        53   \n",
       "25                 Egypt        1    89.40      3        74   \n",
       "26                Greece        1    88.70      3        68   \n",
       "27                Norway        1    85.00      5       101   \n",
       "28               Austria        1    83.30      5       109   \n",
       "29               Romania        1    78.50      5        62   \n",
       "30                 Qatar        1    76.00      3        37   \n",
       "31             Venezuela        1    67.20      4        46   \n",
       "32        Czech Republic        1    65.20      3        61   \n",
       "33            Uzbekistan        1    57.10      4        43   \n",
       "34             Argentina        1    56.70      7       104   \n",
       "35              Bulgaria        1    52.00      4        47   \n",
       "36              Portugal        1    44.20      4        56   \n",
       "37           Philippines        2    54.10      3        46   \n",
       "38               Belarus        1    40.80      3        33   \n",
       "39               Belgium        1    39.90      4        59   \n",
       "40               Hungary        1    38.20      4        48   \n",
       "41               Denmark        1    38.20      4        39   \n",
       "42            Azerbaijan        1    38.03      3        26   \n",
       "43                Panama        1    36.80      2        29   \n",
       "44             Australia        1    36.00      1        13   \n",
       "45                Poland        1    35.50      2        34   \n",
       "46               Finland        1    35.00      2        25   \n",
       "47                  Peru        1    34.60      1        26   \n",
       "48           North Korea        1    22.00      2        16   \n",
       "49              Colombia        1    31.30      2        27   \n",
       "50    Dominican Republic        1    31.00      2        34   \n",
       "51               Georgia        1    27.30      2        23   \n",
       "52              Pakistan        1    27.10      1        26   \n",
       "53               Algeria        1    18.50      1        19   \n",
       "54             Indonesia        1    15.70      1        13   \n",
       "55               Armenia        1    13.40      1        10   \n",
       "56               Vietnam        1    13.10      1        12   \n",
       "57            Kazakhstan        1    11.30      1         9   \n",
       "58           Switzerland        1     5.90      2        48   \n",
       "\n",
       "    annual_ridership_mill  inauguration         region  \n",
       "0                    2.10          1969           asia  \n",
       "1                    0.75          1892  north_america  \n",
       "2                    3.87          1974           asia  \n",
       "3                    8.19          1927           asia  \n",
       "4                    3.70          1984           asia  \n",
       "5                    3.51          1935           asia  \n",
       "6                    1.43          1919         europe  \n",
       "7                    0.77          1863         europe  \n",
       "8                    3.59          1902         europe  \n",
       "9                    3.70          1900         europe  \n",
       "10                   3.44          1974  latin_america  \n",
       "11                   1.94          1989           asia  \n",
       "12                   4.37          1969  latin_america  \n",
       "13                   3.26          1996           asia  \n",
       "14                   4.08          2000           asia  \n",
       "15                   1.78          1954  north_america  \n",
       "16                   3.73          1955         europe  \n",
       "17                   3.41          1987           asia  \n",
       "18                   0.79          1996           asia  \n",
       "19                   1.48          1968         europe  \n",
       "20                   1.88          1975  latin_america  \n",
       "21                   2.38          1999           asia  \n",
       "22                   3.64          1960         europe  \n",
       "23                   3.10          1950         europe  \n",
       "24                   1.26          2009           asia  \n",
       "25                   0.00          1987         africa  \n",
       "26                   2.92          1904         europe  \n",
       "27                   0.87          1966         europe  \n",
       "28                   5.51          1976         europe  \n",
       "29                   2.28          1979         europe  \n",
       "30                   0.00          2019           asia  \n",
       "31                   5.32          1983  latin_america  \n",
       "32                   3.85          1974         europe  \n",
       "33                   0.67          1977           asia  \n",
       "34                   1.30          1913  latin_america  \n",
       "35                   1.79          1998         europe  \n",
       "36                   1.93          1959         europe  \n",
       "37                   5.82          1984           asia  \n",
       "38                   5.37          1984         europe  \n",
       "39                   2.19          1976         europe  \n",
       "40                   6.09          1896         europe  \n",
       "41                   1.66          2002         europe  \n",
       "42                   1.89          1967           asia  \n",
       "43                   1.38          2014  latin_america  \n",
       "44                   0.35          2019      australia  \n",
       "45                   5.50          1995         europe  \n",
       "46                   1.72          1982         europe  \n",
       "47                   3.19          2011  latin_america  \n",
       "48                   1.63          1973           asia  \n",
       "49                   3.68          1995  latin_america  \n",
       "50                   1.60          2009  latin_america  \n",
       "51                   2.57          1966           asia  \n",
       "52                   0.00          2020           asia  \n",
       "53                   2.40          2011         africa  \n",
       "54                   0.63          2019           asia  \n",
       "55                   0.80          1981           asia  \n",
       "56                   0.00          2021           asia  \n",
       "57                   0.61          2011           asia  \n",
       "58                   5.55          2008         europe  "
      ]
     },
     "execution_count": 137,
     "metadata": {},
     "output_type": "execute_result"
    }
   ],
   "source": [
    "import pandas as pd \n",
    "Metro_total = pd.read_csv('metro_countries_total.csv')\n",
    "\n",
    "Metro_total"
   ]
  },
  {
   "cell_type": "markdown",
   "id": "b4ff44f3-ad50-4353-bb9a-6ee4a7227408",
   "metadata": {},
   "source": [
    "# 5. Average Fare vs Annual Ridership #"
   ]
  },
  {
   "cell_type": "code",
   "execution_count": 139,
   "id": "0bd84f5a-0fd1-466b-8a20-5f913169a1c2",
   "metadata": {
    "scrolled": true
   },
   "outputs": [
    {
     "name": "stdout",
     "output_type": "stream",
     "text": [
      "                           Fare  annual_ridership_mill\n",
      "Fare                   1.000000               0.033368\n",
      "annual_ridership_mill  0.033368               1.000000\n"
     ]
    },
    {
     "data": {
      "application/vnd.plotly.v1+json": {
       "config": {
        "plotlyServerURL": "https://plot.ly"
       },
       "data": [
        {
         "hovertemplate": "<b>%{hovertext}</b><br><br>region=asia<br>Average Fare (USD)=%{x}<br>Annual Ridership (millions)=%{y}<extra></extra>",
         "hovertext": [
          "China",
          "South Korea",
          "Japan",
          "India",
          "Russia",
          "Turkey",
          "Taiwan",
          "Iran",
          "Singapore",
          "Malaysia",
          "Thailand",
          "United Arab Emirates",
          "Qatar",
          "Uzbekistan",
          "Philippines",
          "Azerbaijan",
          "North Korea",
          "Georgia",
          "Pakistan",
          "Indonesia",
          "Armenia",
          "Vietnam",
          "Kazakhstan"
         ],
         "legendgroup": "asia",
         "marker": {
          "color": "#636efa",
          "symbol": "circle"
         },
         "mode": "markers",
         "name": "asia",
         "orientation": "v",
         "showlegend": true,
         "type": "scatter",
         "x": [
          0.41,
          1.07,
          1.47,
          0.35,
          0.35,
          0.58,
          0.77,
          0.24,
          1.48,
          0.67,
          0.87,
          1.36,
          0.55,
          0.16,
          0.26,
          0.29,
          0.00556,
          0.35,
          0.18,
          0.31,
          0.25,
          0.31,
          0.21
         ],
         "xaxis": "x",
         "y": [
          2.1,
          3.87,
          8.19,
          3.7,
          3.51,
          1.94,
          3.26,
          4.08,
          3.41,
          0.79,
          2.38,
          1.26,
          0,
          0.67,
          5.82,
          1.89,
          1.63,
          2.57,
          0,
          0.63,
          0.8,
          0,
          0.61
         ],
         "yaxis": "y"
        },
        {
         "hovertemplate": "<b>%{hovertext}</b><br><br>region=north_america<br>Average Fare (USD)=%{x}<br>Annual Ridership (millions)=%{y}<extra></extra>",
         "hovertext": [
          "United States",
          "Canada"
         ],
         "legendgroup": "north_america",
         "marker": {
          "color": "#EF553B",
          "symbol": "circle"
         },
         "mode": "markers",
         "name": "north_america",
         "orientation": "v",
         "showlegend": true,
         "type": "scatter",
         "x": [
          2.5,
          2.49
         ],
         "xaxis": "x",
         "y": [
          0.75,
          1.78
         ],
         "yaxis": "y"
        },
        {
         "hovertemplate": "<b>%{hovertext}</b><br><br>region=europe<br>Average Fare (USD)=%{x}<br>Annual Ridership (millions)=%{y}<extra></extra>",
         "hovertext": [
          "Spain",
          "United Kingdom",
          "Germany",
          "France",
          "Italy",
          "Netherlands",
          "Ukraine",
          "Sweden",
          "Greece",
          "Norway",
          "Austria",
          "Romania",
          "Czech Republic",
          "Bulgaria",
          "Portugal",
          "Belarus",
          "Belgium",
          "Hungary",
          "Denmark",
          "Poland",
          "Finland",
          "Switzerland"
         ],
         "legendgroup": "europe",
         "marker": {
          "color": "#00cc96",
          "symbol": "circle"
         },
         "mode": "markers",
         "name": "europe",
         "orientation": "v",
         "showlegend": true,
         "type": "scatter",
         "x": [
          1.57,
          2.78,
          3.15,
          1.89,
          1.68,
          3.57,
          0.33,
          3.27,
          1.26,
          3.78,
          2.62,
          0.63,
          1.16,
          0.86,
          2.1,
          0.26,
          2.62,
          1.14,
          3.38,
          1.08,
          3.15,
          3.94
         ],
         "xaxis": "x",
         "y": [
          1.43,
          0.77,
          3.59,
          3.7,
          3.73,
          1.48,
          3.64,
          3.1,
          2.92,
          0.87,
          5.51,
          2.28,
          3.85,
          1.79,
          1.93,
          5.37,
          2.19,
          6.09,
          1.66,
          5.5,
          1.72,
          5.55
         ],
         "yaxis": "y"
        },
        {
         "hovertemplate": "<b>%{hovertext}</b><br><br>region=latin_america<br>Average Fare (USD)=%{x}<br>Annual Ridership (millions)=%{y}<extra></extra>",
         "hovertext": [
          "Brazil",
          "Mexico",
          "Chile",
          "Venezuela",
          "Argentina",
          "Panama",
          "Peru",
          "Colombia",
          "Dominican Republic"
         ],
         "legendgroup": "latin_america",
         "marker": {
          "color": "#ab63fa",
          "symbol": "circle"
         },
         "mode": "markers",
         "name": "latin_america",
         "orientation": "v",
         "showlegend": true,
         "type": "scatter",
         "visible": "legendonly",
         "x": [
          0.83,
          0.54,
          0.77,
          0.5,
          0.5,
          0.5,
          0.53,
          0.66,
          0.249
         ],
         "xaxis": "x",
         "y": [
          3.44,
          4.37,
          1.88,
          5.32,
          1.3,
          1.38,
          3.19,
          3.68,
          1.6
         ],
         "yaxis": "y"
        },
        {
         "hovertemplate": "<b>%{hovertext}</b><br><br>region=africa<br>Average Fare (USD)=%{x}<br>Annual Ridership (millions)=%{y}<extra></extra>",
         "hovertext": [
          "Egypt",
          "Algeria"
         ],
         "legendgroup": "africa",
         "marker": {
          "color": "#FFA15A",
          "symbol": "circle"
         },
         "mode": "markers",
         "name": "africa",
         "orientation": "v",
         "showlegend": true,
         "type": "scatter",
         "x": [
          0.22,
          0.21
         ],
         "xaxis": "x",
         "y": [
          0,
          2.4
         ],
         "yaxis": "y"
        },
        {
         "hovertemplate": "<b>%{hovertext}</b><br><br>region=australia<br>Average Fare (USD)=%{x}<br>Annual Ridership (millions)=%{y}<extra></extra>",
         "hovertext": [
          "Australia"
         ],
         "legendgroup": "australia",
         "marker": {
          "color": "#19d3f3",
          "symbol": "circle"
         },
         "mode": "markers",
         "name": "australia",
         "orientation": "v",
         "showlegend": true,
         "type": "scatter",
         "x": [
          3.05
         ],
         "xaxis": "x",
         "y": [
          0.35
         ],
         "yaxis": "y"
        }
       ],
       "layout": {
        "autosize": true,
        "legend": {
         "title": {
          "text": "region"
         },
         "tracegroupgap": 0
        },
        "template": {
         "data": {
          "bar": [
           {
            "error_x": {
             "color": "#2a3f5f"
            },
            "error_y": {
             "color": "#2a3f5f"
            },
            "marker": {
             "line": {
              "color": "#E5ECF6",
              "width": 0.5
             },
             "pattern": {
              "fillmode": "overlay",
              "size": 10,
              "solidity": 0.2
             }
            },
            "type": "bar"
           }
          ],
          "barpolar": [
           {
            "marker": {
             "line": {
              "color": "#E5ECF6",
              "width": 0.5
             },
             "pattern": {
              "fillmode": "overlay",
              "size": 10,
              "solidity": 0.2
             }
            },
            "type": "barpolar"
           }
          ],
          "carpet": [
           {
            "aaxis": {
             "endlinecolor": "#2a3f5f",
             "gridcolor": "white",
             "linecolor": "white",
             "minorgridcolor": "white",
             "startlinecolor": "#2a3f5f"
            },
            "baxis": {
             "endlinecolor": "#2a3f5f",
             "gridcolor": "white",
             "linecolor": "white",
             "minorgridcolor": "white",
             "startlinecolor": "#2a3f5f"
            },
            "type": "carpet"
           }
          ],
          "choropleth": [
           {
            "colorbar": {
             "outlinewidth": 0,
             "ticks": ""
            },
            "type": "choropleth"
           }
          ],
          "contour": [
           {
            "colorbar": {
             "outlinewidth": 0,
             "ticks": ""
            },
            "colorscale": [
             [
              0,
              "#0d0887"
             ],
             [
              0.1111111111111111,
              "#46039f"
             ],
             [
              0.2222222222222222,
              "#7201a8"
             ],
             [
              0.3333333333333333,
              "#9c179e"
             ],
             [
              0.4444444444444444,
              "#bd3786"
             ],
             [
              0.5555555555555556,
              "#d8576b"
             ],
             [
              0.6666666666666666,
              "#ed7953"
             ],
             [
              0.7777777777777778,
              "#fb9f3a"
             ],
             [
              0.8888888888888888,
              "#fdca26"
             ],
             [
              1,
              "#f0f921"
             ]
            ],
            "type": "contour"
           }
          ],
          "contourcarpet": [
           {
            "colorbar": {
             "outlinewidth": 0,
             "ticks": ""
            },
            "type": "contourcarpet"
           }
          ],
          "heatmap": [
           {
            "colorbar": {
             "outlinewidth": 0,
             "ticks": ""
            },
            "colorscale": [
             [
              0,
              "#0d0887"
             ],
             [
              0.1111111111111111,
              "#46039f"
             ],
             [
              0.2222222222222222,
              "#7201a8"
             ],
             [
              0.3333333333333333,
              "#9c179e"
             ],
             [
              0.4444444444444444,
              "#bd3786"
             ],
             [
              0.5555555555555556,
              "#d8576b"
             ],
             [
              0.6666666666666666,
              "#ed7953"
             ],
             [
              0.7777777777777778,
              "#fb9f3a"
             ],
             [
              0.8888888888888888,
              "#fdca26"
             ],
             [
              1,
              "#f0f921"
             ]
            ],
            "type": "heatmap"
           }
          ],
          "heatmapgl": [
           {
            "colorbar": {
             "outlinewidth": 0,
             "ticks": ""
            },
            "colorscale": [
             [
              0,
              "#0d0887"
             ],
             [
              0.1111111111111111,
              "#46039f"
             ],
             [
              0.2222222222222222,
              "#7201a8"
             ],
             [
              0.3333333333333333,
              "#9c179e"
             ],
             [
              0.4444444444444444,
              "#bd3786"
             ],
             [
              0.5555555555555556,
              "#d8576b"
             ],
             [
              0.6666666666666666,
              "#ed7953"
             ],
             [
              0.7777777777777778,
              "#fb9f3a"
             ],
             [
              0.8888888888888888,
              "#fdca26"
             ],
             [
              1,
              "#f0f921"
             ]
            ],
            "type": "heatmapgl"
           }
          ],
          "histogram": [
           {
            "marker": {
             "pattern": {
              "fillmode": "overlay",
              "size": 10,
              "solidity": 0.2
             }
            },
            "type": "histogram"
           }
          ],
          "histogram2d": [
           {
            "colorbar": {
             "outlinewidth": 0,
             "ticks": ""
            },
            "colorscale": [
             [
              0,
              "#0d0887"
             ],
             [
              0.1111111111111111,
              "#46039f"
             ],
             [
              0.2222222222222222,
              "#7201a8"
             ],
             [
              0.3333333333333333,
              "#9c179e"
             ],
             [
              0.4444444444444444,
              "#bd3786"
             ],
             [
              0.5555555555555556,
              "#d8576b"
             ],
             [
              0.6666666666666666,
              "#ed7953"
             ],
             [
              0.7777777777777778,
              "#fb9f3a"
             ],
             [
              0.8888888888888888,
              "#fdca26"
             ],
             [
              1,
              "#f0f921"
             ]
            ],
            "type": "histogram2d"
           }
          ],
          "histogram2dcontour": [
           {
            "colorbar": {
             "outlinewidth": 0,
             "ticks": ""
            },
            "colorscale": [
             [
              0,
              "#0d0887"
             ],
             [
              0.1111111111111111,
              "#46039f"
             ],
             [
              0.2222222222222222,
              "#7201a8"
             ],
             [
              0.3333333333333333,
              "#9c179e"
             ],
             [
              0.4444444444444444,
              "#bd3786"
             ],
             [
              0.5555555555555556,
              "#d8576b"
             ],
             [
              0.6666666666666666,
              "#ed7953"
             ],
             [
              0.7777777777777778,
              "#fb9f3a"
             ],
             [
              0.8888888888888888,
              "#fdca26"
             ],
             [
              1,
              "#f0f921"
             ]
            ],
            "type": "histogram2dcontour"
           }
          ],
          "mesh3d": [
           {
            "colorbar": {
             "outlinewidth": 0,
             "ticks": ""
            },
            "type": "mesh3d"
           }
          ],
          "parcoords": [
           {
            "line": {
             "colorbar": {
              "outlinewidth": 0,
              "ticks": ""
             }
            },
            "type": "parcoords"
           }
          ],
          "pie": [
           {
            "automargin": true,
            "type": "pie"
           }
          ],
          "scatter": [
           {
            "fillpattern": {
             "fillmode": "overlay",
             "size": 10,
             "solidity": 0.2
            },
            "type": "scatter"
           }
          ],
          "scatter3d": [
           {
            "line": {
             "colorbar": {
              "outlinewidth": 0,
              "ticks": ""
             }
            },
            "marker": {
             "colorbar": {
              "outlinewidth": 0,
              "ticks": ""
             }
            },
            "type": "scatter3d"
           }
          ],
          "scattercarpet": [
           {
            "marker": {
             "colorbar": {
              "outlinewidth": 0,
              "ticks": ""
             }
            },
            "type": "scattercarpet"
           }
          ],
          "scattergeo": [
           {
            "marker": {
             "colorbar": {
              "outlinewidth": 0,
              "ticks": ""
             }
            },
            "type": "scattergeo"
           }
          ],
          "scattergl": [
           {
            "marker": {
             "colorbar": {
              "outlinewidth": 0,
              "ticks": ""
             }
            },
            "type": "scattergl"
           }
          ],
          "scattermapbox": [
           {
            "marker": {
             "colorbar": {
              "outlinewidth": 0,
              "ticks": ""
             }
            },
            "type": "scattermapbox"
           }
          ],
          "scatterpolar": [
           {
            "marker": {
             "colorbar": {
              "outlinewidth": 0,
              "ticks": ""
             }
            },
            "type": "scatterpolar"
           }
          ],
          "scatterpolargl": [
           {
            "marker": {
             "colorbar": {
              "outlinewidth": 0,
              "ticks": ""
             }
            },
            "type": "scatterpolargl"
           }
          ],
          "scatterternary": [
           {
            "marker": {
             "colorbar": {
              "outlinewidth": 0,
              "ticks": ""
             }
            },
            "type": "scatterternary"
           }
          ],
          "surface": [
           {
            "colorbar": {
             "outlinewidth": 0,
             "ticks": ""
            },
            "colorscale": [
             [
              0,
              "#0d0887"
             ],
             [
              0.1111111111111111,
              "#46039f"
             ],
             [
              0.2222222222222222,
              "#7201a8"
             ],
             [
              0.3333333333333333,
              "#9c179e"
             ],
             [
              0.4444444444444444,
              "#bd3786"
             ],
             [
              0.5555555555555556,
              "#d8576b"
             ],
             [
              0.6666666666666666,
              "#ed7953"
             ],
             [
              0.7777777777777778,
              "#fb9f3a"
             ],
             [
              0.8888888888888888,
              "#fdca26"
             ],
             [
              1,
              "#f0f921"
             ]
            ],
            "type": "surface"
           }
          ],
          "table": [
           {
            "cells": {
             "fill": {
              "color": "#EBF0F8"
             },
             "line": {
              "color": "white"
             }
            },
            "header": {
             "fill": {
              "color": "#C8D4E3"
             },
             "line": {
              "color": "white"
             }
            },
            "type": "table"
           }
          ]
         },
         "layout": {
          "annotationdefaults": {
           "arrowcolor": "#2a3f5f",
           "arrowhead": 0,
           "arrowwidth": 1
          },
          "autotypenumbers": "strict",
          "coloraxis": {
           "colorbar": {
            "outlinewidth": 0,
            "ticks": ""
           }
          },
          "colorscale": {
           "diverging": [
            [
             0,
             "#8e0152"
            ],
            [
             0.1,
             "#c51b7d"
            ],
            [
             0.2,
             "#de77ae"
            ],
            [
             0.3,
             "#f1b6da"
            ],
            [
             0.4,
             "#fde0ef"
            ],
            [
             0.5,
             "#f7f7f7"
            ],
            [
             0.6,
             "#e6f5d0"
            ],
            [
             0.7,
             "#b8e186"
            ],
            [
             0.8,
             "#7fbc41"
            ],
            [
             0.9,
             "#4d9221"
            ],
            [
             1,
             "#276419"
            ]
           ],
           "sequential": [
            [
             0,
             "#0d0887"
            ],
            [
             0.1111111111111111,
             "#46039f"
            ],
            [
             0.2222222222222222,
             "#7201a8"
            ],
            [
             0.3333333333333333,
             "#9c179e"
            ],
            [
             0.4444444444444444,
             "#bd3786"
            ],
            [
             0.5555555555555556,
             "#d8576b"
            ],
            [
             0.6666666666666666,
             "#ed7953"
            ],
            [
             0.7777777777777778,
             "#fb9f3a"
            ],
            [
             0.8888888888888888,
             "#fdca26"
            ],
            [
             1,
             "#f0f921"
            ]
           ],
           "sequentialminus": [
            [
             0,
             "#0d0887"
            ],
            [
             0.1111111111111111,
             "#46039f"
            ],
            [
             0.2222222222222222,
             "#7201a8"
            ],
            [
             0.3333333333333333,
             "#9c179e"
            ],
            [
             0.4444444444444444,
             "#bd3786"
            ],
            [
             0.5555555555555556,
             "#d8576b"
            ],
            [
             0.6666666666666666,
             "#ed7953"
            ],
            [
             0.7777777777777778,
             "#fb9f3a"
            ],
            [
             0.8888888888888888,
             "#fdca26"
            ],
            [
             1,
             "#f0f921"
            ]
           ]
          },
          "colorway": [
           "#636efa",
           "#EF553B",
           "#00cc96",
           "#ab63fa",
           "#FFA15A",
           "#19d3f3",
           "#FF6692",
           "#B6E880",
           "#FF97FF",
           "#FECB52"
          ],
          "font": {
           "color": "#2a3f5f"
          },
          "geo": {
           "bgcolor": "white",
           "lakecolor": "white",
           "landcolor": "#E5ECF6",
           "showlakes": true,
           "showland": true,
           "subunitcolor": "white"
          },
          "hoverlabel": {
           "align": "left"
          },
          "hovermode": "closest",
          "mapbox": {
           "style": "light"
          },
          "paper_bgcolor": "white",
          "plot_bgcolor": "#E5ECF6",
          "polar": {
           "angularaxis": {
            "gridcolor": "white",
            "linecolor": "white",
            "ticks": ""
           },
           "bgcolor": "#E5ECF6",
           "radialaxis": {
            "gridcolor": "white",
            "linecolor": "white",
            "ticks": ""
           }
          },
          "scene": {
           "xaxis": {
            "backgroundcolor": "#E5ECF6",
            "gridcolor": "white",
            "gridwidth": 2,
            "linecolor": "white",
            "showbackground": true,
            "ticks": "",
            "zerolinecolor": "white"
           },
           "yaxis": {
            "backgroundcolor": "#E5ECF6",
            "gridcolor": "white",
            "gridwidth": 2,
            "linecolor": "white",
            "showbackground": true,
            "ticks": "",
            "zerolinecolor": "white"
           },
           "zaxis": {
            "backgroundcolor": "#E5ECF6",
            "gridcolor": "white",
            "gridwidth": 2,
            "linecolor": "white",
            "showbackground": true,
            "ticks": "",
            "zerolinecolor": "white"
           }
          },
          "shapedefaults": {
           "line": {
            "color": "#2a3f5f"
           }
          },
          "ternary": {
           "aaxis": {
            "gridcolor": "white",
            "linecolor": "white",
            "ticks": ""
           },
           "baxis": {
            "gridcolor": "white",
            "linecolor": "white",
            "ticks": ""
           },
           "bgcolor": "#E5ECF6",
           "caxis": {
            "gridcolor": "white",
            "linecolor": "white",
            "ticks": ""
           }
          },
          "title": {
           "x": 0.05
          },
          "xaxis": {
           "automargin": true,
           "gridcolor": "white",
           "linecolor": "white",
           "ticks": "",
           "title": {
            "standoff": 15
           },
           "zerolinecolor": "white",
           "zerolinewidth": 2
          },
          "yaxis": {
           "automargin": true,
           "gridcolor": "white",
           "linecolor": "white",
           "ticks": "",
           "title": {
            "standoff": 15
           },
           "zerolinecolor": "white",
           "zerolinewidth": 2
          }
         }
        },
        "title": {
         "text": "Average Fare vs Annual Ridership"
        },
        "xaxis": {
         "anchor": "y",
         "autorange": true,
         "domain": [
          0,
          1
         ],
         "range": [
          -0.25859547956630524,
          4.204155479566305
         ],
         "title": {
          "text": "Average Fare (USD)"
         },
         "type": "linear"
        },
        "yaxis": {
         "anchor": "x",
         "autorange": true,
         "domain": [
          0,
          1
         ],
         "range": [
          -0.6758737864077669,
          8.865873786407766
         ],
         "title": {
          "text": "Annual Ridership (millions)"
         },
         "type": "linear"
        }
       }
      },
      "image/png": "[encoded data removed]",
      "text/html": [
       "<div>                            <div id=\"85f3d37a-f1ef-41cc-8598-d6716641c048\" class=\"plotly-graph-div\" style=\"height:525px; width:100%;\"></div>            <script type=\"text/javascript\">                require([\"plotly\"], function(Plotly) {                    window.PLOTLYENV=window.PLOTLYENV || {};                                    if (document.getElementById(\"85f3d37a-f1ef-41cc-8598-d6716641c048\")) {                    Plotly.newPlot(                        \"85f3d37a-f1ef-41cc-8598-d6716641c048\",                        [{\"hovertemplate\":\"<b>%{hovertext}</b><br><br>region=asia<br>Average Fare (USD)=%{x}<br>Annual Ridership (millions)=%{y}<extra></extra>\",\"hovertext\":[\"China\",\"South Korea\",\"Japan\",\"India\",\"Russia\",\"Turkey\",\"Taiwan\",\"Iran\",\"Singapore\",\"Malaysia\",\"Thailand\",\"United Arab Emirates\",\"Qatar\",\"Uzbekistan\",\"Philippines\",\"Azerbaijan\",\"North Korea\",\"Georgia\",\"Pakistan\",\"Indonesia\",\"Armenia\",\"Vietnam\",\"Kazakhstan\"],\"legendgroup\":\"asia\",\"marker\":{\"color\":\"#636efa\",\"symbol\":\"circle\"},\"mode\":\"markers\",\"name\":\"asia\",\"orientation\":\"v\",\"showlegend\":true,\"x\":[0.41,1.07,1.47,0.35,0.35,0.58,0.77,0.24,1.48,0.67,0.87,1.36,0.55,0.16,0.26,0.29,0.00556,0.35,0.18,0.31,0.25,0.31,0.21],\"xaxis\":\"x\",\"y\":[2.1,3.87,8.19,3.7,3.51,1.94,3.26,4.08,3.41,0.79,2.38,1.26,0.0,0.67,5.82,1.89,1.63,2.57,0.0,0.63,0.8,0.0,0.61],\"yaxis\":\"y\",\"type\":\"scatter\"},{\"hovertemplate\":\"<b>%{hovertext}</b><br><br>region=north_america<br>Average Fare (USD)=%{x}<br>Annual Ridership (millions)=%{y}<extra></extra>\",\"hovertext\":[\"United States\",\"Canada\"],\"legendgroup\":\"north_america\",\"marker\":{\"color\":\"#EF553B\",\"symbol\":\"circle\"},\"mode\":\"markers\",\"name\":\"north_america\",\"orientation\":\"v\",\"showlegend\":true,\"x\":[2.5,2.49],\"xaxis\":\"x\",\"y\":[0.75,1.78],\"yaxis\":\"y\",\"type\":\"scatter\"},{\"hovertemplate\":\"<b>%{hovertext}</b><br><br>region=europe<br>Average Fare (USD)=%{x}<br>Annual Ridership (millions)=%{y}<extra></extra>\",\"hovertext\":[\"Spain\",\"United Kingdom\",\"Germany\",\"France\",\"Italy\",\"Netherlands\",\"Ukraine\",\"Sweden\",\"Greece\",\"Norway\",\"Austria\",\"Romania\",\"Czech Republic\",\"Bulgaria\",\"Portugal\",\"Belarus\",\"Belgium\",\"Hungary\",\"Denmark\",\"Poland\",\"Finland\",\"Switzerland\"],\"legendgroup\":\"europe\",\"marker\":{\"color\":\"#00cc96\",\"symbol\":\"circle\"},\"mode\":\"markers\",\"name\":\"europe\",\"orientation\":\"v\",\"showlegend\":true,\"x\":[1.57,2.78,3.15,1.89,1.68,3.57,0.33,3.27,1.26,3.78,2.62,0.63,1.16,0.86,2.1,0.26,2.62,1.14,3.38,1.08,3.15,3.94],\"xaxis\":\"x\",\"y\":[1.43,0.77,3.59,3.7,3.73,1.48,3.64,3.1,2.92,0.87,5.51,2.28,3.85,1.79,1.93,5.37,2.19,6.09,1.66,5.5,1.72,5.55],\"yaxis\":\"y\",\"type\":\"scatter\"},{\"hovertemplate\":\"<b>%{hovertext}</b><br><br>region=latin_america<br>Average Fare (USD)=%{x}<br>Annual Ridership (millions)=%{y}<extra></extra>\",\"hovertext\":[\"Brazil\",\"Mexico\",\"Chile\",\"Venezuela\",\"Argentina\",\"Panama\",\"Peru\",\"Colombia\",\"Dominican Republic\"],\"legendgroup\":\"latin_america\",\"marker\":{\"color\":\"#ab63fa\",\"symbol\":\"circle\"},\"mode\":\"markers\",\"name\":\"latin_america\",\"orientation\":\"v\",\"showlegend\":true,\"x\":[0.83,0.54,0.77,0.5,0.5,0.5,0.53,0.66,0.249],\"xaxis\":\"x\",\"y\":[3.44,4.37,1.88,5.32,1.3,1.38,3.19,3.68,1.6],\"yaxis\":\"y\",\"type\":\"scatter\"},{\"hovertemplate\":\"<b>%{hovertext}</b><br><br>region=africa<br>Average Fare (USD)=%{x}<br>Annual Ridership (millions)=%{y}<extra></extra>\",\"hovertext\":[\"Egypt\",\"Algeria\"],\"legendgroup\":\"africa\",\"marker\":{\"color\":\"#FFA15A\",\"symbol\":\"circle\"},\"mode\":\"markers\",\"name\":\"africa\",\"orientation\":\"v\",\"showlegend\":true,\"x\":[0.22,0.21],\"xaxis\":\"x\",\"y\":[0.0,2.4],\"yaxis\":\"y\",\"type\":\"scatter\"},{\"hovertemplate\":\"<b>%{hovertext}</b><br><br>region=australia<br>Average Fare (USD)=%{x}<br>Annual Ridership (millions)=%{y}<extra></extra>\",\"hovertext\":[\"Australia\"],\"legendgroup\":\"australia\",\"marker\":{\"color\":\"#19d3f3\",\"symbol\":\"circle\"},\"mode\":\"markers\",\"name\":\"australia\",\"orientation\":\"v\",\"showlegend\":true,\"x\":[3.05],\"xaxis\":\"x\",\"y\":[0.35],\"yaxis\":\"y\",\"type\":\"scatter\"}],                        {\"template\":{\"data\":{\"histogram2dcontour\":[{\"type\":\"histogram2dcontour\",\"colorbar\":{\"outlinewidth\":0,\"ticks\":\"\"},\"colorscale\":[[0.0,\"#0d0887\"],[0.1111111111111111,\"#46039f\"],[0.2222222222222222,\"#7201a8\"],[0.3333333333333333,\"#9c179e\"],[0.4444444444444444,\"#bd3786\"],[0.5555555555555556,\"#d8576b\"],[0.6666666666666666,\"#ed7953\"],[0.7777777777777778,\"#fb9f3a\"],[0.8888888888888888,\"#fdca26\"],[1.0,\"#f0f921\"]]}],\"choropleth\":[{\"type\":\"choropleth\",\"colorbar\":{\"outlinewidth\":0,\"ticks\":\"\"}}],\"histogram2d\":[{\"type\":\"histogram2d\",\"colorbar\":{\"outlinewidth\":0,\"ticks\":\"\"},\"colorscale\":[[0.0,\"#0d0887\"],[0.1111111111111111,\"#46039f\"],[0.2222222222222222,\"#7201a8\"],[0.3333333333333333,\"#9c179e\"],[0.4444444444444444,\"#bd3786\"],[0.5555555555555556,\"#d8576b\"],[0.6666666666666666,\"#ed7953\"],[0.7777777777777778,\"#fb9f3a\"],[0.8888888888888888,\"#fdca26\"],[1.0,\"#f0f921\"]]}],\"heatmap\":[{\"type\":\"heatmap\",\"colorbar\":{\"outlinewidth\":0,\"ticks\":\"\"},\"colorscale\":[[0.0,\"#0d0887\"],[0.1111111111111111,\"#46039f\"],[0.2222222222222222,\"#7201a8\"],[0.3333333333333333,\"#9c179e\"],[0.4444444444444444,\"#bd3786\"],[0.5555555555555556,\"#d8576b\"],[0.6666666666666666,\"#ed7953\"],[0.7777777777777778,\"#fb9f3a\"],[0.8888888888888888,\"#fdca26\"],[1.0,\"#f0f921\"]]}],\"heatmapgl\":[{\"type\":\"heatmapgl\",\"colorbar\":{\"outlinewidth\":0,\"ticks\":\"\"},\"colorscale\":[[0.0,\"#0d0887\"],[0.1111111111111111,\"#46039f\"],[0.2222222222222222,\"#7201a8\"],[0.3333333333333333,\"#9c179e\"],[0.4444444444444444,\"#bd3786\"],[0.5555555555555556,\"#d8576b\"],[0.6666666666666666,\"#ed7953\"],[0.7777777777777778,\"#fb9f3a\"],[0.8888888888888888,\"#fdca26\"],[1.0,\"#f0f921\"]]}],\"contourcarpet\":[{\"type\":\"contourcarpet\",\"colorbar\":{\"outlinewidth\":0,\"ticks\":\"\"}}],\"contour\":[{\"type\":\"contour\",\"colorbar\":{\"outlinewidth\":0,\"ticks\":\"\"},\"colorscale\":[[0.0,\"#0d0887\"],[0.1111111111111111,\"#46039f\"],[0.2222222222222222,\"#7201a8\"],[0.3333333333333333,\"#9c179e\"],[0.4444444444444444,\"#bd3786\"],[0.5555555555555556,\"#d8576b\"],[0.6666666666666666,\"#ed7953\"],[0.7777777777777778,\"#fb9f3a\"],[0.8888888888888888,\"#fdca26\"],[1.0,\"#f0f921\"]]}],\"surface\":[{\"type\":\"surface\",\"colorbar\":{\"outlinewidth\":0,\"ticks\":\"\"},\"colorscale\":[[0.0,\"#0d0887\"],[0.1111111111111111,\"#46039f\"],[0.2222222222222222,\"#7201a8\"],[0.3333333333333333,\"#9c179e\"],[0.4444444444444444,\"#bd3786\"],[0.5555555555555556,\"#d8576b\"],[0.6666666666666666,\"#ed7953\"],[0.7777777777777778,\"#fb9f3a\"],[0.8888888888888888,\"#fdca26\"],[1.0,\"#f0f921\"]]}],\"mesh3d\":[{\"type\":\"mesh3d\",\"colorbar\":{\"outlinewidth\":0,\"ticks\":\"\"}}],\"scatter\":[{\"fillpattern\":{\"fillmode\":\"overlay\",\"size\":10,\"solidity\":0.2},\"type\":\"scatter\"}],\"parcoords\":[{\"type\":\"parcoords\",\"line\":{\"colorbar\":{\"outlinewidth\":0,\"ticks\":\"\"}}}],\"scatterpolargl\":[{\"type\":\"scatterpolargl\",\"marker\":{\"colorbar\":{\"outlinewidth\":0,\"ticks\":\"\"}}}],\"bar\":[{\"error_x\":{\"color\":\"#2a3f5f\"},\"error_y\":{\"color\":\"#2a3f5f\"},\"marker\":{\"line\":{\"color\":\"#E5ECF6\",\"width\":0.5},\"pattern\":{\"fillmode\":\"overlay\",\"size\":10,\"solidity\":0.2}},\"type\":\"bar\"}],\"scattergeo\":[{\"type\":\"scattergeo\",\"marker\":{\"colorbar\":{\"outlinewidth\":0,\"ticks\":\"\"}}}],\"scatterpolar\":[{\"type\":\"scatterpolar\",\"marker\":{\"colorbar\":{\"outlinewidth\":0,\"ticks\":\"\"}}}],\"histogram\":[{\"marker\":{\"pattern\":{\"fillmode\":\"overlay\",\"size\":10,\"solidity\":0.2}},\"type\":\"histogram\"}],\"scattergl\":[{\"type\":\"scattergl\",\"marker\":{\"colorbar\":{\"outlinewidth\":0,\"ticks\":\"\"}}}],\"scatter3d\":[{\"type\":\"scatter3d\",\"line\":{\"colorbar\":{\"outlinewidth\":0,\"ticks\":\"\"}},\"marker\":{\"colorbar\":{\"outlinewidth\":0,\"ticks\":\"\"}}}],\"scattermapbox\":[{\"type\":\"scattermapbox\",\"marker\":{\"colorbar\":{\"outlinewidth\":0,\"ticks\":\"\"}}}],\"scatterternary\":[{\"type\":\"scatterternary\",\"marker\":{\"colorbar\":{\"outlinewidth\":0,\"ticks\":\"\"}}}],\"scattercarpet\":[{\"type\":\"scattercarpet\",\"marker\":{\"colorbar\":{\"outlinewidth\":0,\"ticks\":\"\"}}}],\"carpet\":[{\"aaxis\":{\"endlinecolor\":\"#2a3f5f\",\"gridcolor\":\"white\",\"linecolor\":\"white\",\"minorgridcolor\":\"white\",\"startlinecolor\":\"#2a3f5f\"},\"baxis\":{\"endlinecolor\":\"#2a3f5f\",\"gridcolor\":\"white\",\"linecolor\":\"white\",\"minorgridcolor\":\"white\",\"startlinecolor\":\"#2a3f5f\"},\"type\":\"carpet\"}],\"table\":[{\"cells\":{\"fill\":{\"color\":\"#EBF0F8\"},\"line\":{\"color\":\"white\"}},\"header\":{\"fill\":{\"color\":\"#C8D4E3\"},\"line\":{\"color\":\"white\"}},\"type\":\"table\"}],\"barpolar\":[{\"marker\":{\"line\":{\"color\":\"#E5ECF6\",\"width\":0.5},\"pattern\":{\"fillmode\":\"overlay\",\"size\":10,\"solidity\":0.2}},\"type\":\"barpolar\"}],\"pie\":[{\"automargin\":true,\"type\":\"pie\"}]},\"layout\":{\"autotypenumbers\":\"strict\",\"colorway\":[\"#636efa\",\"#EF553B\",\"#00cc96\",\"#ab63fa\",\"#FFA15A\",\"#19d3f3\",\"#FF6692\",\"#B6E880\",\"#FF97FF\",\"#FECB52\"],\"font\":{\"color\":\"#2a3f5f\"},\"hovermode\":\"closest\",\"hoverlabel\":{\"align\":\"left\"},\"paper_bgcolor\":\"white\",\"plot_bgcolor\":\"#E5ECF6\",\"polar\":{\"bgcolor\":\"#E5ECF6\",\"angularaxis\":{\"gridcolor\":\"white\",\"linecolor\":\"white\",\"ticks\":\"\"},\"radialaxis\":{\"gridcolor\":\"white\",\"linecolor\":\"white\",\"ticks\":\"\"}},\"ternary\":{\"bgcolor\":\"#E5ECF6\",\"aaxis\":{\"gridcolor\":\"white\",\"linecolor\":\"white\",\"ticks\":\"\"},\"baxis\":{\"gridcolor\":\"white\",\"linecolor\":\"white\",\"ticks\":\"\"},\"caxis\":{\"gridcolor\":\"white\",\"linecolor\":\"white\",\"ticks\":\"\"}},\"coloraxis\":{\"colorbar\":{\"outlinewidth\":0,\"ticks\":\"\"}},\"colorscale\":{\"sequential\":[[0.0,\"#0d0887\"],[0.1111111111111111,\"#46039f\"],[0.2222222222222222,\"#7201a8\"],[0.3333333333333333,\"#9c179e\"],[0.4444444444444444,\"#bd3786\"],[0.5555555555555556,\"#d8576b\"],[0.6666666666666666,\"#ed7953\"],[0.7777777777777778,\"#fb9f3a\"],[0.8888888888888888,\"#fdca26\"],[1.0,\"#f0f921\"]],\"sequentialminus\":[[0.0,\"#0d0887\"],[0.1111111111111111,\"#46039f\"],[0.2222222222222222,\"#7201a8\"],[0.3333333333333333,\"#9c179e\"],[0.4444444444444444,\"#bd3786\"],[0.5555555555555556,\"#d8576b\"],[0.6666666666666666,\"#ed7953\"],[0.7777777777777778,\"#fb9f3a\"],[0.8888888888888888,\"#fdca26\"],[1.0,\"#f0f921\"]],\"diverging\":[[0,\"#8e0152\"],[0.1,\"#c51b7d\"],[0.2,\"#de77ae\"],[0.3,\"#f1b6da\"],[0.4,\"#fde0ef\"],[0.5,\"#f7f7f7\"],[0.6,\"#e6f5d0\"],[0.7,\"#b8e186\"],[0.8,\"#7fbc41\"],[0.9,\"#4d9221\"],[1,\"#276419\"]]},\"xaxis\":{\"gridcolor\":\"white\",\"linecolor\":\"white\",\"ticks\":\"\",\"title\":{\"standoff\":15},\"zerolinecolor\":\"white\",\"automargin\":true,\"zerolinewidth\":2},\"yaxis\":{\"gridcolor\":\"white\",\"linecolor\":\"white\",\"ticks\":\"\",\"title\":{\"standoff\":15},\"zerolinecolor\":\"white\",\"automargin\":true,\"zerolinewidth\":2},\"scene\":{\"xaxis\":{\"backgroundcolor\":\"#E5ECF6\",\"gridcolor\":\"white\",\"linecolor\":\"white\",\"showbackground\":true,\"ticks\":\"\",\"zerolinecolor\":\"white\",\"gridwidth\":2},\"yaxis\":{\"backgroundcolor\":\"#E5ECF6\",\"gridcolor\":\"white\",\"linecolor\":\"white\",\"showbackground\":true,\"ticks\":\"\",\"zerolinecolor\":\"white\",\"gridwidth\":2},\"zaxis\":{\"backgroundcolor\":\"#E5ECF6\",\"gridcolor\":\"white\",\"linecolor\":\"white\",\"showbackground\":true,\"ticks\":\"\",\"zerolinecolor\":\"white\",\"gridwidth\":2}},\"shapedefaults\":{\"line\":{\"color\":\"#2a3f5f\"}},\"annotationdefaults\":{\"arrowcolor\":\"#2a3f5f\",\"arrowhead\":0,\"arrowwidth\":1},\"geo\":{\"bgcolor\":\"white\",\"landcolor\":\"#E5ECF6\",\"subunitcolor\":\"white\",\"showland\":true,\"showlakes\":true,\"lakecolor\":\"white\"},\"title\":{\"x\":0.05},\"mapbox\":{\"style\":\"light\"}}},\"xaxis\":{\"anchor\":\"y\",\"domain\":[0.0,1.0],\"title\":{\"text\":\"Average Fare (USD)\"}},\"yaxis\":{\"anchor\":\"x\",\"domain\":[0.0,1.0],\"title\":{\"text\":\"Annual Ridership (millions)\"}},\"legend\":{\"title\":{\"text\":\"region\"},\"tracegroupgap\":0},\"title\":{\"text\":\"Average Fare vs Annual Ridership\"}},                        {\"responsive\": true}                    ).then(function(){\n",
       "                            \n",
       "var gd = document.getElementById('85f3d37a-f1ef-41cc-8598-d6716641c048');\n",
       "var x = new MutationObserver(function (mutations, observer) {{\n",
       "        var display = window.getComputedStyle(gd).display;\n",
       "        if (!display || display === 'none') {{\n",
       "            console.log([gd, 'removed!']);\n",
       "            Plotly.purge(gd);\n",
       "            observer.disconnect();\n",
       "        }}\n",
       "}});\n",
       "\n",
       "// Listen for the removal of the full notebook cells\n",
       "var notebookContainer = gd.closest('#notebook-container');\n",
       "if (notebookContainer) {{\n",
       "    x.observe(notebookContainer, {childList: true});\n",
       "}}\n",
       "\n",
       "// Listen for the clearing of the current output cell\n",
       "var outputEl = gd.closest('.output');\n",
       "if (outputEl) {{\n",
       "    x.observe(outputEl, {childList: true});\n",
       "}}\n",
       "\n",
       "                        })                };                });            </script>        </div>"
      ]
     },
     "metadata": {},
     "output_type": "display_data"
    }
   ],
   "source": [
    "import pandas as pd\n",
    "import plotly.express as px\n",
    "\n",
    "# Load datasets\n",
    "Fare_price = pd.read_csv('Combined_Countries.csv')\n",
    "\n",
    "# Merge datasets on country name (assuming country names match in both datasets)\n",
    "merged_data = pd.merge(Metro_total, Fare_price[['Country', 'One-way Ticket']], \n",
    "                        left_on='country', right_on='Country', how='left')\n",
    "\n",
    "# Rename columns for clarity\n",
    "merged_data.rename(columns={'One-way Ticket': 'Fare'}, inplace=True)\n",
    "\n",
    "#Calculate correlation between Fare and Annual Ridership\n",
    "correlation = merged_data[['Fare', 'annual_ridership_mill']].corr()\n",
    "print(correlation)\n",
    "\n",
    "# Create a scatter plot to visualize the relationship between Fare and Annual Ridership\n",
    "fig = px.scatter(merged_data, x='Fare', y='annual_ridership_mill',\n",
    "                 hover_name='country', color='region',\n",
    "                 labels={'Fare': 'Average Fare (USD)', \n",
    "                         'annual_ridership_mill': 'Annual Ridership (millions)'},\n",
    "                 title='Average Fare vs Annual Ridership')\n",
    "fig.show()"
   ]
  },
  {
   "cell_type": "markdown",
   "id": "2ef8120b-8d44-48db-8724-f177a695d2a3",
   "metadata": {},
   "source": [
    "Minimal(Weak) correlation between fare and ridership Which can suggests that changes in fare prices do not significantly impact ridership levels across different metro systems. Other factors may play a more critical role in determining passenger flows."
   ]
  },
  {
   "cell_type": "markdown",
   "id": "5a8d129e-8aa6-4d21-a299-91b2c718c2c8",
   "metadata": {},
   "source": [
    "# 6. Population vs Annual Ridership #"
   ]
  },
  {
   "cell_type": "code",
   "execution_count": 143,
   "id": "1db03ad9-34c0-4d59-92aa-afd6b0180614",
   "metadata": {},
   "outputs": [
    {
     "data": {
      "text/html": [
       "<div>\n",
       "<style scoped>\n",
       "    .dataframe tbody tr th:only-of-type {\n",
       "        vertical-align: middle;\n",
       "    }\n",
       "\n",
       "    .dataframe tbody tr th {\n",
       "        vertical-align: top;\n",
       "    }\n",
       "\n",
       "    .dataframe thead th {\n",
       "        text-align: right;\n",
       "    }\n",
       "</style>\n",
       "<table border=\"1\" class=\"dataframe\">\n",
       "  <thead>\n",
       "    <tr style=\"text-align: right;\">\n",
       "      <th></th>\n",
       "      <th>Country</th>\n",
       "      <th>Population 2021</th>\n",
       "    </tr>\n",
       "  </thead>\n",
       "  <tbody>\n",
       "    <tr>\n",
       "      <th>0</th>\n",
       "      <td>United Arab Emirates</td>\n",
       "      <td>9991083</td>\n",
       "    </tr>\n",
       "    <tr>\n",
       "      <th>1</th>\n",
       "      <td>Argentina</td>\n",
       "      <td>45808747</td>\n",
       "    </tr>\n",
       "    <tr>\n",
       "      <th>2</th>\n",
       "      <td>Armenia</td>\n",
       "      <td>2968128</td>\n",
       "    </tr>\n",
       "    <tr>\n",
       "      <th>3</th>\n",
       "      <td>Australia</td>\n",
       "      <td>25739256</td>\n",
       "    </tr>\n",
       "    <tr>\n",
       "      <th>4</th>\n",
       "      <td>Austria</td>\n",
       "      <td>8956279</td>\n",
       "    </tr>\n",
       "    <tr>\n",
       "      <th>5</th>\n",
       "      <td>Azerbaijan</td>\n",
       "      <td>10145212</td>\n",
       "    </tr>\n",
       "    <tr>\n",
       "      <th>6</th>\n",
       "      <td>Belgium</td>\n",
       "      <td>11587882</td>\n",
       "    </tr>\n",
       "    <tr>\n",
       "      <th>7</th>\n",
       "      <td>Bulgaria</td>\n",
       "      <td>6899125</td>\n",
       "    </tr>\n",
       "    <tr>\n",
       "      <th>8</th>\n",
       "      <td>Belarus</td>\n",
       "      <td>9340314</td>\n",
       "    </tr>\n",
       "    <tr>\n",
       "      <th>9</th>\n",
       "      <td>Brazil</td>\n",
       "      <td>213993441</td>\n",
       "    </tr>\n",
       "    <tr>\n",
       "      <th>10</th>\n",
       "      <td>Canada</td>\n",
       "      <td>38246108</td>\n",
       "    </tr>\n",
       "    <tr>\n",
       "      <th>11</th>\n",
       "      <td>Switzerland</td>\n",
       "      <td>8697723</td>\n",
       "    </tr>\n",
       "    <tr>\n",
       "      <th>12</th>\n",
       "      <td>Chile</td>\n",
       "      <td>19212362</td>\n",
       "    </tr>\n",
       "    <tr>\n",
       "      <th>13</th>\n",
       "      <td>China</td>\n",
       "      <td>1412360000</td>\n",
       "    </tr>\n",
       "    <tr>\n",
       "      <th>14</th>\n",
       "      <td>Colombia</td>\n",
       "      <td>51265841</td>\n",
       "    </tr>\n",
       "    <tr>\n",
       "      <th>15</th>\n",
       "      <td>Czech Republic</td>\n",
       "      <td>10703446</td>\n",
       "    </tr>\n",
       "    <tr>\n",
       "      <th>16</th>\n",
       "      <td>Germany</td>\n",
       "      <td>83129285</td>\n",
       "    </tr>\n",
       "    <tr>\n",
       "      <th>17</th>\n",
       "      <td>Denmark</td>\n",
       "      <td>5856733</td>\n",
       "    </tr>\n",
       "    <tr>\n",
       "      <th>18</th>\n",
       "      <td>Dominican Republic</td>\n",
       "      <td>10953714</td>\n",
       "    </tr>\n",
       "    <tr>\n",
       "      <th>19</th>\n",
       "      <td>Algeria</td>\n",
       "      <td>44616626</td>\n",
       "    </tr>\n",
       "    <tr>\n",
       "      <th>20</th>\n",
       "      <td>Spain</td>\n",
       "      <td>47326687</td>\n",
       "    </tr>\n",
       "    <tr>\n",
       "      <th>21</th>\n",
       "      <td>Finland</td>\n",
       "      <td>5541696</td>\n",
       "    </tr>\n",
       "    <tr>\n",
       "      <th>22</th>\n",
       "      <td>France</td>\n",
       "      <td>67499343</td>\n",
       "    </tr>\n",
       "    <tr>\n",
       "      <th>23</th>\n",
       "      <td>United Kingdom</td>\n",
       "      <td>67326569</td>\n",
       "    </tr>\n",
       "    <tr>\n",
       "      <th>24</th>\n",
       "      <td>Georgia</td>\n",
       "      <td>3708610</td>\n",
       "    </tr>\n",
       "    <tr>\n",
       "      <th>25</th>\n",
       "      <td>Greece</td>\n",
       "      <td>10664568</td>\n",
       "    </tr>\n",
       "    <tr>\n",
       "      <th>26</th>\n",
       "      <td>Hungary</td>\n",
       "      <td>9709886</td>\n",
       "    </tr>\n",
       "    <tr>\n",
       "      <th>27</th>\n",
       "      <td>Indonesia</td>\n",
       "      <td>276361788</td>\n",
       "    </tr>\n",
       "    <tr>\n",
       "      <th>28</th>\n",
       "      <td>India</td>\n",
       "      <td>1393409033</td>\n",
       "    </tr>\n",
       "    <tr>\n",
       "      <th>29</th>\n",
       "      <td>Italy</td>\n",
       "      <td>59066225</td>\n",
       "    </tr>\n",
       "    <tr>\n",
       "      <th>30</th>\n",
       "      <td>Japan</td>\n",
       "      <td>125681593</td>\n",
       "    </tr>\n",
       "    <tr>\n",
       "      <th>31</th>\n",
       "      <td>Kazakhstan</td>\n",
       "      <td>19002586</td>\n",
       "    </tr>\n",
       "    <tr>\n",
       "      <th>32</th>\n",
       "      <td>Mexico</td>\n",
       "      <td>130262220</td>\n",
       "    </tr>\n",
       "    <tr>\n",
       "      <th>33</th>\n",
       "      <td>Malaysia</td>\n",
       "      <td>32776195</td>\n",
       "    </tr>\n",
       "    <tr>\n",
       "      <th>34</th>\n",
       "      <td>Netherlands</td>\n",
       "      <td>17533405</td>\n",
       "    </tr>\n",
       "    <tr>\n",
       "      <th>35</th>\n",
       "      <td>Norway</td>\n",
       "      <td>5408320</td>\n",
       "    </tr>\n",
       "    <tr>\n",
       "      <th>36</th>\n",
       "      <td>Pakistan</td>\n",
       "      <td>225199929</td>\n",
       "    </tr>\n",
       "    <tr>\n",
       "      <th>37</th>\n",
       "      <td>Panama</td>\n",
       "      <td>4381583</td>\n",
       "    </tr>\n",
       "    <tr>\n",
       "      <th>38</th>\n",
       "      <td>Peru</td>\n",
       "      <td>33359416</td>\n",
       "    </tr>\n",
       "    <tr>\n",
       "      <th>39</th>\n",
       "      <td>Philippines</td>\n",
       "      <td>111046910</td>\n",
       "    </tr>\n",
       "    <tr>\n",
       "      <th>40</th>\n",
       "      <td>Poland</td>\n",
       "      <td>37781024</td>\n",
       "    </tr>\n",
       "    <tr>\n",
       "      <th>41</th>\n",
       "      <td>Portugal</td>\n",
       "      <td>10299423</td>\n",
       "    </tr>\n",
       "    <tr>\n",
       "      <th>42</th>\n",
       "      <td>Qatar</td>\n",
       "      <td>2930524</td>\n",
       "    </tr>\n",
       "    <tr>\n",
       "      <th>43</th>\n",
       "      <td>Russia</td>\n",
       "      <td>144700000</td>\n",
       "    </tr>\n",
       "    <tr>\n",
       "      <th>44</th>\n",
       "      <td>Romania</td>\n",
       "      <td>19115146</td>\n",
       "    </tr>\n",
       "    <tr>\n",
       "      <th>45</th>\n",
       "      <td>Singapore</td>\n",
       "      <td>5453566</td>\n",
       "    </tr>\n",
       "    <tr>\n",
       "      <th>46</th>\n",
       "      <td>Sweden</td>\n",
       "      <td>10415811</td>\n",
       "    </tr>\n",
       "    <tr>\n",
       "      <th>47</th>\n",
       "      <td>Thailand</td>\n",
       "      <td>69950844</td>\n",
       "    </tr>\n",
       "    <tr>\n",
       "      <th>48</th>\n",
       "      <td>Ukraine</td>\n",
       "      <td>43814581</td>\n",
       "    </tr>\n",
       "    <tr>\n",
       "      <th>49</th>\n",
       "      <td>United States</td>\n",
       "      <td>331893745</td>\n",
       "    </tr>\n",
       "    <tr>\n",
       "      <th>50</th>\n",
       "      <td>Uzbekistan</td>\n",
       "      <td>34915100</td>\n",
       "    </tr>\n",
       "    <tr>\n",
       "      <th>51</th>\n",
       "      <td>Vietnam</td>\n",
       "      <td>98168829</td>\n",
       "    </tr>\n",
       "    <tr>\n",
       "      <th>52</th>\n",
       "      <td>Switzerland</td>\n",
       "      <td>8921981</td>\n",
       "    </tr>\n",
       "    <tr>\n",
       "      <th>53</th>\n",
       "      <td>Venezuela</td>\n",
       "      <td>28405543</td>\n",
       "    </tr>\n",
       "    <tr>\n",
       "      <th>54</th>\n",
       "      <td>Egypt</td>\n",
       "      <td>116538258</td>\n",
       "    </tr>\n",
       "    <tr>\n",
       "      <th>55</th>\n",
       "      <td>Iran</td>\n",
       "      <td>91567738</td>\n",
       "    </tr>\n",
       "    <tr>\n",
       "      <th>56</th>\n",
       "      <td>Taiwan</td>\n",
       "      <td>23213962</td>\n",
       "    </tr>\n",
       "    <tr>\n",
       "      <th>57</th>\n",
       "      <td>Turkey</td>\n",
       "      <td>84743805</td>\n",
       "    </tr>\n",
       "    <tr>\n",
       "      <th>58</th>\n",
       "      <td>South Korea</td>\n",
       "      <td>51717590</td>\n",
       "    </tr>\n",
       "  </tbody>\n",
       "</table>\n",
       "</div>"
      ],
      "text/plain": [
       "                 Country  Population 2021\n",
       "0   United Arab Emirates          9991083\n",
       "1              Argentina         45808747\n",
       "2                Armenia          2968128\n",
       "3              Australia         25739256\n",
       "4                Austria          8956279\n",
       "5             Azerbaijan         10145212\n",
       "6                Belgium         11587882\n",
       "7               Bulgaria          6899125\n",
       "8                Belarus          9340314\n",
       "9                 Brazil        213993441\n",
       "10                Canada         38246108\n",
       "11           Switzerland          8697723\n",
       "12                 Chile         19212362\n",
       "13                 China       1412360000\n",
       "14              Colombia         51265841\n",
       "15        Czech Republic         10703446\n",
       "16               Germany         83129285\n",
       "17               Denmark          5856733\n",
       "18    Dominican Republic         10953714\n",
       "19               Algeria         44616626\n",
       "20                 Spain         47326687\n",
       "21               Finland          5541696\n",
       "22                France         67499343\n",
       "23        United Kingdom         67326569\n",
       "24               Georgia          3708610\n",
       "25                Greece         10664568\n",
       "26               Hungary          9709886\n",
       "27             Indonesia        276361788\n",
       "28                 India       1393409033\n",
       "29                 Italy         59066225\n",
       "30                 Japan        125681593\n",
       "31            Kazakhstan         19002586\n",
       "32                Mexico        130262220\n",
       "33              Malaysia         32776195\n",
       "34           Netherlands         17533405\n",
       "35                Norway          5408320\n",
       "36              Pakistan        225199929\n",
       "37                Panama          4381583\n",
       "38                  Peru         33359416\n",
       "39           Philippines        111046910\n",
       "40                Poland         37781024\n",
       "41              Portugal         10299423\n",
       "42                 Qatar          2930524\n",
       "43                Russia        144700000\n",
       "44               Romania         19115146\n",
       "45             Singapore          5453566\n",
       "46                Sweden         10415811\n",
       "47              Thailand         69950844\n",
       "48               Ukraine         43814581\n",
       "49         United States        331893745\n",
       "50            Uzbekistan         34915100\n",
       "51               Vietnam         98168829\n",
       "52           Switzerland          8921981\n",
       "53             Venezuela         28405543\n",
       "54                 Egypt        116538258\n",
       "55                  Iran         91567738\n",
       "56                Taiwan         23213962\n",
       "57                Turkey         84743805\n",
       "58           South Korea         51717590"
      ]
     },
     "execution_count": 143,
     "metadata": {},
     "output_type": "execute_result"
    }
   ],
   "source": [
    "import pandas as pd \n",
    "Population = pd.read_excel('population of country.xlsx')\n",
    "\n",
    "Population"
   ]
  },
  {
   "cell_type": "code",
   "execution_count": 167,
   "id": "c2abd15c-2307-4558-b3ba-9121a613c18e",
   "metadata": {},
   "outputs": [
    {
     "name": "stdout",
     "output_type": "stream",
     "text": [
      "         country  annual_ridership_mill         region  Population 2021\n",
      "0          China                   2.10           asia     1.412360e+09\n",
      "1  United States                   0.75  north_america     3.318937e+08\n",
      "2    South Korea                   3.87           asia     5.171759e+07\n",
      "3          Japan                   8.19           asia     1.256816e+08\n",
      "4          India                   3.70           asia     1.393409e+09\n"
     ]
    }
   ],
   "source": [
    "# Rename columns for consistency if necessary\n",
    "Population.rename(columns={'Country': 'country'}, inplace=True)\n",
    "\n",
    "# Merge datasets on country name\n",
    "merged_data = pd.merge(Metro_total[['country', 'annual_ridership_mill', 'region']], \n",
    "                        Population[['country', 'Population 2021']],\n",
    "                        on='country', how='left')\n",
    "\n",
    "# Check merged data\n",
    "print(merged_data.head())\n"
   ]
  },
  {
   "cell_type": "code",
   "execution_count": 153,
   "id": "8c42d968-2183-4a05-aca5-0cd98b486198",
   "metadata": {},
   "outputs": [
    {
     "name": "stdout",
     "output_type": "stream",
     "text": [
      "Correlation between Population and Annual Ridership:\n",
      "                       Population 2021  annual_ridership_mill\n",
      "Population 2021               1.000000              -0.001253\n",
      "annual_ridership_mill        -0.001253               1.000000\n"
     ]
    }
   ],
   "source": [
    "# Calculate correlation between Population and Annual Ridership\n",
    "correlation = merged_data[['Population 2021', 'annual_ridership_mill']].corr()\n",
    "print(\"Correlation between Population and Annual Ridership:\")\n",
    "print(correlation)"
   ]
  },
  {
   "cell_type": "code",
   "execution_count": 169,
   "id": "633f5296-979d-4546-9ddf-e78978e1620d",
   "metadata": {},
   "outputs": [
    {
     "data": {
      "application/vnd.plotly.v1+json": {
       "config": {
        "plotlyServerURL": "https://plot.ly"
       },
       "data": [
        {
         "hovertemplate": "<b>%{hovertext}</b><br><br>region=asia<br>Population (2021)=%{x}<br>Annual Ridership (millions)=%{y}<extra></extra>",
         "hovertext": [
          "China",
          "South Korea",
          "Japan",
          "India",
          "Russia",
          "Turkey",
          "Taiwan",
          "Iran",
          "Singapore",
          "Malaysia",
          "Thailand",
          "United Arab Emirates",
          "Qatar",
          "Uzbekistan",
          "Philippines",
          "Azerbaijan",
          "Georgia",
          "Pakistan",
          "Indonesia",
          "Armenia",
          "Vietnam",
          "Kazakhstan"
         ],
         "legendgroup": "asia",
         "marker": {
          "color": "#636efa",
          "symbol": "circle"
         },
         "mode": "markers",
         "name": "asia",
         "orientation": "v",
         "showlegend": true,
         "type": "scatter",
         "x": [
          1412360000,
          51717590,
          125681593,
          1393409033,
          144700000,
          84743805,
          23213962,
          91567738,
          5453566,
          32776195,
          69950844,
          9991083,
          2930524,
          34915100,
          111046910,
          10145212,
          3708610,
          225199929,
          276361788,
          2968128,
          98168829,
          19002586
         ],
         "xaxis": "x",
         "y": [
          2.1,
          3.87,
          8.19,
          3.7,
          3.51,
          1.94,
          3.26,
          4.08,
          3.41,
          0.79,
          2.38,
          1.26,
          0,
          0.67,
          5.82,
          1.89,
          2.57,
          0,
          0.63,
          0.8,
          0,
          0.61
         ],
         "yaxis": "y"
        },
        {
         "hovertemplate": "<b>%{hovertext}</b><br><br>region=north_america<br>Population (2021)=%{x}<br>Annual Ridership (millions)=%{y}<extra></extra>",
         "hovertext": [
          "United States",
          "Canada"
         ],
         "legendgroup": "north_america",
         "marker": {
          "color": "#EF553B",
          "symbol": "circle"
         },
         "mode": "markers",
         "name": "north_america",
         "orientation": "v",
         "showlegend": true,
         "type": "scatter",
         "x": [
          331893745,
          38246108
         ],
         "xaxis": "x",
         "y": [
          0.75,
          1.78
         ],
         "yaxis": "y"
        },
        {
         "hovertemplate": "<b>%{hovertext}</b><br><br>region=europe<br>Population (2021)=%{x}<br>Annual Ridership (millions)=%{y}<extra></extra>",
         "hovertext": [
          "Spain",
          "United Kingdom",
          "Germany",
          "France",
          "Italy",
          "Netherlands",
          "Ukraine",
          "Sweden",
          "Greece",
          "Norway",
          "Austria",
          "Romania",
          "Czech Republic",
          "Bulgaria",
          "Portugal",
          "Belarus",
          "Belgium",
          "Hungary",
          "Denmark",
          "Poland",
          "Finland",
          "Switzerland",
          "Switzerland"
         ],
         "legendgroup": "europe",
         "marker": {
          "color": "#00cc96",
          "symbol": "circle"
         },
         "mode": "markers",
         "name": "europe",
         "orientation": "v",
         "showlegend": true,
         "type": "scatter",
         "x": [
          47326687,
          67326569,
          83129285,
          67499343,
          59066225,
          17533405,
          43814581,
          10415811,
          10664568,
          5408320,
          8956279,
          19115146,
          10703446,
          6899125,
          10299423,
          9340314,
          11587882,
          9709886,
          5856733,
          37781024,
          5541696,
          8697723,
          8921981
         ],
         "xaxis": "x",
         "y": [
          1.43,
          0.77,
          3.59,
          3.7,
          3.73,
          1.48,
          3.64,
          3.1,
          2.92,
          0.87,
          5.51,
          2.28,
          3.85,
          1.79,
          1.93,
          5.37,
          2.19,
          6.09,
          1.66,
          5.5,
          1.72,
          5.55,
          5.55
         ],
         "yaxis": "y"
        },
        {
         "hovertemplate": "<b>%{hovertext}</b><br><br>region=latin_america<br>Population (2021)=%{x}<br>Annual Ridership (millions)=%{y}<extra></extra>",
         "hovertext": [
          "Brazil",
          "Mexico",
          "Chile",
          "Venezuela",
          "Argentina",
          "Panama",
          "Peru",
          "Colombia",
          "Dominican Republic"
         ],
         "legendgroup": "latin_america",
         "marker": {
          "color": "#ab63fa",
          "symbol": "circle"
         },
         "mode": "markers",
         "name": "latin_america",
         "orientation": "v",
         "showlegend": true,
         "type": "scatter",
         "x": [
          213993441,
          130262220,
          19212362,
          28405543,
          45808747,
          4381583,
          33359416,
          51265841,
          10953714
         ],
         "xaxis": "x",
         "y": [
          3.44,
          4.37,
          1.88,
          5.32,
          1.3,
          1.38,
          3.19,
          3.68,
          1.6
         ],
         "yaxis": "y"
        },
        {
         "hovertemplate": "<b>%{hovertext}</b><br><br>region=africa<br>Population (2021)=%{x}<br>Annual Ridership (millions)=%{y}<extra></extra>",
         "hovertext": [
          "Egypt",
          "Algeria"
         ],
         "legendgroup": "africa",
         "marker": {
          "color": "#FFA15A",
          "symbol": "circle"
         },
         "mode": "markers",
         "name": "africa",
         "orientation": "v",
         "showlegend": true,
         "type": "scatter",
         "x": [
          116538258,
          44616626
         ],
         "xaxis": "x",
         "y": [
          0,
          2.4
         ],
         "yaxis": "y"
        },
        {
         "hovertemplate": "<b>%{hovertext}</b><br><br>region=australia<br>Population (2021)=%{x}<br>Annual Ridership (millions)=%{y}<extra></extra>",
         "hovertext": [
          "Australia"
         ],
         "legendgroup": "australia",
         "marker": {
          "color": "#19d3f3",
          "symbol": "circle"
         },
         "mode": "markers",
         "name": "australia",
         "orientation": "v",
         "showlegend": true,
         "type": "scatter",
         "x": [
          25739256
         ],
         "xaxis": "x",
         "y": [
          0.35
         ],
         "yaxis": "y"
        }
       ],
       "layout": {
        "autosize": true,
        "legend": {
         "title": {
          "text": "region"
         },
         "tracegroupgap": 0
        },
        "template": {
         "data": {
          "bar": [
           {
            "error_x": {
             "color": "#2a3f5f"
            },
            "error_y": {
             "color": "#2a3f5f"
            },
            "marker": {
             "line": {
              "color": "#E5ECF6",
              "width": 0.5
             },
             "pattern": {
              "fillmode": "overlay",
              "size": 10,
              "solidity": 0.2
             }
            },
            "type": "bar"
           }
          ],
          "barpolar": [
           {
            "marker": {
             "line": {
              "color": "#E5ECF6",
              "width": 0.5
             },
             "pattern": {
              "fillmode": "overlay",
              "size": 10,
              "solidity": 0.2
             }
            },
            "type": "barpolar"
           }
          ],
          "carpet": [
           {
            "aaxis": {
             "endlinecolor": "#2a3f5f",
             "gridcolor": "white",
             "linecolor": "white",
             "minorgridcolor": "white",
             "startlinecolor": "#2a3f5f"
            },
            "baxis": {
             "endlinecolor": "#2a3f5f",
             "gridcolor": "white",
             "linecolor": "white",
             "minorgridcolor": "white",
             "startlinecolor": "#2a3f5f"
            },
            "type": "carpet"
           }
          ],
          "choropleth": [
           {
            "colorbar": {
             "outlinewidth": 0,
             "ticks": ""
            },
            "type": "choropleth"
           }
          ],
          "contour": [
           {
            "colorbar": {
             "outlinewidth": 0,
             "ticks": ""
            },
            "colorscale": [
             [
              0,
              "#0d0887"
             ],
             [
              0.1111111111111111,
              "#46039f"
             ],
             [
              0.2222222222222222,
              "#7201a8"
             ],
             [
              0.3333333333333333,
              "#9c179e"
             ],
             [
              0.4444444444444444,
              "#bd3786"
             ],
             [
              0.5555555555555556,
              "#d8576b"
             ],
             [
              0.6666666666666666,
              "#ed7953"
             ],
             [
              0.7777777777777778,
              "#fb9f3a"
             ],
             [
              0.8888888888888888,
              "#fdca26"
             ],
             [
              1,
              "#f0f921"
             ]
            ],
            "type": "contour"
           }
          ],
          "contourcarpet": [
           {
            "colorbar": {
             "outlinewidth": 0,
             "ticks": ""
            },
            "type": "contourcarpet"
           }
          ],
          "heatmap": [
           {
            "colorbar": {
             "outlinewidth": 0,
             "ticks": ""
            },
            "colorscale": [
             [
              0,
              "#0d0887"
             ],
             [
              0.1111111111111111,
              "#46039f"
             ],
             [
              0.2222222222222222,
              "#7201a8"
             ],
             [
              0.3333333333333333,
              "#9c179e"
             ],
             [
              0.4444444444444444,
              "#bd3786"
             ],
             [
              0.5555555555555556,
              "#d8576b"
             ],
             [
              0.6666666666666666,
              "#ed7953"
             ],
             [
              0.7777777777777778,
              "#fb9f3a"
             ],
             [
              0.8888888888888888,
              "#fdca26"
             ],
             [
              1,
              "#f0f921"
             ]
            ],
            "type": "heatmap"
           }
          ],
          "heatmapgl": [
           {
            "colorbar": {
             "outlinewidth": 0,
             "ticks": ""
            },
            "colorscale": [
             [
              0,
              "#0d0887"
             ],
             [
              0.1111111111111111,
              "#46039f"
             ],
             [
              0.2222222222222222,
              "#7201a8"
             ],
             [
              0.3333333333333333,
              "#9c179e"
             ],
             [
              0.4444444444444444,
              "#bd3786"
             ],
             [
              0.5555555555555556,
              "#d8576b"
             ],
             [
              0.6666666666666666,
              "#ed7953"
             ],
             [
              0.7777777777777778,
              "#fb9f3a"
             ],
             [
              0.8888888888888888,
              "#fdca26"
             ],
             [
              1,
              "#f0f921"
             ]
            ],
            "type": "heatmapgl"
           }
          ],
          "histogram": [
           {
            "marker": {
             "pattern": {
              "fillmode": "overlay",
              "size": 10,
              "solidity": 0.2
             }
            },
            "type": "histogram"
           }
          ],
          "histogram2d": [
           {
            "colorbar": {
             "outlinewidth": 0,
             "ticks": ""
            },
            "colorscale": [
             [
              0,
              "#0d0887"
             ],
             [
              0.1111111111111111,
              "#46039f"
             ],
             [
              0.2222222222222222,
              "#7201a8"
             ],
             [
              0.3333333333333333,
              "#9c179e"
             ],
             [
              0.4444444444444444,
              "#bd3786"
             ],
             [
              0.5555555555555556,
              "#d8576b"
             ],
             [
              0.6666666666666666,
              "#ed7953"
             ],
             [
              0.7777777777777778,
              "#fb9f3a"
             ],
             [
              0.8888888888888888,
              "#fdca26"
             ],
             [
              1,
              "#f0f921"
             ]
            ],
            "type": "histogram2d"
           }
          ],
          "histogram2dcontour": [
           {
            "colorbar": {
             "outlinewidth": 0,
             "ticks": ""
            },
            "colorscale": [
             [
              0,
              "#0d0887"
             ],
             [
              0.1111111111111111,
              "#46039f"
             ],
             [
              0.2222222222222222,
              "#7201a8"
             ],
             [
              0.3333333333333333,
              "#9c179e"
             ],
             [
              0.4444444444444444,
              "#bd3786"
             ],
             [
              0.5555555555555556,
              "#d8576b"
             ],
             [
              0.6666666666666666,
              "#ed7953"
             ],
             [
              0.7777777777777778,
              "#fb9f3a"
             ],
             [
              0.8888888888888888,
              "#fdca26"
             ],
             [
              1,
              "#f0f921"
             ]
            ],
            "type": "histogram2dcontour"
           }
          ],
          "mesh3d": [
           {
            "colorbar": {
             "outlinewidth": 0,
             "ticks": ""
            },
            "type": "mesh3d"
           }
          ],
          "parcoords": [
           {
            "line": {
             "colorbar": {
              "outlinewidth": 0,
              "ticks": ""
             }
            },
            "type": "parcoords"
           }
          ],
          "pie": [
           {
            "automargin": true,
            "type": "pie"
           }
          ],
          "scatter": [
           {
            "fillpattern": {
             "fillmode": "overlay",
             "size": 10,
             "solidity": 0.2
            },
            "type": "scatter"
           }
          ],
          "scatter3d": [
           {
            "line": {
             "colorbar": {
              "outlinewidth": 0,
              "ticks": ""
             }
            },
            "marker": {
             "colorbar": {
              "outlinewidth": 0,
              "ticks": ""
             }
            },
            "type": "scatter3d"
           }
          ],
          "scattercarpet": [
           {
            "marker": {
             "colorbar": {
              "outlinewidth": 0,
              "ticks": ""
             }
            },
            "type": "scattercarpet"
           }
          ],
          "scattergeo": [
           {
            "marker": {
             "colorbar": {
              "outlinewidth": 0,
              "ticks": ""
             }
            },
            "type": "scattergeo"
           }
          ],
          "scattergl": [
           {
            "marker": {
             "colorbar": {
              "outlinewidth": 0,
              "ticks": ""
             }
            },
            "type": "scattergl"
           }
          ],
          "scattermapbox": [
           {
            "marker": {
             "colorbar": {
              "outlinewidth": 0,
              "ticks": ""
             }
            },
            "type": "scattermapbox"
           }
          ],
          "scatterpolar": [
           {
            "marker": {
             "colorbar": {
              "outlinewidth": 0,
              "ticks": ""
             }
            },
            "type": "scatterpolar"
           }
          ],
          "scatterpolargl": [
           {
            "marker": {
             "colorbar": {
              "outlinewidth": 0,
              "ticks": ""
             }
            },
            "type": "scatterpolargl"
           }
          ],
          "scatterternary": [
           {
            "marker": {
             "colorbar": {
              "outlinewidth": 0,
              "ticks": ""
             }
            },
            "type": "scatterternary"
           }
          ],
          "surface": [
           {
            "colorbar": {
             "outlinewidth": 0,
             "ticks": ""
            },
            "colorscale": [
             [
              0,
              "#0d0887"
             ],
             [
              0.1111111111111111,
              "#46039f"
             ],
             [
              0.2222222222222222,
              "#7201a8"
             ],
             [
              0.3333333333333333,
              "#9c179e"
             ],
             [
              0.4444444444444444,
              "#bd3786"
             ],
             [
              0.5555555555555556,
              "#d8576b"
             ],
             [
              0.6666666666666666,
              "#ed7953"
             ],
             [
              0.7777777777777778,
              "#fb9f3a"
             ],
             [
              0.8888888888888888,
              "#fdca26"
             ],
             [
              1,
              "#f0f921"
             ]
            ],
            "type": "surface"
           }
          ],
          "table": [
           {
            "cells": {
             "fill": {
              "color": "#EBF0F8"
             },
             "line": {
              "color": "white"
             }
            },
            "header": {
             "fill": {
              "color": "#C8D4E3"
             },
             "line": {
              "color": "white"
             }
            },
            "type": "table"
           }
          ]
         },
         "layout": {
          "annotationdefaults": {
           "arrowcolor": "#2a3f5f",
           "arrowhead": 0,
           "arrowwidth": 1
          },
          "autotypenumbers": "strict",
          "coloraxis": {
           "colorbar": {
            "outlinewidth": 0,
            "ticks": ""
           }
          },
          "colorscale": {
           "diverging": [
            [
             0,
             "#8e0152"
            ],
            [
             0.1,
             "#c51b7d"
            ],
            [
             0.2,
             "#de77ae"
            ],
            [
             0.3,
             "#f1b6da"
            ],
            [
             0.4,
             "#fde0ef"
            ],
            [
             0.5,
             "#f7f7f7"
            ],
            [
             0.6,
             "#e6f5d0"
            ],
            [
             0.7,
             "#b8e186"
            ],
            [
             0.8,
             "#7fbc41"
            ],
            [
             0.9,
             "#4d9221"
            ],
            [
             1,
             "#276419"
            ]
           ],
           "sequential": [
            [
             0,
             "#0d0887"
            ],
            [
             0.1111111111111111,
             "#46039f"
            ],
            [
             0.2222222222222222,
             "#7201a8"
            ],
            [
             0.3333333333333333,
             "#9c179e"
            ],
            [
             0.4444444444444444,
             "#bd3786"
            ],
            [
             0.5555555555555556,
             "#d8576b"
            ],
            [
             0.6666666666666666,
             "#ed7953"
            ],
            [
             0.7777777777777778,
             "#fb9f3a"
            ],
            [
             0.8888888888888888,
             "#fdca26"
            ],
            [
             1,
             "#f0f921"
            ]
           ],
           "sequentialminus": [
            [
             0,
             "#0d0887"
            ],
            [
             0.1111111111111111,
             "#46039f"
            ],
            [
             0.2222222222222222,
             "#7201a8"
            ],
            [
             0.3333333333333333,
             "#9c179e"
            ],
            [
             0.4444444444444444,
             "#bd3786"
            ],
            [
             0.5555555555555556,
             "#d8576b"
            ],
            [
             0.6666666666666666,
             "#ed7953"
            ],
            [
             0.7777777777777778,
             "#fb9f3a"
            ],
            [
             0.8888888888888888,
             "#fdca26"
            ],
            [
             1,
             "#f0f921"
            ]
           ]
          },
          "colorway": [
           "#636efa",
           "#EF553B",
           "#00cc96",
           "#ab63fa",
           "#FFA15A",
           "#19d3f3",
           "#FF6692",
           "#B6E880",
           "#FF97FF",
           "#FECB52"
          ],
          "font": {
           "color": "#2a3f5f"
          },
          "geo": {
           "bgcolor": "white",
           "lakecolor": "white",
           "landcolor": "#E5ECF6",
           "showlakes": true,
           "showland": true,
           "subunitcolor": "white"
          },
          "hoverlabel": {
           "align": "left"
          },
          "hovermode": "closest",
          "mapbox": {
           "style": "light"
          },
          "paper_bgcolor": "white",
          "plot_bgcolor": "#E5ECF6",
          "polar": {
           "angularaxis": {
            "gridcolor": "white",
            "linecolor": "white",
            "ticks": ""
           },
           "bgcolor": "#E5ECF6",
           "radialaxis": {
            "gridcolor": "white",
            "linecolor": "white",
            "ticks": ""
           }
          },
          "scene": {
           "xaxis": {
            "backgroundcolor": "#E5ECF6",
            "gridcolor": "white",
            "gridwidth": 2,
            "linecolor": "white",
            "showbackground": true,
            "ticks": "",
            "zerolinecolor": "white"
           },
           "yaxis": {
            "backgroundcolor": "#E5ECF6",
            "gridcolor": "white",
            "gridwidth": 2,
            "linecolor": "white",
            "showbackground": true,
            "ticks": "",
            "zerolinecolor": "white"
           },
           "zaxis": {
            "backgroundcolor": "#E5ECF6",
            "gridcolor": "white",
            "gridwidth": 2,
            "linecolor": "white",
            "showbackground": true,
            "ticks": "",
            "zerolinecolor": "white"
           }
          },
          "shapedefaults": {
           "line": {
            "color": "#2a3f5f"
           }
          },
          "ternary": {
           "aaxis": {
            "gridcolor": "white",
            "linecolor": "white",
            "ticks": ""
           },
           "baxis": {
            "gridcolor": "white",
            "linecolor": "white",
            "ticks": ""
           },
           "bgcolor": "#E5ECF6",
           "caxis": {
            "gridcolor": "white",
            "linecolor": "white",
            "ticks": ""
           }
          },
          "title": {
           "x": 0.05
          },
          "xaxis": {
           "automargin": true,
           "gridcolor": "white",
           "linecolor": "white",
           "ticks": "",
           "title": {
            "standoff": 15
           },
           "zerolinecolor": "white",
           "zerolinewidth": 2
          },
          "yaxis": {
           "automargin": true,
           "gridcolor": "white",
           "linecolor": "white",
           "ticks": "",
           "title": {
            "standoff": 15
           },
           "zerolinecolor": "white",
           "zerolinewidth": 2
          }
         }
        },
        "title": {
         "text": "Population vs Annual Ridership"
        },
        "xaxis": {
         "anchor": "y",
         "autorange": true,
         "domain": [
          0,
          1
         ],
         "range": [
          -91031441.06666666,
          1506321965.0666666
         ],
         "title": {
          "text": "Population (2021)"
         },
         "type": "linear"
        },
        "yaxis": {
         "anchor": "x",
         "autorange": true,
         "domain": [
          0,
          1
         ],
         "range": [
          -0.6758737864077669,
          8.865873786407766
         ],
         "title": {
          "text": "Annual Ridership (millions)"
         },
         "type": "linear"
        }
       }
      },
      "image/png": "[encoded data removed]",
      "text/html": [
       "<div>                            <div id=\"3117cd0c-3ec9-44b2-8db9-f42145f68861\" class=\"plotly-graph-div\" style=\"height:525px; width:100%;\"></div>            <script type=\"text/javascript\">                require([\"plotly\"], function(Plotly) {                    window.PLOTLYENV=window.PLOTLYENV || {};                                    if (document.getElementById(\"3117cd0c-3ec9-44b2-8db9-f42145f68861\")) {                    Plotly.newPlot(                        \"3117cd0c-3ec9-44b2-8db9-f42145f68861\",                        [{\"hovertemplate\":\"<b>%{hovertext}</b><br><br>region=asia<br>Population (2021)=%{x}<br>Annual Ridership (millions)=%{y}<extra></extra>\",\"hovertext\":[\"China\",\"South Korea\",\"Japan\",\"India\",\"Russia\",\"Turkey\",\"Taiwan\",\"Iran\",\"Singapore\",\"Malaysia\",\"Thailand\",\"United Arab Emirates\",\"Qatar\",\"Uzbekistan\",\"Philippines\",\"Azerbaijan\",\"Georgia\",\"Pakistan\",\"Indonesia\",\"Armenia\",\"Vietnam\",\"Kazakhstan\"],\"legendgroup\":\"asia\",\"marker\":{\"color\":\"#636efa\",\"symbol\":\"circle\"},\"mode\":\"markers\",\"name\":\"asia\",\"orientation\":\"v\",\"showlegend\":true,\"x\":[1412360000.0,51717590.0,125681593.0,1393409033.0,144700000.0,84743805.0,23213962.0,91567738.0,5453566.0,32776195.0,69950844.0,9991083.0,2930524.0,34915100.0,111046910.0,10145212.0,3708610.0,225199929.0,276361788.0,2968128.0,98168829.0,19002586.0],\"xaxis\":\"x\",\"y\":[2.1,3.87,8.19,3.7,3.51,1.94,3.26,4.08,3.41,0.79,2.38,1.26,0.0,0.67,5.82,1.89,2.57,0.0,0.63,0.8,0.0,0.61],\"yaxis\":\"y\",\"type\":\"scatter\"},{\"hovertemplate\":\"<b>%{hovertext}</b><br><br>region=north_america<br>Population (2021)=%{x}<br>Annual Ridership (millions)=%{y}<extra></extra>\",\"hovertext\":[\"United States\",\"Canada\"],\"legendgroup\":\"north_america\",\"marker\":{\"color\":\"#EF553B\",\"symbol\":\"circle\"},\"mode\":\"markers\",\"name\":\"north_america\",\"orientation\":\"v\",\"showlegend\":true,\"x\":[331893745.0,38246108.0],\"xaxis\":\"x\",\"y\":[0.75,1.78],\"yaxis\":\"y\",\"type\":\"scatter\"},{\"hovertemplate\":\"<b>%{hovertext}</b><br><br>region=europe<br>Population (2021)=%{x}<br>Annual Ridership (millions)=%{y}<extra></extra>\",\"hovertext\":[\"Spain\",\"United Kingdom\",\"Germany\",\"France\",\"Italy\",\"Netherlands\",\"Ukraine\",\"Sweden\",\"Greece\",\"Norway\",\"Austria\",\"Romania\",\"Czech Republic\",\"Bulgaria\",\"Portugal\",\"Belarus\",\"Belgium\",\"Hungary\",\"Denmark\",\"Poland\",\"Finland\",\"Switzerland\",\"Switzerland\"],\"legendgroup\":\"europe\",\"marker\":{\"color\":\"#00cc96\",\"symbol\":\"circle\"},\"mode\":\"markers\",\"name\":\"europe\",\"orientation\":\"v\",\"showlegend\":true,\"x\":[47326687.0,67326569.0,83129285.0,67499343.0,59066225.0,17533405.0,43814581.0,10415811.0,10664568.0,5408320.0,8956279.0,19115146.0,10703446.0,6899125.0,10299423.0,9340314.0,11587882.0,9709886.0,5856733.0,37781024.0,5541696.0,8697723.0,8921981.0],\"xaxis\":\"x\",\"y\":[1.43,0.77,3.59,3.7,3.73,1.48,3.64,3.1,2.92,0.87,5.51,2.28,3.85,1.79,1.93,5.37,2.19,6.09,1.66,5.5,1.72,5.55,5.55],\"yaxis\":\"y\",\"type\":\"scatter\"},{\"hovertemplate\":\"<b>%{hovertext}</b><br><br>region=latin_america<br>Population (2021)=%{x}<br>Annual Ridership (millions)=%{y}<extra></extra>\",\"hovertext\":[\"Brazil\",\"Mexico\",\"Chile\",\"Venezuela\",\"Argentina\",\"Panama\",\"Peru\",\"Colombia\",\"Dominican Republic\"],\"legendgroup\":\"latin_america\",\"marker\":{\"color\":\"#ab63fa\",\"symbol\":\"circle\"},\"mode\":\"markers\",\"name\":\"latin_america\",\"orientation\":\"v\",\"showlegend\":true,\"x\":[213993441.0,130262220.0,19212362.0,28405543.0,45808747.0,4381583.0,33359416.0,51265841.0,10953714.0],\"xaxis\":\"x\",\"y\":[3.44,4.37,1.88,5.32,1.3,1.38,3.19,3.68,1.6],\"yaxis\":\"y\",\"type\":\"scatter\"},{\"hovertemplate\":\"<b>%{hovertext}</b><br><br>region=africa<br>Population (2021)=%{x}<br>Annual Ridership (millions)=%{y}<extra></extra>\",\"hovertext\":[\"Egypt\",\"Algeria\"],\"legendgroup\":\"africa\",\"marker\":{\"color\":\"#FFA15A\",\"symbol\":\"circle\"},\"mode\":\"markers\",\"name\":\"africa\",\"orientation\":\"v\",\"showlegend\":true,\"x\":[116538258.0,44616626.0],\"xaxis\":\"x\",\"y\":[0.0,2.4],\"yaxis\":\"y\",\"type\":\"scatter\"},{\"hovertemplate\":\"<b>%{hovertext}</b><br><br>region=australia<br>Population (2021)=%{x}<br>Annual Ridership (millions)=%{y}<extra></extra>\",\"hovertext\":[\"Australia\"],\"legendgroup\":\"australia\",\"marker\":{\"color\":\"#19d3f3\",\"symbol\":\"circle\"},\"mode\":\"markers\",\"name\":\"australia\",\"orientation\":\"v\",\"showlegend\":true,\"x\":[25739256.0],\"xaxis\":\"x\",\"y\":[0.35],\"yaxis\":\"y\",\"type\":\"scatter\"}],                        {\"template\":{\"data\":{\"histogram2dcontour\":[{\"type\":\"histogram2dcontour\",\"colorbar\":{\"outlinewidth\":0,\"ticks\":\"\"},\"colorscale\":[[0.0,\"#0d0887\"],[0.1111111111111111,\"#46039f\"],[0.2222222222222222,\"#7201a8\"],[0.3333333333333333,\"#9c179e\"],[0.4444444444444444,\"#bd3786\"],[0.5555555555555556,\"#d8576b\"],[0.6666666666666666,\"#ed7953\"],[0.7777777777777778,\"#fb9f3a\"],[0.8888888888888888,\"#fdca26\"],[1.0,\"#f0f921\"]]}],\"choropleth\":[{\"type\":\"choropleth\",\"colorbar\":{\"outlinewidth\":0,\"ticks\":\"\"}}],\"histogram2d\":[{\"type\":\"histogram2d\",\"colorbar\":{\"outlinewidth\":0,\"ticks\":\"\"},\"colorscale\":[[0.0,\"#0d0887\"],[0.1111111111111111,\"#46039f\"],[0.2222222222222222,\"#7201a8\"],[0.3333333333333333,\"#9c179e\"],[0.4444444444444444,\"#bd3786\"],[0.5555555555555556,\"#d8576b\"],[0.6666666666666666,\"#ed7953\"],[0.7777777777777778,\"#fb9f3a\"],[0.8888888888888888,\"#fdca26\"],[1.0,\"#f0f921\"]]}],\"heatmap\":[{\"type\":\"heatmap\",\"colorbar\":{\"outlinewidth\":0,\"ticks\":\"\"},\"colorscale\":[[0.0,\"#0d0887\"],[0.1111111111111111,\"#46039f\"],[0.2222222222222222,\"#7201a8\"],[0.3333333333333333,\"#9c179e\"],[0.4444444444444444,\"#bd3786\"],[0.5555555555555556,\"#d8576b\"],[0.6666666666666666,\"#ed7953\"],[0.7777777777777778,\"#fb9f3a\"],[0.8888888888888888,\"#fdca26\"],[1.0,\"#f0f921\"]]}],\"heatmapgl\":[{\"type\":\"heatmapgl\",\"colorbar\":{\"outlinewidth\":0,\"ticks\":\"\"},\"colorscale\":[[0.0,\"#0d0887\"],[0.1111111111111111,\"#46039f\"],[0.2222222222222222,\"#7201a8\"],[0.3333333333333333,\"#9c179e\"],[0.4444444444444444,\"#bd3786\"],[0.5555555555555556,\"#d8576b\"],[0.6666666666666666,\"#ed7953\"],[0.7777777777777778,\"#fb9f3a\"],[0.8888888888888888,\"#fdca26\"],[1.0,\"#f0f921\"]]}],\"contourcarpet\":[{\"type\":\"contourcarpet\",\"colorbar\":{\"outlinewidth\":0,\"ticks\":\"\"}}],\"contour\":[{\"type\":\"contour\",\"colorbar\":{\"outlinewidth\":0,\"ticks\":\"\"},\"colorscale\":[[0.0,\"#0d0887\"],[0.1111111111111111,\"#46039f\"],[0.2222222222222222,\"#7201a8\"],[0.3333333333333333,\"#9c179e\"],[0.4444444444444444,\"#bd3786\"],[0.5555555555555556,\"#d8576b\"],[0.6666666666666666,\"#ed7953\"],[0.7777777777777778,\"#fb9f3a\"],[0.8888888888888888,\"#fdca26\"],[1.0,\"#f0f921\"]]}],\"surface\":[{\"type\":\"surface\",\"colorbar\":{\"outlinewidth\":0,\"ticks\":\"\"},\"colorscale\":[[0.0,\"#0d0887\"],[0.1111111111111111,\"#46039f\"],[0.2222222222222222,\"#7201a8\"],[0.3333333333333333,\"#9c179e\"],[0.4444444444444444,\"#bd3786\"],[0.5555555555555556,\"#d8576b\"],[0.6666666666666666,\"#ed7953\"],[0.7777777777777778,\"#fb9f3a\"],[0.8888888888888888,\"#fdca26\"],[1.0,\"#f0f921\"]]}],\"mesh3d\":[{\"type\":\"mesh3d\",\"colorbar\":{\"outlinewidth\":0,\"ticks\":\"\"}}],\"scatter\":[{\"fillpattern\":{\"fillmode\":\"overlay\",\"size\":10,\"solidity\":0.2},\"type\":\"scatter\"}],\"parcoords\":[{\"type\":\"parcoords\",\"line\":{\"colorbar\":{\"outlinewidth\":0,\"ticks\":\"\"}}}],\"scatterpolargl\":[{\"type\":\"scatterpolargl\",\"marker\":{\"colorbar\":{\"outlinewidth\":0,\"ticks\":\"\"}}}],\"bar\":[{\"error_x\":{\"color\":\"#2a3f5f\"},\"error_y\":{\"color\":\"#2a3f5f\"},\"marker\":{\"line\":{\"color\":\"#E5ECF6\",\"width\":0.5},\"pattern\":{\"fillmode\":\"overlay\",\"size\":10,\"solidity\":0.2}},\"type\":\"bar\"}],\"scattergeo\":[{\"type\":\"scattergeo\",\"marker\":{\"colorbar\":{\"outlinewidth\":0,\"ticks\":\"\"}}}],\"scatterpolar\":[{\"type\":\"scatterpolar\",\"marker\":{\"colorbar\":{\"outlinewidth\":0,\"ticks\":\"\"}}}],\"histogram\":[{\"marker\":{\"pattern\":{\"fillmode\":\"overlay\",\"size\":10,\"solidity\":0.2}},\"type\":\"histogram\"}],\"scattergl\":[{\"type\":\"scattergl\",\"marker\":{\"colorbar\":{\"outlinewidth\":0,\"ticks\":\"\"}}}],\"scatter3d\":[{\"type\":\"scatter3d\",\"line\":{\"colorbar\":{\"outlinewidth\":0,\"ticks\":\"\"}},\"marker\":{\"colorbar\":{\"outlinewidth\":0,\"ticks\":\"\"}}}],\"scattermapbox\":[{\"type\":\"scattermapbox\",\"marker\":{\"colorbar\":{\"outlinewidth\":0,\"ticks\":\"\"}}}],\"scatterternary\":[{\"type\":\"scatterternary\",\"marker\":{\"colorbar\":{\"outlinewidth\":0,\"ticks\":\"\"}}}],\"scattercarpet\":[{\"type\":\"scattercarpet\",\"marker\":{\"colorbar\":{\"outlinewidth\":0,\"ticks\":\"\"}}}],\"carpet\":[{\"aaxis\":{\"endlinecolor\":\"#2a3f5f\",\"gridcolor\":\"white\",\"linecolor\":\"white\",\"minorgridcolor\":\"white\",\"startlinecolor\":\"#2a3f5f\"},\"baxis\":{\"endlinecolor\":\"#2a3f5f\",\"gridcolor\":\"white\",\"linecolor\":\"white\",\"minorgridcolor\":\"white\",\"startlinecolor\":\"#2a3f5f\"},\"type\":\"carpet\"}],\"table\":[{\"cells\":{\"fill\":{\"color\":\"#EBF0F8\"},\"line\":{\"color\":\"white\"}},\"header\":{\"fill\":{\"color\":\"#C8D4E3\"},\"line\":{\"color\":\"white\"}},\"type\":\"table\"}],\"barpolar\":[{\"marker\":{\"line\":{\"color\":\"#E5ECF6\",\"width\":0.5},\"pattern\":{\"fillmode\":\"overlay\",\"size\":10,\"solidity\":0.2}},\"type\":\"barpolar\"}],\"pie\":[{\"automargin\":true,\"type\":\"pie\"}]},\"layout\":{\"autotypenumbers\":\"strict\",\"colorway\":[\"#636efa\",\"#EF553B\",\"#00cc96\",\"#ab63fa\",\"#FFA15A\",\"#19d3f3\",\"#FF6692\",\"#B6E880\",\"#FF97FF\",\"#FECB52\"],\"font\":{\"color\":\"#2a3f5f\"},\"hovermode\":\"closest\",\"hoverlabel\":{\"align\":\"left\"},\"paper_bgcolor\":\"white\",\"plot_bgcolor\":\"#E5ECF6\",\"polar\":{\"bgcolor\":\"#E5ECF6\",\"angularaxis\":{\"gridcolor\":\"white\",\"linecolor\":\"white\",\"ticks\":\"\"},\"radialaxis\":{\"gridcolor\":\"white\",\"linecolor\":\"white\",\"ticks\":\"\"}},\"ternary\":{\"bgcolor\":\"#E5ECF6\",\"aaxis\":{\"gridcolor\":\"white\",\"linecolor\":\"white\",\"ticks\":\"\"},\"baxis\":{\"gridcolor\":\"white\",\"linecolor\":\"white\",\"ticks\":\"\"},\"caxis\":{\"gridcolor\":\"white\",\"linecolor\":\"white\",\"ticks\":\"\"}},\"coloraxis\":{\"colorbar\":{\"outlinewidth\":0,\"ticks\":\"\"}},\"colorscale\":{\"sequential\":[[0.0,\"#0d0887\"],[0.1111111111111111,\"#46039f\"],[0.2222222222222222,\"#7201a8\"],[0.3333333333333333,\"#9c179e\"],[0.4444444444444444,\"#bd3786\"],[0.5555555555555556,\"#d8576b\"],[0.6666666666666666,\"#ed7953\"],[0.7777777777777778,\"#fb9f3a\"],[0.8888888888888888,\"#fdca26\"],[1.0,\"#f0f921\"]],\"sequentialminus\":[[0.0,\"#0d0887\"],[0.1111111111111111,\"#46039f\"],[0.2222222222222222,\"#7201a8\"],[0.3333333333333333,\"#9c179e\"],[0.4444444444444444,\"#bd3786\"],[0.5555555555555556,\"#d8576b\"],[0.6666666666666666,\"#ed7953\"],[0.7777777777777778,\"#fb9f3a\"],[0.8888888888888888,\"#fdca26\"],[1.0,\"#f0f921\"]],\"diverging\":[[0,\"#8e0152\"],[0.1,\"#c51b7d\"],[0.2,\"#de77ae\"],[0.3,\"#f1b6da\"],[0.4,\"#fde0ef\"],[0.5,\"#f7f7f7\"],[0.6,\"#e6f5d0\"],[0.7,\"#b8e186\"],[0.8,\"#7fbc41\"],[0.9,\"#4d9221\"],[1,\"#276419\"]]},\"xaxis\":{\"gridcolor\":\"white\",\"linecolor\":\"white\",\"ticks\":\"\",\"title\":{\"standoff\":15},\"zerolinecolor\":\"white\",\"automargin\":true,\"zerolinewidth\":2},\"yaxis\":{\"gridcolor\":\"white\",\"linecolor\":\"white\",\"ticks\":\"\",\"title\":{\"standoff\":15},\"zerolinecolor\":\"white\",\"automargin\":true,\"zerolinewidth\":2},\"scene\":{\"xaxis\":{\"backgroundcolor\":\"#E5ECF6\",\"gridcolor\":\"white\",\"linecolor\":\"white\",\"showbackground\":true,\"ticks\":\"\",\"zerolinecolor\":\"white\",\"gridwidth\":2},\"yaxis\":{\"backgroundcolor\":\"#E5ECF6\",\"gridcolor\":\"white\",\"linecolor\":\"white\",\"showbackground\":true,\"ticks\":\"\",\"zerolinecolor\":\"white\",\"gridwidth\":2},\"zaxis\":{\"backgroundcolor\":\"#E5ECF6\",\"gridcolor\":\"white\",\"linecolor\":\"white\",\"showbackground\":true,\"ticks\":\"\",\"zerolinecolor\":\"white\",\"gridwidth\":2}},\"shapedefaults\":{\"line\":{\"color\":\"#2a3f5f\"}},\"annotationdefaults\":{\"arrowcolor\":\"#2a3f5f\",\"arrowhead\":0,\"arrowwidth\":1},\"geo\":{\"bgcolor\":\"white\",\"landcolor\":\"#E5ECF6\",\"subunitcolor\":\"white\",\"showland\":true,\"showlakes\":true,\"lakecolor\":\"white\"},\"title\":{\"x\":0.05},\"mapbox\":{\"style\":\"light\"}}},\"xaxis\":{\"anchor\":\"y\",\"domain\":[0.0,1.0],\"title\":{\"text\":\"Population (2021)\"}},\"yaxis\":{\"anchor\":\"x\",\"domain\":[0.0,1.0],\"title\":{\"text\":\"Annual Ridership (millions)\"}},\"legend\":{\"title\":{\"text\":\"region\"},\"tracegroupgap\":0},\"title\":{\"text\":\"Population vs Annual Ridership\"}},                        {\"responsive\": true}                    ).then(function(){\n",
       "                            \n",
       "var gd = document.getElementById('3117cd0c-3ec9-44b2-8db9-f42145f68861');\n",
       "var x = new MutationObserver(function (mutations, observer) {{\n",
       "        var display = window.getComputedStyle(gd).display;\n",
       "        if (!display || display === 'none') {{\n",
       "            console.log([gd, 'removed!']);\n",
       "            Plotly.purge(gd);\n",
       "            observer.disconnect();\n",
       "        }}\n",
       "}});\n",
       "\n",
       "// Listen for the removal of the full notebook cells\n",
       "var notebookContainer = gd.closest('#notebook-container');\n",
       "if (notebookContainer) {{\n",
       "    x.observe(notebookContainer, {childList: true});\n",
       "}}\n",
       "\n",
       "// Listen for the clearing of the current output cell\n",
       "var outputEl = gd.closest('.output');\n",
       "if (outputEl) {{\n",
       "    x.observe(outputEl, {childList: true});\n",
       "}}\n",
       "\n",
       "                        })                };                });            </script>        </div>"
      ]
     },
     "metadata": {},
     "output_type": "display_data"
    }
   ],
   "source": [
    "import plotly.express as px\n",
    "\n",
    "# Create a scatter plot\n",
    "fig = px.scatter(merged_data.dropna(), x='Population 2021', y='annual_ridership_mill',\n",
    "                 hover_name='country', color='region',\n",
    "                 labels={'Population 2021': 'Population (2021)', \n",
    "                         'annual_ridership_mill': 'Annual Ridership (millions)'},\n",
    "                 title='Population vs Annual Ridership')\n",
    "fig.show()"
   ]
  },
  {
   "cell_type": "markdown",
   "id": "5f24aade-fc9b-4525-bf49-7af561fc176c",
   "metadata": {},
   "source": [
    "This suggests that larger populations do not automatically translate into higher metro usage, similar to fare prices, this suggests that a larger population does not necessarily lead to higher ridership in metro systems. Factors such as urban density and public transport policies may be more influential."
   ]
  },
  {
   "cell_type": "code",
   "execution_count": null,
   "id": "d8318161-72e1-4405-955a-07a1a02af201",
   "metadata": {},
   "outputs": [],
   "source": []
  }
 ],
 "metadata": {
  "kernelspec": {
   "display_name": "Python 3 (ipykernel)",
   "language": "python",
   "name": "python3"
  },
  "language_info": {
   "codemirror_mode": {
    "name": "ipython",
    "version": 3
   },
   "file_extension": ".py",
   "mimetype": "text/x-python",
   "name": "python",
   "nbconvert_exporter": "python",
   "pygments_lexer": "ipython3",
   "version": "3.11.7"
  }
 },
 "nbformat": 4,
 "nbformat_minor": 5
}
